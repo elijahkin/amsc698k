{
 "cells": [
  {
   "cell_type": "markdown",
   "id": "bc728328",
   "metadata": {},
   "source": [
    "# AMSC698K Homework 10\n",
    "##### Elijah Kin & Noorain Noorani"
   ]
  },
  {
   "cell_type": "code",
   "execution_count": 1,
   "id": "f22f9e6e",
   "metadata": {},
   "outputs": [],
   "source": [
    "%%capture\n",
    "\n",
    "# Run VQE notebook to get Pauli decomposition function\n",
    "%run VQE_AHO.ipynb"
   ]
  },
  {
   "cell_type": "code",
   "execution_count": 2,
   "id": "5f14d18a",
   "metadata": {},
   "outputs": [],
   "source": [
    "import pennylane as qml\n",
    "from pennylane import numpy as np"
   ]
  },
  {
   "cell_type": "markdown",
   "id": "808d39c1",
   "metadata": {},
   "source": [
    "### Problem A\n",
    "1. The Hadamard Test circuit takes a qubit $q_0$, prepared as $|+\\rangle$, and state $|\\psi\\rangle \\in \\mathbb{C}^n$ and applies to it the controlled unitary CU. Describe how this test works and what the measurement of $q_0$ tells us about $U |\\psi\\rangle$. \n",
    "\n",
    "2. In the VQLS algorithm the Hadamard Test is applied in a modified form since two controlled unitaries are provided for the test. Describe how this test results in an \"overlap probability\" (or cosine similarity, a central measure in NLP)."
   ]
  },
  {
   "cell_type": "code",
   "execution_count": 3,
   "id": "776339b1",
   "metadata": {},
   "outputs": [],
   "source": [
    "# TODO"
   ]
  },
  {
   "cell_type": "markdown",
   "id": "b1e884e3",
   "metadata": {},
   "source": [
    "### Problem B\n",
    "1. Suppose a LSE, decomposed into quantum gates, is given by:\n",
    "$$ A = \\mathbb{I} + 0.2 X_0 Z_1 + 0.2 X_0; \\quad |b\\rangle = H_0 H_1 H_2 |0\\rangle $$\n",
    "Apply the VQLS algorithm and compare with classical solutions using $\\texttt{scipy.linalg.solve()}$ and $\\texttt{scipy.linalg.inv()}$."
   ]
  },
  {
   "cell_type": "code",
   "execution_count": 4,
   "id": "606380e4",
   "metadata": {},
   "outputs": [],
   "source": [
    "# Pennylane\n",
    "import pennylane as qml\n",
    "from pennylane import numpy as np\n",
    "\n",
    "# Plotting\n",
    "import matplotlib.pyplot as plt"
   ]
  },
  {
   "cell_type": "code",
   "execution_count": 5,
   "id": "e133e880",
   "metadata": {},
   "outputs": [],
   "source": [
    "n_qubits = 3  # Number of system qubits.\n",
    "n_shots = 10 ** 6  # Number of quantum measurements.\n",
    "tot_qubits = n_qubits + 1  # Addition of an ancillary qubit.\n",
    "ancilla_idx = n_qubits  # Index of the ancillary qubit (last position).\n",
    "steps = 30  # Number of optimization steps\n",
    "eta = 0.8  # Learning rate\n",
    "q_delta = 0.001  # Initial spread of random quantum weights\n",
    "rng_seed = 0  # Seed for random number generator"
   ]
  },
  {
   "cell_type": "code",
   "execution_count": 6,
   "id": "029c5f17",
   "metadata": {},
   "outputs": [],
   "source": [
    "# Coefficients of the linear combination A = c_0 A_0 + c_1 A_1 ...\n",
    "c = np.array([1.0, 0.2, 0.2])\n",
    "\n",
    "def U_b():\n",
    "    \"\"\"Unitary matrix rotating the ground state to the problem vector |b> = U_b |0>.\"\"\"\n",
    "    for idx in range(n_qubits):\n",
    "        qml.Hadamard(wires=idx)\n",
    "\n",
    "def CA(idx):\n",
    "    \"\"\"Controlled versions of the unitary components A_l of the problem matrix A.\"\"\"\n",
    "    if idx == 0:\n",
    "        # Identity operation\n",
    "        None\n",
    "\n",
    "    elif idx == 1:\n",
    "        qml.CNOT(wires=[ancilla_idx, 0])\n",
    "        qml.CZ(wires=[ancilla_idx, 1])\n",
    "\n",
    "    elif idx == 2:\n",
    "        qml.CNOT(wires=[ancilla_idx, 0])"
   ]
  },
  {
   "cell_type": "code",
   "execution_count": 7,
   "id": "365ffc82",
   "metadata": {},
   "outputs": [],
   "source": [
    "def variational_block(weights):\n",
    "    \"\"\"Variational circuit mapping the ground state |0> to the ansatz state |x>.\"\"\"\n",
    "    # We first prepare an equal superposition of all the states of the computational basis.\n",
    "    for idx in range(n_qubits):\n",
    "        qml.Hadamard(wires=idx)\n",
    "\n",
    "    # A very minimal variational circuit.\n",
    "    for idx, element in enumerate(weights):\n",
    "        qml.RY(element, wires=idx)"
   ]
  },
  {
   "cell_type": "code",
   "execution_count": 8,
   "id": "bed443a1",
   "metadata": {},
   "outputs": [],
   "source": [
    "dev_mu = qml.device(\"lightning.qubit\", wires=tot_qubits)\n",
    "\n",
    "@qml.qnode(dev_mu, interface=\"autograd\")\n",
    "def local_hadamard_test(weights, l=None, lp=None, j=None, part=None):\n",
    "\n",
    "    # First Hadamard gate applied to the ancillary qubit.\n",
    "    qml.Hadamard(wires=ancilla_idx)\n",
    "\n",
    "    # For estimating the imaginary part of the coefficient \"mu\", we must add a \"-i\"\n",
    "    # phase gate.\n",
    "    if part == \"Im\" or part == \"im\":\n",
    "        qml.PhaseShift(-np.pi / 2, wires=ancilla_idx)\n",
    "\n",
    "    # Variational circuit generating a guess for the solution vector |x>\n",
    "    variational_block(weights)\n",
    "\n",
    "    # Controlled application of the unitary component A_l of the problem matrix A.\n",
    "    CA(l)\n",
    "\n",
    "    # Adjoint of the unitary U_b associated to the problem vector |b>.\n",
    "    # In this specific example Adjoint(U_b) = U_b.\n",
    "    U_b()\n",
    "\n",
    "    # Controlled Z operator at position j. If j = -1, apply the identity.\n",
    "    if j != -1:\n",
    "        qml.CZ(wires=[ancilla_idx, j])\n",
    "\n",
    "    # Unitary U_b associated to the problem vector |b>.\n",
    "    U_b()\n",
    "\n",
    "    # Controlled application of Adjoint(A_lp).\n",
    "    # In this specific example Adjoint(A_lp) = A_lp.\n",
    "    CA(lp)\n",
    "\n",
    "    # Second Hadamard gate applied to the ancillary qubit.\n",
    "    qml.Hadamard(wires=ancilla_idx)\n",
    "\n",
    "    # Expectation value of Z for the ancillary qubit.\n",
    "    return qml.expval(qml.PauliZ(wires=ancilla_idx))"
   ]
  },
  {
   "cell_type": "code",
   "execution_count": 9,
   "id": "f485c055",
   "metadata": {},
   "outputs": [],
   "source": [
    "def mu(weights, l=None, lp=None, j=None):\n",
    "    \"\"\"Generates the coefficients to compute the \"local\" cost function C_L.\"\"\"\n",
    "\n",
    "    mu_real = local_hadamard_test(weights, l=l, lp=lp, j=j, part=\"Re\")\n",
    "    mu_imag = local_hadamard_test(weights, l=l, lp=lp, j=j, part=\"Im\")\n",
    "\n",
    "    return mu_real + 1.0j * mu_imag"
   ]
  },
  {
   "cell_type": "code",
   "execution_count": 10,
   "id": "b90c2c67",
   "metadata": {},
   "outputs": [],
   "source": [
    "def psi_norm(weights):\n",
    "    \"\"\"Returns the normalization constant <psi|psi>, where |psi> = A |x>.\"\"\"\n",
    "    norm = 0.0\n",
    "\n",
    "    for l in range(0, len(c)):\n",
    "        for lp in range(0, len(c)):\n",
    "            norm = norm + c[l] * np.conj(c[lp]) * mu(weights, l, lp, -1)\n",
    "\n",
    "    return abs(norm)"
   ]
  },
  {
   "cell_type": "code",
   "execution_count": 11,
   "id": "28600d49",
   "metadata": {},
   "outputs": [],
   "source": [
    "def cost_loc(weights):\n",
    "    \"\"\"Local version of the cost function. Tends to zero when A|x> is proportional to |b>.\"\"\"\n",
    "    mu_sum = 0.0\n",
    "\n",
    "    for l in range(0, len(c)):\n",
    "        for lp in range(0, len(c)):\n",
    "            for j in range(0, n_qubits):\n",
    "                mu_sum = mu_sum + c[l] * np.conj(c[lp]) * mu(weights, l, lp, j)\n",
    "\n",
    "    mu_sum = abs(mu_sum)\n",
    "\n",
    "    # Cost function C_L\n",
    "    return 0.5 - 0.5 * mu_sum / (n_qubits * psi_norm(weights))"
   ]
  },
  {
   "cell_type": "code",
   "execution_count": 12,
   "id": "5b8c2588",
   "metadata": {},
   "outputs": [
    {
     "name": "stdout",
     "output_type": "stream",
     "text": [
      "Step   0       Cost_L = 0.0089888\n",
      "Step   1       Cost_L = 0.0070072\n",
      "Step   2       Cost_L = 0.0054157\n",
      "Step   3       Cost_L = 0.0041528\n",
      "Step   4       Cost_L = 0.0031617\n",
      "Step   5       Cost_L = 0.0023917\n",
      "Step   6       Cost_L = 0.0017988\n",
      "Step   7       Cost_L = 0.0013461\n",
      "Step   8       Cost_L = 0.0010028\n",
      "Step   9       Cost_L = 0.0007442\n",
      "Step  10       Cost_L = 0.0005503\n",
      "Step  11       Cost_L = 0.0004058\n",
      "Step  12       Cost_L = 0.0002984\n",
      "Step  13       Cost_L = 0.0002190\n",
      "Step  14       Cost_L = 0.0001604\n",
      "Step  15       Cost_L = 0.0001173\n",
      "Step  16       Cost_L = 0.0000857\n",
      "Step  17       Cost_L = 0.0000625\n",
      "Step  18       Cost_L = 0.0000455\n",
      "Step  19       Cost_L = 0.0000331\n",
      "Step  20       Cost_L = 0.0000241\n",
      "Step  21       Cost_L = 0.0000175\n",
      "Step  22       Cost_L = 0.0000127\n",
      "Step  23       Cost_L = 0.0000092\n",
      "Step  24       Cost_L = 0.0000067\n",
      "Step  25       Cost_L = 0.0000049\n",
      "Step  26       Cost_L = 0.0000035\n",
      "Step  27       Cost_L = 0.0000026\n",
      "Step  28       Cost_L = 0.0000019\n",
      "Step  29       Cost_L = 0.0000013\n"
     ]
    }
   ],
   "source": [
    "np.random.seed(rng_seed)\n",
    "w = q_delta * np.random.randn(n_qubits, requires_grad=True)\n",
    "\n",
    "opt = qml.GradientDescentOptimizer(eta)\n",
    "\n",
    "cost_history = []\n",
    "for it in range(steps):\n",
    "    w, cost = opt.step_and_cost(cost_loc, w)\n",
    "    print(\"Step {:3d}       Cost_L = {:9.7f}\".format(it, cost))\n",
    "    cost_history.append(cost)"
   ]
  },
  {
   "cell_type": "code",
   "execution_count": 13,
   "id": "605a3794",
   "metadata": {},
   "outputs": [
    {
     "data": {
      "image/png": "[encoded data removed]",
      "text/plain": [
       "<Figure size 640x480 with 1 Axes>"
      ]
     },
     "metadata": {},
     "output_type": "display_data"
    }
   ],
   "source": [
    "plt.plot(cost_history, \"g\")\n",
    "plt.ylabel(\"Cost function\")\n",
    "plt.xlabel(\"Optimization steps\")\n",
    "plt.show()"
   ]
  },
  {
   "cell_type": "code",
   "execution_count": 14,
   "id": "1889ab7b",
   "metadata": {},
   "outputs": [],
   "source": [
    "# Classical comparison\n",
    "Id = np.identity(2)\n",
    "Z = np.array([[1, 0], [0, -1]])\n",
    "X = np.array([[0, 1], [1, 0]])\n",
    "\n",
    "A_0 = np.identity(8)\n",
    "A_1 = np.kron(np.kron(X, Z), Id)\n",
    "A_2 = np.kron(np.kron(X, Id), Id)\n",
    "\n",
    "A_num = c[0] * A_0 + c[1] * A_1 + c[2] * A_2\n",
    "b = np.ones(8) / np.sqrt(8)"
   ]
  },
  {
   "cell_type": "code",
   "execution_count": 15,
   "id": "7db3e229",
   "metadata": {},
   "outputs": [],
   "source": [
    "A_inv = np.linalg.inv(A_num)\n",
    "x = np.dot(A_inv, b)\n",
    "\n",
    "c_probs = (x / np.linalg.norm(x)) ** 2"
   ]
  },
  {
   "cell_type": "code",
   "execution_count": 16,
   "id": "a2388375",
   "metadata": {},
   "outputs": [],
   "source": [
    "dev_x = qml.device(\"lightning.qubit\", wires=n_qubits, shots=n_shots)\n",
    "\n",
    "@qml.qnode(dev_x, interface=\"autograd\")\n",
    "def prepare_and_sample(weights):\n",
    "\n",
    "    # Variational circuit generating a guess for the solution vector |x>\n",
    "    variational_block(weights)\n",
    "\n",
    "    # We assume that the system is measured in the computational basis.\n",
    "    # then sampling the device will give us a value of 0 or 1 for each qubit (n_qubits)\n",
    "    # this will be repeated for the total number of shots provided (n_shots)\n",
    "    return qml.sample()"
   ]
  },
  {
   "cell_type": "code",
   "execution_count": 17,
   "id": "722775e0",
   "metadata": {},
   "outputs": [],
   "source": [
    "raw_samples = prepare_and_sample(w)\n",
    "\n",
    "# convert the raw samples (bit strings) into integers and count them\n",
    "samples = []\n",
    "for sam in raw_samples:\n",
    "    samples.append(int(\"\".join(str(bs) for bs in sam), base=2))\n",
    "\n",
    "q_probs = np.bincount(samples) / n_shots"
   ]
  },
  {
   "cell_type": "code",
   "execution_count": 18,
   "id": "d30c4f32",
   "metadata": {},
   "outputs": [
    {
     "name": "stdout",
     "output_type": "stream",
     "text": [
      "x_n^2 =\n",
      " [0.084 0.084 0.166 0.166 0.084 0.084 0.166 0.166]\n",
      "|<x|n>|^2=\n",
      " [0.085 0.085 0.166 0.165 0.085 0.084 0.165 0.165]\n",
      "Norm: ||x_n^2 -  |<x|n>|^2||\n",
      " 0.0010081378402977434\n"
     ]
    }
   ],
   "source": [
    "import scipy.linalg as linalg\n",
    "\n",
    "print(\"x_n^2 =\\n\", c_probs)\n",
    "print(\"|<x|n>|^2=\\n\", q_probs)\n",
    "print(\"Norm: ||x_n^2 -  |<x|n>|^2||\\n\", linalg.norm(c_probs - q_probs))"
   ]
  },
  {
   "cell_type": "code",
   "execution_count": 19,
   "id": "9854cd5e",
   "metadata": {},
   "outputs": [
    {
     "data": {
      "image/png": "[encoded data removed]",
      "text/plain": [
       "<Figure size 640x480 with 1 Axes>"
      ]
     },
     "metadata": {},
     "output_type": "display_data"
    }
   ],
   "source": [
    "x = np.arange(2**n_qubits)\n",
    "width = 0.35  # Width of the bars\n",
    "\n",
    "plt.bar(x - width/2, c_probs, width, label='Classical')\n",
    "plt.bar(x + width/2, q_probs, width, label='Quantum')\n",
    "\n",
    "plt.xlabel('Basis states')\n",
    "plt.ylabel('Probability')\n",
    "plt.title('Classical vs Quantum Probabilities')\n",
    "plt.xticks(x)\n",
    "plt.legend()\n",
    "\n",
    "plt.tight_layout()\n",
    "plt.show()"
   ]
  },
  {
   "cell_type": "markdown",
   "id": "78830f62",
   "metadata": {},
   "source": [
    "2. (extra credit) Solve this problem using the HHL algorithm."
   ]
  },
  {
   "cell_type": "code",
   "execution_count": 20,
   "id": "fa241b9a",
   "metadata": {},
   "outputs": [],
   "source": [
    "# TODO"
   ]
  },
  {
   "cell_type": "markdown",
   "id": "f994826f",
   "metadata": {},
   "source": [
    "### Problem C\n",
    "Given the inhomogeneous linear system:\n",
    "$$ \\begin{align*} x_1 - x_2 + x_3 - x_4 &= 2 \\\\ x_1 - x_2 + x_3 + x_4 &= 0 \\\\ 4x_1 - 4x_2 + 4x_3 &= 4 \\\\ 2x_1 - 2x_2 + 2x_3 - x_4 &= 3 \\end{align*} $$\n",
    "Write this LSE in matrix form and decompose the coefficient matrix $A$ and vector $b$ to apply the VQLS algorithm and compare its result with the \"classical\" solutions."
   ]
  },
  {
   "cell_type": "code",
   "execution_count": 21,
   "id": "53fa38ac",
   "metadata": {},
   "outputs": [],
   "source": [
    "n_qubits = 2  # Number of system qubits.\n",
    "n_shots = 10 ** 6  # Number of quantum measurements.\n",
    "tot_qubits = n_qubits + 1  # Addition of an ancillary qubit.\n",
    "ancilla_idx = n_qubits  # Index of the ancillary qubit (last position).\n",
    "steps = 500  # Number of optimization steps\n",
    "eta = 1  # Learning rate\n",
    "q_delta = 0.001  # Initial spread of random quantum weights\n",
    "rng_seed = 626  # Seed for random number generator\n",
    "patience = 5"
   ]
  },
  {
   "cell_type": "code",
   "execution_count": 22,
   "id": "bbf4fa03",
   "metadata": {},
   "outputs": [
    {
     "name": "stdout",
     "output_type": "stream",
     "text": [
      "['0.75 * I^I', '0.5 * I^X', '-1j * I^Y', '1.75 * I^Z', '1 * X^I', '-0.5 * X^X', '-2j * X^Y', '1.5 * X^Z', '0.5j * Y^X', '-1 * Y^Y', '-1.5j * Y^Z', '-0.75 * Z^I', '-0.5 * Z^X', '-0.75 * Z^Z']\n"
     ]
    }
   ],
   "source": [
    "# Set up the matrix A and vector b to find their Pauli decompositions\n",
    "A = np.array([[1, -1, 1, -1],\n",
    "              [1, -1, 1, 1],\n",
    "              [4, -4, 4, 0],\n",
    "              [2, -2, 2, -1]])\n",
    "print(decompose_H_to_string(A))\n",
    "\n",
    "# b = np.array([[2],\n",
    "#               [0],\n",
    "#               [4],\n",
    "#               [3]])\n",
    "b = np.array([2,0,4,3])\n",
    "# print(decompose_H_to_string(b))"
   ]
  },
  {
   "cell_type": "markdown",
   "id": "c1b6a18e",
   "metadata": {},
   "source": [
    "Using $\\texttt{decompose\\_Pauli}$ from $\\texttt{VQE\\_AHO.ipynb}$, we find the decompositions\n",
    "\\begin{align*}\n",
    "  A &= 0.75 \\mathbb{I} + 0.5 X_0 - i Y_0 + 1.75 Z_0 + X_1 - 0.5 X_1X_0 - 2i X_1Y_0 + 1.5 X_1Z_0 \\\\\n",
    "  & \\quad + 0.5i Y_1X_0 - Y_1Y_0 - 1.5i Y_1Z_0 - 0.75 Z_1 - 0.5 Z_1X_0 - 0.75 Z_1Z_0 \\\\\n",
    "  b &= 0.5 \\mathbb{I} + 0.5 Z_0 + X_1 + 0.75 X_1X_0 - 0.75i X_1Y_0 + X_1Z_0 \\\\\n",
    "  & \\quad - iY_1 - 0.75iY_1X_0 - 0.75Y_1Y_0 - iY_1Z_0 + 0.5Z_1 + 0.5Z_1Z_0\n",
    "\\end{align*}"
   ]
  },
  {
   "cell_type": "code",
   "execution_count": 23,
   "id": "5b834c26",
   "metadata": {},
   "outputs": [],
   "source": [
    "# Id = np.identity(2)\n",
    "# Z = np.array([[1, 0], [0, -1]])\n",
    "# X = np.array([[0, 1], [1, 0]])\n",
    "# Y = np.array([[0,complex(0,1)],[-complex(0,1),0]])\n",
    "\n",
    "def Pauli_Decomposition(A, n_qubits):\n",
    "    Id = np.identity(2)\n",
    "    Z = np.array([[1, 0], [0, -1]])\n",
    "    X = np.array([[0, 1], [1, 0]])\n",
    "    Y = np.array([[0,complex(0,1)],[-complex(0,1),0]])\n",
    "    \n",
    "    gate_array = [Id,X,Y,Z]\n",
    "    \n",
    "    counter = 0\n",
    "    i = 0\n",
    "\n",
    "    combination = gate_array\n",
    "    temp_array = gate_array\n",
    "    \n",
    "    #Creating every combination of Pauli Unitary matrices\n",
    "    while counter < int(np.log2(len(A))) - 1:\n",
    "        combination = np.kron(combination, gate_array)\n",
    "        counter += 1\n",
    "        \n",
    "    final_array = np.zeros((len(A),len(A)), dtype=complex)\n",
    "    c = []\n",
    "\n",
    "    for i in range(len(combination)):\n",
    "        c_temp =  1/(len(A)) * np.matrix.trace(np.matmul(A,combination[i]))\n",
    "        final_array +=  c_temp * combination[i]\n",
    "        c.append(c_temp)\n",
    "        \n",
    "    import itertools\n",
    "    from itertools import product\n",
    "    \n",
    "    gate_names = list(product('IXYZ', repeat = n_qubits))\n",
    "    c_final = [i for i in c if i != 0]\n",
    "    gate_names_used = [gate_names[i] for i in range(len(c)) if c[i] != 0]\n",
    "    \n",
    "    return c_final, gate_names_used"
   ]
  },
  {
   "cell_type": "code",
   "execution_count": 24,
   "id": "d6d8f47c",
   "metadata": {},
   "outputs": [
    {
     "name": "stdout",
     "output_type": "stream",
     "text": [
      "Pauli Decomposition:  (0.75+0j) ('I', 'I')\n",
      "Pauli Decomposition:  (0.5+0j) ('I', 'X')\n",
      "Pauli Decomposition:  1j ('I', 'Y')\n",
      "Pauli Decomposition:  (1.75+0j) ('I', 'Z')\n",
      "Pauli Decomposition:  (1+0j) ('X', 'I')\n",
      "Pauli Decomposition:  (-0.5+0j) ('X', 'X')\n",
      "Pauli Decomposition:  2j ('X', 'Y')\n",
      "Pauli Decomposition:  (1.5+0j) ('X', 'Z')\n",
      "Pauli Decomposition:  -0.5j ('Y', 'X')\n",
      "Pauli Decomposition:  (-1+0j) ('Y', 'Y')\n",
      "Pauli Decomposition:  1.5j ('Y', 'Z')\n",
      "Pauli Decomposition:  (-0.75+0j) ('Z', 'I')\n",
      "Pauli Decomposition:  (-0.5+0j) ('Z', 'X')\n",
      "Pauli Decomposition:  (-0.75+0j) ('Z', 'Z')\n"
     ]
    }
   ],
   "source": [
    "c, c_gates = Pauli_Decomposition(A, n_qubits)\n",
    "# print(\"Coefficients: \", c)\n",
    "# print(\"Gates: \", c_gates)\n",
    "for i in range(len(c)):\n",
    "    # print(\"Coefficient: \", c[i])\n",
    "    # print(\"Gate: \", c_gates[i])\n",
    "    print(\"Pauli Decomposition: \", c[i], c_gates[i])"
   ]
  },
  {
   "cell_type": "code",
   "execution_count": null,
   "id": "e32bf16e",
   "metadata": {},
   "outputs": [],
   "source": [
    "def U_b(b=b/np.linalg.norm(b)):\n",
    "    \"\"\"Unitary matrix rotating the ground state to the problem vector |b> = U_b |0>.\"\"\"\n",
    "    #qml.AmplitudeEmbedding(features=b, wires=range(n_qubits), normalize=True)\n",
    "    #qml.BasisStatePreparation(b, wires=range(n_qubits))\n",
    "    qml.MottonenStatePreparation(state_vector=b, wires=range(n_qubits))\n",
    "\n",
    "    #return qml.expval(qml.PauliZ(0))\n",
    "    #for idx in range(n_qubits):\n",
    "    #    qml.Hadamard(wires=idx)\n",
    "\n",
    "def CA(idx, gates):\n",
    "    \"\"\"Controlled versions of the unitary components A_l of the problem matrix A.\"\"\"\n",
    "    # for i in range(gates.shape[0]):\n",
    "    for i in range(n_qubits):\n",
    "        print(i, gates[idx])\n",
    "        if gates[idx][i] == 'I':\n",
    "            None\n",
    "        elif gates[idx][i] == 'X':\n",
    "            qml.CNOT(wires=[ancilla_idx, i])\n",
    "        elif gates[idx][i] == 'Y':\n",
    "            qml.CY(wires=[ancilla_idx, i])\n",
    "        elif gates[idx][i] == 'Z':\n",
    "            qml.CZ(wires=[ancilla_idx, i])\n",
    "    \n",
    "    # if idx == 0:\n",
    "    #     # Identity operation\n",
    "    #     None\n",
    "\n",
    "    # elif idx == 1:\n",
    "    #     qml.CNOT(wires=[ancilla_idx, 0])\n",
    "    #     qml.CZ(wires=[ancilla_idx, 1])\n",
    "\n",
    "    # elif idx == 2:\n",
    "    #     qml.CNOT(wires=[ancilla_idx, 0])\n",
    "        \n",
    "    # elif idx == 3:\n",
    "    #     qml.CNOT(wires=[ancilla_idx, 1])"
   ]
  },
  {
   "cell_type": "code",
   "execution_count": null,
   "id": "f71e4046",
   "metadata": {},
   "outputs": [
    {
     "name": "stdout",
     "output_type": "stream",
     "text": [
      "0\n",
      "1\n"
     ]
    }
   ],
   "source": []
  },
  {
   "cell_type": "code",
   "execution_count": null,
   "id": "b12d71b4",
   "metadata": {},
   "outputs": [],
   "source": []
  },
  {
   "cell_type": "code",
   "execution_count": 27,
   "id": "6c33103c",
   "metadata": {},
   "outputs": [],
   "source": [
    "def variational_block(weights):\n",
    "    \"\"\"Variational circuit mapping the ground state |0> to the ansatz state |x>.\"\"\"\n",
    "    # We first prepare an equal superposition of all the states of the computational basis.\n",
    "    for idx in range(n_qubits):\n",
    "        qml.Hadamard(wires=idx)\n",
    "\n",
    "    # A very minimal variational circuit.\n",
    "    for idx, element in enumerate(weights):\n",
    "        qml.RY(element, wires=idx)\n",
    "        #qml.RY(element, wires=idx)"
   ]
  },
  {
   "cell_type": "markdown",
   "id": "35513f8a",
   "metadata": {},
   "source": [
    "#### Hadamard Test"
   ]
  },
  {
   "cell_type": "code",
   "execution_count": 28,
   "id": "82f912e4",
   "metadata": {},
   "outputs": [],
   "source": [
    "dev_mu = qml.device(\"default.qubit\", wires=tot_qubits)\n",
    "\n",
    "@qml.qnode(dev_mu)\n",
    "def local_hadamard_test(weights, l=None, lp=None, j=None, part=None, gates=c_gates):\n",
    "\n",
    "    # First Hadamard gate applied to the ancillary qubit.\n",
    "    qml.Hadamard(wires=ancilla_idx)\n",
    "\n",
    "    # For estimating the imaginary part of the coefficient \"mu\", we must add a \"-i\"\n",
    "    # phase gate.\n",
    "    if part == \"Im\" or part == \"im\":\n",
    "        qml.PhaseShift(-np.pi / 2, wires=ancilla_idx)\n",
    "\n",
    "    # Variational circuit generating a guess for the solution vector |x>\n",
    "    variational_block(weights)\n",
    "\n",
    "    # Controlled application of the unitary component A_l of the problem matrix A.\n",
    "    CA(l, gates)\n",
    "\n",
    "    # Adjoint of the unitary U_b associated to the problem vector |b>. \n",
    "    # In this specific example Adjoint(U_b) = U_b.\n",
    "    U_b()\n",
    "\n",
    "    # Controlled Z operator at position j. If j = -1, apply the identity.\n",
    "    if j != -1:\n",
    "        qml.CZ(wires=[ancilla_idx, j])\n",
    "\n",
    "    # Unitary U_b associated to the problem vector |b>.\n",
    "    U_b()\n",
    "\n",
    "    # Controlled application of Adjoint(A_lp).\n",
    "    # In this specific example Adjoint(A_lp) = A_lp.\n",
    "    CA(lp, gates)\n",
    "\n",
    "    # Second Hadamard gate applied to the ancillary qubit.\n",
    "    qml.Hadamard(wires=ancilla_idx)\n",
    "    \n",
    "    \n",
    "    # Expectation value of Z for the ancillary qubit.\n",
    "    return qml.expval(qml.PauliZ(wires=ancilla_idx))"
   ]
  },
  {
   "cell_type": "code",
   "execution_count": 29,
   "id": "d056ba50",
   "metadata": {},
   "outputs": [],
   "source": [
    "def mu(weights, l=None, lp=None, j=None, gates = c_gates):\n",
    "    \"\"\"Generates the coefficients to compute the \"local\" cost function C_L.\"\"\"\n",
    "\n",
    "    mu_real = local_hadamard_test(weights, l=l, lp=lp, j=j, gates = gates, part=\"Re\")\n",
    "    mu_imag = local_hadamard_test(weights, l=l, lp=lp, j=j, gates = gates, part=\"Im\")\n",
    "\n",
    "    return mu_real + 1.0j * mu_imag"
   ]
  },
  {
   "cell_type": "markdown",
   "id": "346053d5",
   "metadata": {},
   "source": [
    "#### Local Cost Function"
   ]
  },
  {
   "cell_type": "code",
   "execution_count": 30,
   "id": "99628826",
   "metadata": {},
   "outputs": [],
   "source": [
    "def psi_norm(weights):\n",
    "    \"\"\"Returns the normalization constant <psi|psi>, where |psi> = A |x>.\"\"\"\n",
    "    norm = 0.0\n",
    "\n",
    "    for l in range(0, len(c)):\n",
    "        for lp in range(0, len(c)):\n",
    "            norm = norm + c[l] * np.conj(c[lp]) * mu(weights, l, lp, -1)\n",
    "\n",
    "    return abs(norm)"
   ]
  },
  {
   "cell_type": "code",
   "execution_count": 31,
   "id": "2678749e",
   "metadata": {},
   "outputs": [],
   "source": [
    "def cost_loc(weights):\n",
    "    \"\"\"Local version of the cost function. Tends to zero when A|x> is proportional to |b>.\"\"\"\n",
    "    mu_sum = 0.0\n",
    "\n",
    "    for l in range(0, len(c)):\n",
    "        for lp in range(0, len(c)):\n",
    "            for j in range(0, n_qubits):\n",
    "                mu_sum = mu_sum + c[l] * np.conj(c[lp]) * mu(weights, l, lp, j, c_gates[lp])\n",
    "\n",
    "    mu_sum = abs(mu_sum)\n",
    "\n",
    "    # Cost function C_L\n",
    "    return 0.5 - 0.5 * mu_sum / (n_qubits * psi_norm(weights))"
   ]
  },
  {
   "cell_type": "markdown",
   "id": "98d3a5b9",
   "metadata": {},
   "source": [
    "#### Variational Optimization"
   ]
  },
  {
   "cell_type": "code",
   "execution_count": 32,
   "id": "b1fc3b41",
   "metadata": {},
   "outputs": [
    {
     "data": {
      "text/plain": [
       "tensor([ 0., -0.], requires_grad=True)"
      ]
     },
     "execution_count": 32,
     "metadata": {},
     "output_type": "execute_result"
    }
   ],
   "source": [
    "np.random.seed(rng_seed)\n",
    "w = q_delta * np.random.randn(n_qubits, requires_grad=True)\n",
    "w"
   ]
  },
  {
   "cell_type": "code",
   "execution_count": 33,
   "id": "bbd279c2",
   "metadata": {},
   "outputs": [],
   "source": [
    "opt = qml.GradientDescentOptimizer(eta)"
   ]
  },
  {
   "cell_type": "code",
   "execution_count": 34,
   "id": "a11638ff",
   "metadata": {},
   "outputs": [
    {
     "data": {
      "text/plain": [
       "tensor([ 0., -0.], requires_grad=True)"
      ]
     },
     "execution_count": 34,
     "metadata": {},
     "output_type": "execute_result"
    }
   ],
   "source": [
    "w"
   ]
  },
  {
   "cell_type": "code",
   "execution_count": 35,
   "id": "ef7a8dcb",
   "metadata": {},
   "outputs": [
    {
     "name": "stdout",
     "output_type": "stream",
     "text": [
      "0 I\n"
     ]
    },
    {
     "ename": "IndexError",
     "evalue": "string index out of range",
     "output_type": "error",
     "traceback": [
      "\u001b[0;31m---------------------------------------------------------------------------\u001b[0m",
      "\u001b[0;31mIndexError\u001b[0m                                Traceback (most recent call last)",
      "Cell \u001b[0;32mIn[35], line 3\u001b[0m\n\u001b[1;32m      1\u001b[0m cost_history \u001b[38;5;241m=\u001b[39m []\n\u001b[1;32m      2\u001b[0m \u001b[38;5;28;01mfor\u001b[39;00m it \u001b[38;5;129;01min\u001b[39;00m \u001b[38;5;28mrange\u001b[39m(steps):\n\u001b[0;32m----> 3\u001b[0m     w, cost \u001b[38;5;241m=\u001b[39m opt\u001b[38;5;241m.\u001b[39mstep_and_cost(cost_loc, w)\n\u001b[1;32m      4\u001b[0m     \u001b[38;5;28mprint\u001b[39m(\u001b[38;5;124m\"\u001b[39m\u001b[38;5;124mStep \u001b[39m\u001b[38;5;132;01m{:3d}\u001b[39;00m\u001b[38;5;124m       Cost_L = \u001b[39m\u001b[38;5;132;01m{:9.7f}\u001b[39;00m\u001b[38;5;124m\"\u001b[39m\u001b[38;5;241m.\u001b[39mformat(it, cost))\n\u001b[1;32m      5\u001b[0m     cost_history\u001b[38;5;241m.\u001b[39mappend(cost)\n",
      "File \u001b[0;32m/opt/anaconda3/lib/python3.12/site-packages/pennylane/optimize/gradient_descent.py:64\u001b[0m, in \u001b[0;36mGradientDescentOptimizer.step_and_cost\u001b[0;34m(self, objective_fn, grad_fn, *args, **kwargs)\u001b[0m\n\u001b[1;32m     44\u001b[0m \u001b[38;5;28;01mdef\u001b[39;00m \u001b[38;5;21mstep_and_cost\u001b[39m(\u001b[38;5;28mself\u001b[39m, objective_fn, \u001b[38;5;241m*\u001b[39margs, grad_fn\u001b[38;5;241m=\u001b[39m\u001b[38;5;28;01mNone\u001b[39;00m, \u001b[38;5;241m*\u001b[39m\u001b[38;5;241m*\u001b[39mkwargs):\n\u001b[1;32m     45\u001b[0m \u001b[38;5;250m    \u001b[39m\u001b[38;5;124;03m\"\"\"Update trainable arguments with one step of the optimizer and return the corresponding\u001b[39;00m\n\u001b[1;32m     46\u001b[0m \u001b[38;5;124;03m    objective function value prior to the step.\u001b[39;00m\n\u001b[1;32m     47\u001b[0m \n\u001b[0;32m   (...)\u001b[0m\n\u001b[1;32m     61\u001b[0m \u001b[38;5;124;03m        If single arg is provided, list [array] is replaced by array.\u001b[39;00m\n\u001b[1;32m     62\u001b[0m \u001b[38;5;124;03m    \"\"\"\u001b[39;00m\n\u001b[0;32m---> 64\u001b[0m     g, forward \u001b[38;5;241m=\u001b[39m \u001b[38;5;28mself\u001b[39m\u001b[38;5;241m.\u001b[39mcompute_grad(objective_fn, args, kwargs, grad_fn\u001b[38;5;241m=\u001b[39mgrad_fn)\n\u001b[1;32m     65\u001b[0m     new_args \u001b[38;5;241m=\u001b[39m \u001b[38;5;28mself\u001b[39m\u001b[38;5;241m.\u001b[39mapply_grad(g, args)\n\u001b[1;32m     67\u001b[0m     \u001b[38;5;28;01mif\u001b[39;00m forward \u001b[38;5;129;01mis\u001b[39;00m \u001b[38;5;28;01mNone\u001b[39;00m:\n",
      "File \u001b[0;32m/opt/anaconda3/lib/python3.12/site-packages/pennylane/optimize/gradient_descent.py:122\u001b[0m, in \u001b[0;36mGradientDescentOptimizer.compute_grad\u001b[0;34m(objective_fn, args, kwargs, grad_fn)\u001b[0m\n\u001b[1;32m    104\u001b[0m \u001b[38;5;250m\u001b[39m\u001b[38;5;124mr\u001b[39m\u001b[38;5;124;03m\"\"\"Compute the gradient of the objective function at the given point and return it along with\u001b[39;00m\n\u001b[1;32m    105\u001b[0m \u001b[38;5;124;03mthe objective function forward pass (if available).\u001b[39;00m\n\u001b[1;32m    106\u001b[0m \n\u001b[0;32m   (...)\u001b[0m\n\u001b[1;32m    119\u001b[0m \u001b[38;5;124;03m    will not be evaluated and instead ``None`` will be returned.\u001b[39;00m\n\u001b[1;32m    120\u001b[0m \u001b[38;5;124;03m\"\"\"\u001b[39;00m\n\u001b[1;32m    121\u001b[0m g \u001b[38;5;241m=\u001b[39m get_gradient(objective_fn) \u001b[38;5;28;01mif\u001b[39;00m grad_fn \u001b[38;5;129;01mis\u001b[39;00m \u001b[38;5;28;01mNone\u001b[39;00m \u001b[38;5;28;01melse\u001b[39;00m grad_fn\n\u001b[0;32m--> 122\u001b[0m grad \u001b[38;5;241m=\u001b[39m g(\u001b[38;5;241m*\u001b[39margs, \u001b[38;5;241m*\u001b[39m\u001b[38;5;241m*\u001b[39mkwargs)\n\u001b[1;32m    123\u001b[0m forward \u001b[38;5;241m=\u001b[39m \u001b[38;5;28mgetattr\u001b[39m(g, \u001b[38;5;124m\"\u001b[39m\u001b[38;5;124mforward\u001b[39m\u001b[38;5;124m\"\u001b[39m, \u001b[38;5;28;01mNone\u001b[39;00m)\n\u001b[1;32m    125\u001b[0m num_trainable_args \u001b[38;5;241m=\u001b[39m \u001b[38;5;28msum\u001b[39m(\u001b[38;5;28mgetattr\u001b[39m(arg, \u001b[38;5;124m\"\u001b[39m\u001b[38;5;124mrequires_grad\u001b[39m\u001b[38;5;124m\"\u001b[39m, \u001b[38;5;28;01mFalse\u001b[39;00m) \u001b[38;5;28;01mfor\u001b[39;00m arg \u001b[38;5;129;01min\u001b[39;00m args)\n",
      "File \u001b[0;32m/opt/anaconda3/lib/python3.12/site-packages/pennylane/_grad.py:224\u001b[0m, in \u001b[0;36mgrad.__call__\u001b[0;34m(self, *args, **kwargs)\u001b[0m\n\u001b[1;32m    221\u001b[0m     \u001b[38;5;28mself\u001b[39m\u001b[38;5;241m.\u001b[39m_forward \u001b[38;5;241m=\u001b[39m \u001b[38;5;28mself\u001b[39m\u001b[38;5;241m.\u001b[39m_fun(\u001b[38;5;241m*\u001b[39margs, \u001b[38;5;241m*\u001b[39m\u001b[38;5;241m*\u001b[39mkwargs)\n\u001b[1;32m    222\u001b[0m     \u001b[38;5;28;01mreturn\u001b[39;00m ()\n\u001b[0;32m--> 224\u001b[0m grad_value, ans \u001b[38;5;241m=\u001b[39m grad_fn(\u001b[38;5;241m*\u001b[39margs, \u001b[38;5;241m*\u001b[39m\u001b[38;5;241m*\u001b[39mkwargs)  \u001b[38;5;66;03m# pylint: disable=not-callable\u001b[39;00m\n\u001b[1;32m    225\u001b[0m \u001b[38;5;28mself\u001b[39m\u001b[38;5;241m.\u001b[39m_forward \u001b[38;5;241m=\u001b[39m ans\n\u001b[1;32m    227\u001b[0m \u001b[38;5;28;01mreturn\u001b[39;00m grad_value\n",
      "File \u001b[0;32m/opt/anaconda3/lib/python3.12/site-packages/autograd/wrap_util.py:20\u001b[0m, in \u001b[0;36munary_to_nary.<locals>.nary_operator.<locals>.nary_f\u001b[0;34m(*args, **kwargs)\u001b[0m\n\u001b[1;32m     18\u001b[0m \u001b[38;5;28;01melse\u001b[39;00m:\n\u001b[1;32m     19\u001b[0m     x \u001b[38;5;241m=\u001b[39m \u001b[38;5;28mtuple\u001b[39m(args[i] \u001b[38;5;28;01mfor\u001b[39;00m i \u001b[38;5;129;01min\u001b[39;00m argnum)\n\u001b[0;32m---> 20\u001b[0m \u001b[38;5;28;01mreturn\u001b[39;00m unary_operator(unary_f, x, \u001b[38;5;241m*\u001b[39mnary_op_args, \u001b[38;5;241m*\u001b[39m\u001b[38;5;241m*\u001b[39mnary_op_kwargs)\n",
      "File \u001b[0;32m/opt/anaconda3/lib/python3.12/site-packages/pennylane/_grad.py:242\u001b[0m, in \u001b[0;36mgrad._grad_with_forward\u001b[0;34m(fun, x)\u001b[0m\n\u001b[1;32m    236\u001b[0m \u001b[38;5;129m@staticmethod\u001b[39m\n\u001b[1;32m    237\u001b[0m \u001b[38;5;129m@unary_to_nary\u001b[39m\n\u001b[1;32m    238\u001b[0m \u001b[38;5;28;01mdef\u001b[39;00m \u001b[38;5;21m_grad_with_forward\u001b[39m(fun, x):\n\u001b[1;32m    239\u001b[0m \u001b[38;5;250m    \u001b[39m\u001b[38;5;124;03m\"\"\"This function is a replica of ``autograd.grad``, with the only\u001b[39;00m\n\u001b[1;32m    240\u001b[0m \u001b[38;5;124;03m    difference being that it returns both the gradient *and* the forward pass\u001b[39;00m\n\u001b[1;32m    241\u001b[0m \u001b[38;5;124;03m    value.\"\"\"\u001b[39;00m\n\u001b[0;32m--> 242\u001b[0m     vjp, ans \u001b[38;5;241m=\u001b[39m _make_vjp(fun, x)  \u001b[38;5;66;03m# pylint: disable=redefined-outer-name\u001b[39;00m\n\u001b[1;32m    244\u001b[0m     \u001b[38;5;28;01mif\u001b[39;00m vspace(ans)\u001b[38;5;241m.\u001b[39msize \u001b[38;5;241m!=\u001b[39m \u001b[38;5;241m1\u001b[39m:\n\u001b[1;32m    245\u001b[0m         \u001b[38;5;28;01mraise\u001b[39;00m \u001b[38;5;167;01mTypeError\u001b[39;00m(\n\u001b[1;32m    246\u001b[0m             \u001b[38;5;124m\"\u001b[39m\u001b[38;5;124mGrad only applies to real scalar-output functions. \u001b[39m\u001b[38;5;124m\"\u001b[39m\n\u001b[1;32m    247\u001b[0m             \u001b[38;5;124m\"\u001b[39m\u001b[38;5;124mTry jacobian, elementwise_grad or holomorphic_grad.\u001b[39m\u001b[38;5;124m\"\u001b[39m\n\u001b[1;32m    248\u001b[0m         )\n",
      "File \u001b[0;32m/opt/anaconda3/lib/python3.12/site-packages/autograd/core.py:10\u001b[0m, in \u001b[0;36mmake_vjp\u001b[0;34m(fun, x)\u001b[0m\n\u001b[1;32m      8\u001b[0m \u001b[38;5;28;01mdef\u001b[39;00m \u001b[38;5;21mmake_vjp\u001b[39m(fun, x):\n\u001b[1;32m      9\u001b[0m     start_node \u001b[38;5;241m=\u001b[39m VJPNode\u001b[38;5;241m.\u001b[39mnew_root()\n\u001b[0;32m---> 10\u001b[0m     end_value, end_node \u001b[38;5;241m=\u001b[39m  trace(start_node, fun, x)\n\u001b[1;32m     11\u001b[0m     \u001b[38;5;28;01mif\u001b[39;00m end_node \u001b[38;5;129;01mis\u001b[39;00m \u001b[38;5;28;01mNone\u001b[39;00m:\n\u001b[1;32m     12\u001b[0m         \u001b[38;5;28;01mdef\u001b[39;00m \u001b[38;5;21mvjp\u001b[39m(g): \u001b[38;5;28;01mreturn\u001b[39;00m vspace(x)\u001b[38;5;241m.\u001b[39mzeros()\n",
      "File \u001b[0;32m/opt/anaconda3/lib/python3.12/site-packages/autograd/tracer.py:10\u001b[0m, in \u001b[0;36mtrace\u001b[0;34m(start_node, fun, x)\u001b[0m\n\u001b[1;32m      8\u001b[0m \u001b[38;5;28;01mwith\u001b[39;00m trace_stack\u001b[38;5;241m.\u001b[39mnew_trace() \u001b[38;5;28;01mas\u001b[39;00m t:\n\u001b[1;32m      9\u001b[0m     start_box \u001b[38;5;241m=\u001b[39m new_box(x, t, start_node)\n\u001b[0;32m---> 10\u001b[0m     end_box \u001b[38;5;241m=\u001b[39m fun(start_box)\n\u001b[1;32m     11\u001b[0m     \u001b[38;5;28;01mif\u001b[39;00m isbox(end_box) \u001b[38;5;129;01mand\u001b[39;00m end_box\u001b[38;5;241m.\u001b[39m_trace \u001b[38;5;241m==\u001b[39m start_box\u001b[38;5;241m.\u001b[39m_trace:\n\u001b[1;32m     12\u001b[0m         \u001b[38;5;28;01mreturn\u001b[39;00m end_box\u001b[38;5;241m.\u001b[39m_value, end_box\u001b[38;5;241m.\u001b[39m_node\n",
      "File \u001b[0;32m/opt/anaconda3/lib/python3.12/site-packages/autograd/wrap_util.py:15\u001b[0m, in \u001b[0;36munary_to_nary.<locals>.nary_operator.<locals>.nary_f.<locals>.unary_f\u001b[0;34m(x)\u001b[0m\n\u001b[1;32m     13\u001b[0m \u001b[38;5;28;01melse\u001b[39;00m:\n\u001b[1;32m     14\u001b[0m     subargs \u001b[38;5;241m=\u001b[39m subvals(args, \u001b[38;5;28mzip\u001b[39m(argnum, x))\n\u001b[0;32m---> 15\u001b[0m \u001b[38;5;28;01mreturn\u001b[39;00m fun(\u001b[38;5;241m*\u001b[39msubargs, \u001b[38;5;241m*\u001b[39m\u001b[38;5;241m*\u001b[39mkwargs)\n",
      "Cell \u001b[0;32mIn[31], line 8\u001b[0m, in \u001b[0;36mcost_loc\u001b[0;34m(weights)\u001b[0m\n\u001b[1;32m      6\u001b[0m     \u001b[38;5;28;01mfor\u001b[39;00m lp \u001b[38;5;129;01min\u001b[39;00m \u001b[38;5;28mrange\u001b[39m(\u001b[38;5;241m0\u001b[39m, \u001b[38;5;28mlen\u001b[39m(c)):\n\u001b[1;32m      7\u001b[0m         \u001b[38;5;28;01mfor\u001b[39;00m j \u001b[38;5;129;01min\u001b[39;00m \u001b[38;5;28mrange\u001b[39m(\u001b[38;5;241m0\u001b[39m, n_qubits):\n\u001b[0;32m----> 8\u001b[0m             mu_sum \u001b[38;5;241m=\u001b[39m mu_sum \u001b[38;5;241m+\u001b[39m c[l] \u001b[38;5;241m*\u001b[39m np\u001b[38;5;241m.\u001b[39mconj(c[lp]) \u001b[38;5;241m*\u001b[39m mu(weights, l, lp, j, c_gates[lp])\n\u001b[1;32m     10\u001b[0m mu_sum \u001b[38;5;241m=\u001b[39m \u001b[38;5;28mabs\u001b[39m(mu_sum)\n\u001b[1;32m     12\u001b[0m \u001b[38;5;66;03m# Cost function C_L\u001b[39;00m\n",
      "Cell \u001b[0;32mIn[29], line 4\u001b[0m, in \u001b[0;36mmu\u001b[0;34m(weights, l, lp, j, gates)\u001b[0m\n\u001b[1;32m      1\u001b[0m \u001b[38;5;28;01mdef\u001b[39;00m \u001b[38;5;21mmu\u001b[39m(weights, l\u001b[38;5;241m=\u001b[39m\u001b[38;5;28;01mNone\u001b[39;00m, lp\u001b[38;5;241m=\u001b[39m\u001b[38;5;28;01mNone\u001b[39;00m, j\u001b[38;5;241m=\u001b[39m\u001b[38;5;28;01mNone\u001b[39;00m, gates \u001b[38;5;241m=\u001b[39m c_gates):\n\u001b[1;32m      2\u001b[0m \u001b[38;5;250m    \u001b[39m\u001b[38;5;124;03m\"\"\"Generates the coefficients to compute the \"local\" cost function C_L.\"\"\"\u001b[39;00m\n\u001b[0;32m----> 4\u001b[0m     mu_real \u001b[38;5;241m=\u001b[39m local_hadamard_test(weights, l\u001b[38;5;241m=\u001b[39ml, lp\u001b[38;5;241m=\u001b[39mlp, j\u001b[38;5;241m=\u001b[39mj, gates \u001b[38;5;241m=\u001b[39m gates, part\u001b[38;5;241m=\u001b[39m\u001b[38;5;124m\"\u001b[39m\u001b[38;5;124mRe\u001b[39m\u001b[38;5;124m\"\u001b[39m)\n\u001b[1;32m      5\u001b[0m     mu_imag \u001b[38;5;241m=\u001b[39m local_hadamard_test(weights, l\u001b[38;5;241m=\u001b[39ml, lp\u001b[38;5;241m=\u001b[39mlp, j\u001b[38;5;241m=\u001b[39mj, gates \u001b[38;5;241m=\u001b[39m gates, part\u001b[38;5;241m=\u001b[39m\u001b[38;5;124m\"\u001b[39m\u001b[38;5;124mIm\u001b[39m\u001b[38;5;124m\"\u001b[39m)\n\u001b[1;32m      7\u001b[0m     \u001b[38;5;28;01mreturn\u001b[39;00m mu_real \u001b[38;5;241m+\u001b[39m \u001b[38;5;241m1.0\u001b[39mj \u001b[38;5;241m*\u001b[39m mu_imag\n",
      "File \u001b[0;32m/opt/anaconda3/lib/python3.12/site-packages/pennylane/workflow/qnode.py:987\u001b[0m, in \u001b[0;36mQNode.__call__\u001b[0;34m(self, *args, **kwargs)\u001b[0m\n\u001b[1;32m    985\u001b[0m \u001b[38;5;28;01mif\u001b[39;00m qml\u001b[38;5;241m.\u001b[39mcapture\u001b[38;5;241m.\u001b[39menabled():\n\u001b[1;32m    986\u001b[0m     \u001b[38;5;28;01mreturn\u001b[39;00m qml\u001b[38;5;241m.\u001b[39mcapture\u001b[38;5;241m.\u001b[39mqnode_call(\u001b[38;5;28mself\u001b[39m, \u001b[38;5;241m*\u001b[39margs, \u001b[38;5;241m*\u001b[39m\u001b[38;5;241m*\u001b[39mkwargs)\n\u001b[0;32m--> 987\u001b[0m \u001b[38;5;28;01mreturn\u001b[39;00m \u001b[38;5;28mself\u001b[39m\u001b[38;5;241m.\u001b[39m_impl_call(\u001b[38;5;241m*\u001b[39margs, \u001b[38;5;241m*\u001b[39m\u001b[38;5;241m*\u001b[39mkwargs)\n",
      "File \u001b[0;32m/opt/anaconda3/lib/python3.12/site-packages/pennylane/workflow/qnode.py:963\u001b[0m, in \u001b[0;36mQNode._impl_call\u001b[0;34m(self, *args, **kwargs)\u001b[0m\n\u001b[1;32m    960\u001b[0m \u001b[38;5;28;01mdef\u001b[39;00m \u001b[38;5;21m_impl_call\u001b[39m(\u001b[38;5;28mself\u001b[39m, \u001b[38;5;241m*\u001b[39margs, \u001b[38;5;241m*\u001b[39m\u001b[38;5;241m*\u001b[39mkwargs) \u001b[38;5;241m-\u001b[39m\u001b[38;5;241m>\u001b[39m qml\u001b[38;5;241m.\u001b[39mtyping\u001b[38;5;241m.\u001b[39mResult:\n\u001b[1;32m    961\u001b[0m \n\u001b[1;32m    962\u001b[0m     \u001b[38;5;66;03m# construct the tape\u001b[39;00m\n\u001b[0;32m--> 963\u001b[0m     \u001b[38;5;28mself\u001b[39m\u001b[38;5;241m.\u001b[39mconstruct(args, kwargs)\n\u001b[1;32m    965\u001b[0m     old_interface \u001b[38;5;241m=\u001b[39m \u001b[38;5;28mself\u001b[39m\u001b[38;5;241m.\u001b[39minterface\n\u001b[1;32m    966\u001b[0m     \u001b[38;5;28;01mif\u001b[39;00m old_interface \u001b[38;5;241m==\u001b[39m \u001b[38;5;124m\"\u001b[39m\u001b[38;5;124mauto\u001b[39m\u001b[38;5;124m\"\u001b[39m:\n",
      "File \u001b[0;32m/opt/anaconda3/lib/python3.12/site-packages/pennylane/logging/decorators.py:61\u001b[0m, in \u001b[0;36mlog_string_debug_func.<locals>.wrapper_entry\u001b[0;34m(*args, **kwargs)\u001b[0m\n\u001b[1;32m     54\u001b[0m     s_caller \u001b[38;5;241m=\u001b[39m \u001b[38;5;124m\"\u001b[39m\u001b[38;5;124m::L\u001b[39m\u001b[38;5;124m\"\u001b[39m\u001b[38;5;241m.\u001b[39mjoin(\n\u001b[1;32m     55\u001b[0m         [\u001b[38;5;28mstr\u001b[39m(i) \u001b[38;5;28;01mfor\u001b[39;00m i \u001b[38;5;129;01min\u001b[39;00m inspect\u001b[38;5;241m.\u001b[39mgetouterframes(inspect\u001b[38;5;241m.\u001b[39mcurrentframe(), \u001b[38;5;241m2\u001b[39m)[\u001b[38;5;241m1\u001b[39m][\u001b[38;5;241m1\u001b[39m:\u001b[38;5;241m3\u001b[39m]]\n\u001b[1;32m     56\u001b[0m     )\n\u001b[1;32m     57\u001b[0m     lgr\u001b[38;5;241m.\u001b[39mdebug(\n\u001b[1;32m     58\u001b[0m         \u001b[38;5;124mf\u001b[39m\u001b[38;5;124m\"\u001b[39m\u001b[38;5;124mCalling \u001b[39m\u001b[38;5;132;01m{\u001b[39;00mf_string\u001b[38;5;132;01m}\u001b[39;00m\u001b[38;5;124m from \u001b[39m\u001b[38;5;132;01m{\u001b[39;00ms_caller\u001b[38;5;132;01m}\u001b[39;00m\u001b[38;5;124m\"\u001b[39m,\n\u001b[1;32m     59\u001b[0m         \u001b[38;5;241m*\u001b[39m\u001b[38;5;241m*\u001b[39m_debug_log_kwargs,\n\u001b[1;32m     60\u001b[0m     )\n\u001b[0;32m---> 61\u001b[0m \u001b[38;5;28;01mreturn\u001b[39;00m func(\u001b[38;5;241m*\u001b[39margs, \u001b[38;5;241m*\u001b[39m\u001b[38;5;241m*\u001b[39mkwargs)\n",
      "File \u001b[0;32m/opt/anaconda3/lib/python3.12/site-packages/pennylane/workflow/qnode.py:857\u001b[0m, in \u001b[0;36mQNode.construct\u001b[0;34m(self, args, kwargs)\u001b[0m\n\u001b[1;32m    855\u001b[0m \u001b[38;5;28;01mwith\u001b[39;00m pldb_device_manager(\u001b[38;5;28mself\u001b[39m\u001b[38;5;241m.\u001b[39mdevice):\n\u001b[1;32m    856\u001b[0m     \u001b[38;5;28;01mwith\u001b[39;00m qml\u001b[38;5;241m.\u001b[39mqueuing\u001b[38;5;241m.\u001b[39mAnnotatedQueue() \u001b[38;5;28;01mas\u001b[39;00m q:\n\u001b[0;32m--> 857\u001b[0m         \u001b[38;5;28mself\u001b[39m\u001b[38;5;241m.\u001b[39m_qfunc_output \u001b[38;5;241m=\u001b[39m \u001b[38;5;28mself\u001b[39m\u001b[38;5;241m.\u001b[39mfunc(\u001b[38;5;241m*\u001b[39margs, \u001b[38;5;241m*\u001b[39m\u001b[38;5;241m*\u001b[39mkwargs)\n\u001b[1;32m    859\u001b[0m \u001b[38;5;28mself\u001b[39m\u001b[38;5;241m.\u001b[39m_tape \u001b[38;5;241m=\u001b[39m QuantumScript\u001b[38;5;241m.\u001b[39mfrom_queue(q, shots)\n\u001b[1;32m    861\u001b[0m params \u001b[38;5;241m=\u001b[39m \u001b[38;5;28mself\u001b[39m\u001b[38;5;241m.\u001b[39mtape\u001b[38;5;241m.\u001b[39mget_parameters(trainable_only\u001b[38;5;241m=\u001b[39m\u001b[38;5;28;01mFalse\u001b[39;00m)\n",
      "Cell \u001b[0;32mIn[28], line 18\u001b[0m, in \u001b[0;36mlocal_hadamard_test\u001b[0;34m(weights, l, lp, j, part, gates)\u001b[0m\n\u001b[1;32m     15\u001b[0m variational_block(weights)\n\u001b[1;32m     17\u001b[0m \u001b[38;5;66;03m# Controlled application of the unitary component A_l of the problem matrix A.\u001b[39;00m\n\u001b[0;32m---> 18\u001b[0m CA(l, gates)\n\u001b[1;32m     20\u001b[0m \u001b[38;5;66;03m# Adjoint of the unitary U_b associated to the problem vector |b>. \u001b[39;00m\n\u001b[1;32m     21\u001b[0m \u001b[38;5;66;03m# In this specific example Adjoint(U_b) = U_b.\u001b[39;00m\n\u001b[1;32m     22\u001b[0m U_b()\n",
      "Cell \u001b[0;32mIn[25], line 15\u001b[0m, in \u001b[0;36mCA\u001b[0;34m(idx, gates)\u001b[0m\n\u001b[1;32m     13\u001b[0m \u001b[38;5;66;03m# for i in range(gates.shape[0]):\u001b[39;00m\n\u001b[1;32m     14\u001b[0m \u001b[38;5;28;01mfor\u001b[39;00m i \u001b[38;5;129;01min\u001b[39;00m \u001b[38;5;28mrange\u001b[39m(n_qubits):\n\u001b[0;32m---> 15\u001b[0m     \u001b[38;5;28mprint\u001b[39m(i, gates[idx][i])\n\u001b[1;32m     16\u001b[0m     \u001b[38;5;28;01mif\u001b[39;00m gates[idx][i] \u001b[38;5;241m==\u001b[39m \u001b[38;5;124m'\u001b[39m\u001b[38;5;124mI\u001b[39m\u001b[38;5;124m'\u001b[39m:\n\u001b[1;32m     17\u001b[0m         \u001b[38;5;28;01mNone\u001b[39;00m\n",
      "\u001b[0;31mIndexError\u001b[0m: string index out of range"
     ]
    }
   ],
   "source": [
    "cost_history = []\n",
    "for it in range(steps):\n",
    "    w, cost = opt.step_and_cost(cost_loc, w)\n",
    "    print(\"Step {:3d}       Cost_L = {:9.7f}\".format(it, cost))\n",
    "    cost_history.append(cost)"
   ]
  }
 ],
 "metadata": {
  "kernelspec": {
   "display_name": "base",
   "language": "python",
   "name": "python3"
  },
  "language_info": {
   "codemirror_mode": {
    "name": "ipython",
    "version": 3
   },
   "file_extension": ".py",
   "mimetype": "text/x-python",
   "name": "python",
   "nbconvert_exporter": "python",
   "pygments_lexer": "ipython3",
   "version": "3.12.4"
  }
 },
 "nbformat": 4,
 "nbformat_minor": 5
}
