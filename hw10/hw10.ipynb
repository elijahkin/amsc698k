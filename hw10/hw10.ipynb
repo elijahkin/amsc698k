{
 "cells": [
  {
   "cell_type": "markdown",
   "id": "bc728328",
   "metadata": {},
   "source": [
    "# AMSC698K Homework 10\n",
    "##### Elijah Kin & Noorain Noorani"
   ]
  },
  {
   "cell_type": "code",
   "execution_count": null,
   "id": "ab64794b",
   "metadata": {},
   "outputs": [],
   "source": [
    "# TODO"
   ]
  },
  {
   "cell_type": "markdown",
   "id": "808d39c1",
   "metadata": {},
   "source": [
    "### Problem A\n",
    "1. The Hadamard Test circuit takes a qubit $q_0$, prepared as $|+\\rangle$, and state $|\\psi\\rangle \\in \\mathbb{C}^n$ and applies to it the controlled unitary CU. Describe how this test works and what the measurement of $q_0$ tells us about $U |\\psi\\rangle$. \n",
    "\n",
    "2. In the VQLS algorithm the Hadamard Test is applied in a modified form since two controlled unitaries are provided for the test. Describe how this test results in an \"overlap probability\" (or cosine similarity, a central measure in NLP)."
   ]
  },
  {
   "cell_type": "code",
   "execution_count": null,
   "id": "776339b1",
   "metadata": {},
   "outputs": [],
   "source": [
    "# TODO"
   ]
  },
  {
   "cell_type": "markdown",
   "id": "b1e884e3",
   "metadata": {},
   "source": [
    "### Problem B\n",
    "1. Suppose a LSE, decomposed into quantum gates, is given by:\n",
    "$$ A = \\mathbb{I} + 0.2 X_0 Z_1 + 0.2 X_0; \\quad |b\\rangle = H_0 H_1 H_2 |0\\rangle $$\n",
    "Apply the VQLS algorithm and compare with classical solutions using $\\texttt{scipy.linalg.solve()}$ and $\\texttt{scipy.linalg.inv()}$.\n",
    "\n",
    "2. (extra credit - 30pts) Solve this problem using the HHL algorithm."
   ]
  },
  {
   "cell_type": "code",
   "execution_count": null,
   "id": "fa241b9a",
   "metadata": {},
   "outputs": [],
   "source": [
    "# TODO"
   ]
  },
  {
   "cell_type": "markdown",
   "id": "f994826f",
   "metadata": {},
   "source": [
    "### Problem C\n",
    "Given the inhomogeneous linear system:\n",
    "$$ \\begin{align*} x_1 - x_2 + x_3 - x_4 &= 2 \\\\ x_1 - x_2 + x_3 + x_4 &= 0 \\\\ 4x_1 - 4x_2 + 4x_3 &= 4 \\\\ 2x_1 - 2x_2 + 2x_3 - x_4 &= 3 \\end{align*} $$\n",
    "Write this LSE in matrix form and decompose the coefficient matrix $A$ and vector $b$ to apply the VQLS algorithm and compare its result with the \"classical\" solutions."
   ]
  },
  {
   "cell_type": "code",
   "execution_count": null,
   "id": "5b834c26",
   "metadata": {},
   "outputs": [],
   "source": [
    "# TODO"
   ]
  }
 ],
 "metadata": {
  "language_info": {
   "name": "python"
  }
 },
 "nbformat": 4,
 "nbformat_minor": 5
}
