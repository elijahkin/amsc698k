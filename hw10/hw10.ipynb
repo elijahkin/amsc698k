{
 "cells": [
  {
   "cell_type": "markdown",
   "id": "bc728328",
   "metadata": {},
   "source": [
    "# AMSC698K Homework 10\n",
    "##### Elijah Kin & Noorain Noorani"
   ]
  },
  {
   "cell_type": "code",
   "execution_count": 1,
   "id": "f22f9e6e",
   "metadata": {},
   "outputs": [],
   "source": [
    "%%capture\n",
    "\n",
    "# Run VQE notebook to get Pauli decomposition function\n",
    "%run VQE_AHO.ipynb"
   ]
  },
  {
   "cell_type": "code",
   "execution_count": 2,
   "id": "5f14d18a",
   "metadata": {},
   "outputs": [],
   "source": [
    "import numpy as np"
   ]
  },
  {
   "cell_type": "markdown",
   "id": "808d39c1",
   "metadata": {},
   "source": [
    "### Problem A\n",
    "1. The Hadamard Test circuit takes a qubit $q_0$, prepared as $|+\\rangle$, and state $|\\psi\\rangle \\in \\mathbb{C}^n$ and applies to it the controlled unitary CU. Describe how this test works and what the measurement of $q_0$ tells us about $U |\\psi\\rangle$. \n",
    "\n",
    "2. In the VQLS algorithm the Hadamard Test is applied in a modified form since two controlled unitaries are provided for the test. Describe how this test results in an \"overlap probability\" (or cosine similarity, a central measure in NLP)."
   ]
  },
  {
   "cell_type": "code",
   "execution_count": 3,
   "id": "776339b1",
   "metadata": {},
   "outputs": [],
   "source": [
    "# TODO"
   ]
  },
  {
   "cell_type": "markdown",
   "id": "b1e884e3",
   "metadata": {},
   "source": [
    "### Problem B\n",
    "1. Suppose a LSE, decomposed into quantum gates, is given by:\n",
    "$$ A = \\mathbb{I} + 0.2 X_0 Z_1 + 0.2 X_0; \\quad |b\\rangle = H_0 H_1 H_2 |0\\rangle $$\n",
    "Apply the VQLS algorithm and compare with classical solutions using $\\texttt{scipy.linalg.solve()}$ and $\\texttt{scipy.linalg.inv()}$."
   ]
  },
  {
   "cell_type": "code",
   "execution_count": 4,
   "id": "606380e4",
   "metadata": {},
   "outputs": [],
   "source": [
    "# TODO"
   ]
  },
  {
   "cell_type": "markdown",
   "id": "78830f62",
   "metadata": {},
   "source": [
    "2. (extra credit) Solve this problem using the HHL algorithm."
   ]
  },
  {
   "cell_type": "code",
   "execution_count": 5,
   "id": "fa241b9a",
   "metadata": {},
   "outputs": [],
   "source": [
    "# TODO"
   ]
  },
  {
   "cell_type": "markdown",
   "id": "f994826f",
   "metadata": {},
   "source": [
    "### Problem C\n",
    "Given the inhomogeneous linear system:\n",
    "$$ \\begin{align*} x_1 - x_2 + x_3 - x_4 &= 2 \\\\ x_1 - x_2 + x_3 + x_4 &= 0 \\\\ 4x_1 - 4x_2 + 4x_3 &= 4 \\\\ 2x_1 - 2x_2 + 2x_3 - x_4 &= 3 \\end{align*} $$\n",
    "Write this LSE in matrix form and decompose the coefficient matrix $A$ and vector $b$ to apply the VQLS algorithm and compare its result with the \"classical\" solutions."
   ]
  },
  {
   "cell_type": "code",
   "execution_count": 6,
   "id": "bbf4fa03",
   "metadata": {},
   "outputs": [
    {
     "name": "stdout",
     "output_type": "stream",
     "text": [
      "['0.75 * I^I', '0.5 * I^X', '-1j * I^Y', '1.75 * I^Z', '1 * X^I', '-0.5 * X^X', '-2j * X^Y', '1.5 * X^Z', '0.5j * Y^X', '-1 * Y^Y', '-1.5j * Y^Z', '-0.75 * Z^I', '-0.5 * Z^X', '-0.75 * Z^Z']\n",
      "['0.5 * I^I', '0.5 * I^Z', '1 * X^I', '0.75 * X^X', '-0.75j * X^Y', '1 * X^Z', '-1j * Y^I', '-0.75j * Y^X', '-0.75 * Y^Y', '-1j * Y^Z', '0.5 * Z^I', '0.5 * Z^Z']\n"
     ]
    }
   ],
   "source": [
    "# Set up the matrix A and vector b to find their Pauli decompositions\n",
    "A = np.array([[1, -1, 1, -1],\n",
    "              [1, -1, 1, 1],\n",
    "              [4, -4, 4, 0],\n",
    "              [2, -2, 2, -1]])\n",
    "print(decompose_H_to_string(A))\n",
    "\n",
    "b = np.array([[2],\n",
    "              [0],\n",
    "              [4],\n",
    "              [3]])\n",
    "print(decompose_H_to_string(b))"
   ]
  },
  {
   "cell_type": "markdown",
   "id": "c1b6a18e",
   "metadata": {},
   "source": [
    "Using $\\texttt{decompose\\_Pauli}$ from $\\texttt{VQE\\_AHO.ipynb}$, we find the decompositions\n",
    "\\begin{align*}\n",
    "  A &= 0.75 \\mathbb{I} + 0.5 X_0 - i Y_0 + 1.75 Z_0 + X_1 - 0.5 X_1X_0 - 2i X_1Y_0 + 1.5 X_1Z_0 \\\\\n",
    "  & \\quad + 0.5i Y_1X_0 - Y_1Y_0 - 1.5i Y_1Z_0 - 0.75 Z_1 - 0.5 Z_1X_0 - 0.5 Z_1Z_0 \\\\\n",
    "  b &= 0.5 \\mathbb{I} + 0.5 Z_0 + X_1 + 0.75 X_1X_0 - 0.75i X_1Y_0 + X_1Z_0 \\\\\n",
    "  & \\quad - iY_1 - 0.75iY_1X_0 - 0.75Y_1Y_0 - iY_1Z_0 + 0.5Z_1 + 0.5Z_1Z_0\n",
    "\\end{align*}"
   ]
  },
  {
   "cell_type": "code",
   "execution_count": 7,
   "id": "5b834c26",
   "metadata": {},
   "outputs": [],
   "source": [
    "# TODO"
   ]
  }
 ],
 "metadata": {
  "kernelspec": {
   "display_name": "Python 3",
   "language": "python",
   "name": "python3"
  },
  "language_info": {
   "codemirror_mode": {
    "name": "ipython",
    "version": 3
   },
   "file_extension": ".py",
   "mimetype": "text/x-python",
   "name": "python",
   "nbconvert_exporter": "python",
   "pygments_lexer": "ipython3",
   "version": "3.9.5"
  }
 },
 "nbformat": 4,
 "nbformat_minor": 5
}
