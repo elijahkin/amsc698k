{
 "cells": [
  {
   "cell_type": "markdown",
   "id": "bc728328",
   "metadata": {},
   "source": [
    "# AMSC698K Homework 10\n",
    "##### Elijah Kin & Noorain Noorani"
   ]
  },
  {
   "cell_type": "code",
   "execution_count": 1,
   "id": "5f14d18a",
   "metadata": {},
   "outputs": [],
   "source": [
    "import pennylane as qml\n",
    "from pennylane import numpy as np\n",
    "from itertools import product\n",
    "from numpy import linalg"
   ]
  },
  {
   "cell_type": "markdown",
   "id": "808d39c1",
   "metadata": {},
   "source": [
    "### Problem A\n",
    "1. The Hadamard Test circuit takes a qubit $q_0$, prepared as $|+\\rangle$, and state $|\\psi\\rangle \\in \\mathbb{C}^n$ and applies to it the controlled unitary CU. Describe how this test works and what the measurement of $q_0$ tells us about $U |\\psi\\rangle$. \n",
    "\n",
    "2. In the VQLS algorithm the Hadamard Test is applied in a modified form since two controlled unitaries are provided for the test. Describe how this test results in an \"overlap probability\" (or cosine similarity, a central measure in NLP)."
   ]
  },
  {
   "cell_type": "markdown",
   "id": "f2cdabd9",
   "metadata": {},
   "source": [
    "### 1\n",
    "\n",
    "The resulting measurement of $q_0$ would be: $\\operatorname{Re} \\langle \\psi| U | \\psi \\rangle $"
   ]
  },
  {
   "cell_type": "markdown",
   "id": "6b5addf5",
   "metadata": {},
   "source": [
    "### 2\n",
    "The result of the Hadarmard test is used to evaluate the cost function:\n",
    "$$ 1 - |\\langle b | \\psi \\rangle|^2$$\n",
    "\n",
    "with $|\\psi\\rangle \\coloneqq \\frac{A|x\\rangle}{\\sqrt{\\langle x | A^\\dagger A | x \\rangle}} \\approx |b\\rangle$ "
   ]
  },
  {
   "cell_type": "markdown",
   "id": "b1e884e3",
   "metadata": {},
   "source": [
    "### Problem B\n",
    "1. Suppose a LSE, decomposed into quantum gates, is given by:\n",
    "$$ A = \\mathbb{I} + 0.2 X_0 Z_1 + 0.2 X_0; \\quad |b\\rangle = H_0 H_1 H_2 |0\\rangle $$\n",
    "Apply the VQLS algorithm and compare with classical solutions using $\\texttt{scipy.linalg.solve()}$ and $\\texttt{scipy.linalg.inv()}$."
   ]
  },
  {
   "cell_type": "code",
   "execution_count": 2,
   "id": "606380e4",
   "metadata": {},
   "outputs": [],
   "source": [
    "# Pennylane\n",
    "import pennylane as qml\n",
    "from pennylane import numpy as np\n",
    "\n",
    "# Plotting\n",
    "import matplotlib.pyplot as plt"
   ]
  },
  {
   "cell_type": "code",
   "execution_count": 3,
   "id": "e133e880",
   "metadata": {},
   "outputs": [],
   "source": [
    "n_qubits = 3  # Number of system qubits.\n",
    "n_shots = 10 ** 6  # Number of quantum measurements.\n",
    "tot_qubits = n_qubits + 1  # Addition of an ancillary qubit.\n",
    "ancilla_idx = n_qubits  # Index of the ancillary qubit (last position).\n",
    "steps = 30  # Number of optimization steps\n",
    "eta = 0.8  # Learning rate\n",
    "q_delta = 0.001  # Initial spread of random quantum weights\n",
    "rng_seed = 0  # Seed for random number generator"
   ]
  },
  {
   "cell_type": "code",
   "execution_count": 4,
   "id": "029c5f17",
   "metadata": {},
   "outputs": [],
   "source": [
    "# Coefficients of the linear combination A = c_0 A_0 + c_1 A_1 ...\n",
    "c = np.array([1.0, 0.2, 0.2])\n",
    "\n",
    "def U_b():\n",
    "    \"\"\"Unitary matrix rotating the ground state to the problem vector |b> = U_b |0>.\"\"\"\n",
    "    for idx in range(n_qubits):\n",
    "        qml.Hadamard(wires=idx)\n",
    "\n",
    "def CA(idx):\n",
    "    \"\"\"Controlled versions of the unitary components A_l of the problem matrix A.\"\"\"\n",
    "    if idx == 0:\n",
    "        # Identity operation\n",
    "        None\n",
    "\n",
    "    elif idx == 1:\n",
    "        qml.CNOT(wires=[ancilla_idx, 0])\n",
    "        qml.CZ(wires=[ancilla_idx, 1])\n",
    "\n",
    "    elif idx == 2:\n",
    "        qml.CNOT(wires=[ancilla_idx, 0])"
   ]
  },
  {
   "cell_type": "code",
   "execution_count": 5,
   "id": "365ffc82",
   "metadata": {},
   "outputs": [],
   "source": [
    "def variational_block(weights):\n",
    "    \"\"\"Variational circuit mapping the ground state |0> to the ansatz state |x>.\"\"\"\n",
    "    # We first prepare an equal superposition of all the states of the computational basis.\n",
    "    for idx in range(n_qubits):\n",
    "        qml.Hadamard(wires=idx)\n",
    "\n",
    "    # A very minimal variational circuit.\n",
    "    for idx, element in enumerate(weights):\n",
    "        qml.RY(element, wires=idx)"
   ]
  },
  {
   "cell_type": "code",
   "execution_count": 6,
   "id": "bed443a1",
   "metadata": {},
   "outputs": [],
   "source": [
    "dev_mu = qml.device(\"lightning.qubit\", wires=tot_qubits)\n",
    "\n",
    "@qml.qnode(dev_mu, interface=\"autograd\")\n",
    "def local_hadamard_test(weights, l=None, lp=None, j=None, part=None):\n",
    "\n",
    "    # First Hadamard gate applied to the ancillary qubit.\n",
    "    qml.Hadamard(wires=ancilla_idx)\n",
    "\n",
    "    # For estimating the imaginary part of the coefficient \"mu\", we must add a \"-i\"\n",
    "    # phase gate.\n",
    "    if part == \"Im\" or part == \"im\":\n",
    "        qml.PhaseShift(-np.pi / 2, wires=ancilla_idx)\n",
    "\n",
    "    # Variational circuit generating a guess for the solution vector |x>\n",
    "    variational_block(weights)\n",
    "\n",
    "    # Controlled application of the unitary component A_l of the problem matrix A.\n",
    "    CA(l)\n",
    "\n",
    "    # Adjoint of the unitary U_b associated to the problem vector |b>.\n",
    "    # In this specific example Adjoint(U_b) = U_b.\n",
    "    U_b()\n",
    "\n",
    "    # Controlled Z operator at position j. If j = -1, apply the identity.\n",
    "    if j != -1:\n",
    "        qml.CZ(wires=[ancilla_idx, j])\n",
    "\n",
    "    # Unitary U_b associated to the problem vector |b>.\n",
    "    U_b()\n",
    "\n",
    "    # Controlled application of Adjoint(A_lp).\n",
    "    # In this specific example Adjoint(A_lp) = A_lp.\n",
    "    CA(lp)\n",
    "\n",
    "    # Second Hadamard gate applied to the ancillary qubit.\n",
    "    qml.Hadamard(wires=ancilla_idx)\n",
    "\n",
    "    # Expectation value of Z for the ancillary qubit.\n",
    "    return qml.expval(qml.PauliZ(wires=ancilla_idx))"
   ]
  },
  {
   "cell_type": "code",
   "execution_count": 7,
   "id": "f485c055",
   "metadata": {},
   "outputs": [],
   "source": [
    "def mu(weights, l=None, lp=None, j=None):\n",
    "    \"\"\"Generates the coefficients to compute the \"local\" cost function C_L.\"\"\"\n",
    "\n",
    "    mu_real = local_hadamard_test(weights, l=l, lp=lp, j=j, part=\"Re\")\n",
    "    mu_imag = local_hadamard_test(weights, l=l, lp=lp, j=j, part=\"Im\")\n",
    "\n",
    "    return mu_real + 1.0j * mu_imag"
   ]
  },
  {
   "cell_type": "code",
   "execution_count": 8,
   "id": "b90c2c67",
   "metadata": {},
   "outputs": [],
   "source": [
    "def psi_norm(weights):\n",
    "    \"\"\"Returns the normalization constant <psi|psi>, where |psi> = A |x>.\"\"\"\n",
    "    norm = 0.0\n",
    "\n",
    "    for l in range(0, len(c)):\n",
    "        for lp in range(0, len(c)):\n",
    "            norm = norm + c[l] * np.conj(c[lp]) * mu(weights, l, lp, -1)\n",
    "\n",
    "    return abs(norm)"
   ]
  },
  {
   "cell_type": "code",
   "execution_count": 9,
   "id": "28600d49",
   "metadata": {},
   "outputs": [],
   "source": [
    "def cost_loc(weights):\n",
    "    \"\"\"Local version of the cost function. Tends to zero when A|x> is proportional to |b>.\"\"\"\n",
    "    mu_sum = 0.0\n",
    "\n",
    "    for l in range(0, len(c)):\n",
    "        for lp in range(0, len(c)):\n",
    "            for j in range(0, n_qubits):\n",
    "                mu_sum = mu_sum + c[l] * np.conj(c[lp]) * mu(weights, l, lp, j)\n",
    "\n",
    "    mu_sum = abs(mu_sum)\n",
    "\n",
    "    # Cost function C_L\n",
    "    return 0.5 - 0.5 * mu_sum / (n_qubits * psi_norm(weights))"
   ]
  },
  {
   "cell_type": "code",
   "execution_count": 10,
   "id": "5b8c2588",
   "metadata": {},
   "outputs": [
    {
     "name": "stdout",
     "output_type": "stream",
     "text": [
      "Step   0       Cost_L = 0.0089888\n",
      "Step   1       Cost_L = 0.0070072\n",
      "Step   2       Cost_L = 0.0054157\n",
      "Step   3       Cost_L = 0.0041528\n",
      "Step   4       Cost_L = 0.0031617\n",
      "Step   5       Cost_L = 0.0023917\n",
      "Step   6       Cost_L = 0.0017988\n",
      "Step   7       Cost_L = 0.0013461\n",
      "Step   8       Cost_L = 0.0010028\n",
      "Step   9       Cost_L = 0.0007442\n",
      "Step  10       Cost_L = 0.0005503\n",
      "Step  11       Cost_L = 0.0004058\n",
      "Step  12       Cost_L = 0.0002984\n",
      "Step  13       Cost_L = 0.0002190\n",
      "Step  14       Cost_L = 0.0001604\n",
      "Step  15       Cost_L = 0.0001173\n",
      "Step  16       Cost_L = 0.0000857\n",
      "Step  17       Cost_L = 0.0000625\n",
      "Step  18       Cost_L = 0.0000455\n",
      "Step  19       Cost_L = 0.0000331\n",
      "Step  20       Cost_L = 0.0000241\n",
      "Step  21       Cost_L = 0.0000175\n",
      "Step  22       Cost_L = 0.0000127\n",
      "Step  23       Cost_L = 0.0000092\n",
      "Step  24       Cost_L = 0.0000067\n",
      "Step  25       Cost_L = 0.0000049\n",
      "Step  26       Cost_L = 0.0000035\n",
      "Step  27       Cost_L = 0.0000026\n",
      "Step  28       Cost_L = 0.0000019\n",
      "Step  29       Cost_L = 0.0000013\n"
     ]
    }
   ],
   "source": [
    "np.random.seed(rng_seed)\n",
    "w = q_delta * np.random.randn(n_qubits, requires_grad=True)\n",
    "\n",
    "opt = qml.GradientDescentOptimizer(eta)\n",
    "\n",
    "cost_history = []\n",
    "for it in range(steps):\n",
    "    w, cost = opt.step_and_cost(cost_loc, w)\n",
    "    print(\"Step {:3d}       Cost_L = {:9.7f}\".format(it, cost))\n",
    "    cost_history.append(cost)"
   ]
  },
  {
   "cell_type": "code",
   "execution_count": 11,
   "id": "605a3794",
   "metadata": {},
   "outputs": [
    {
     "data": {
      "image/png": "[encoded data removed]",
      "text/plain": [
       "<Figure size 640x480 with 1 Axes>"
      ]
     },
     "metadata": {},
     "output_type": "display_data"
    }
   ],
   "source": [
    "plt.plot(cost_history, \"g\")\n",
    "plt.ylabel(\"Cost function\")\n",
    "plt.xlabel(\"Optimization steps\")\n",
    "plt.show()"
   ]
  },
  {
   "cell_type": "code",
   "execution_count": 12,
   "id": "1889ab7b",
   "metadata": {},
   "outputs": [],
   "source": [
    "# Classical comparison\n",
    "Id = np.identity(2)\n",
    "Z = np.array([[1, 0], [0, -1]])\n",
    "X = np.array([[0, 1], [1, 0]])\n",
    "\n",
    "A_0 = np.identity(8)\n",
    "A_1 = np.kron(np.kron(X, Z), Id)\n",
    "A_2 = np.kron(np.kron(X, Id), Id)\n",
    "\n",
    "A_num = c[0] * A_0 + c[1] * A_1 + c[2] * A_2\n",
    "b = np.ones(8) / np.sqrt(8)"
   ]
  },
  {
   "cell_type": "code",
   "execution_count": 13,
   "id": "a16b9cd4",
   "metadata": {},
   "outputs": [
    {
     "data": {
      "text/plain": [
       "tensor([[1. , 0. , 0. , 0. , 0.4, 0. , 0. , 0. ],\n",
       "        [0. , 1. , 0. , 0. , 0. , 0.4, 0. , 0. ],\n",
       "        [0. , 0. , 1. , 0. , 0. , 0. , 0. , 0. ],\n",
       "        [0. , 0. , 0. , 1. , 0. , 0. , 0. , 0. ],\n",
       "        [0.4, 0. , 0. , 0. , 1. , 0. , 0. , 0. ],\n",
       "        [0. , 0.4, 0. , 0. , 0. , 1. , 0. , 0. ],\n",
       "        [0. , 0. , 0. , 0. , 0. , 0. , 1. , 0. ],\n",
       "        [0. , 0. , 0. , 0. , 0. , 0. , 0. , 1. ]], requires_grad=True)"
      ]
     },
     "execution_count": 13,
     "metadata": {},
     "output_type": "execute_result"
    }
   ],
   "source": [
    "A_num"
   ]
  },
  {
   "cell_type": "code",
   "execution_count": 14,
   "id": "d1e958b0",
   "metadata": {},
   "outputs": [
    {
     "data": {
      "text/plain": [
       "tensor([0.35355339, 0.35355339, 0.35355339, 0.35355339, 0.35355339,\n",
       "        0.35355339, 0.35355339, 0.35355339], requires_grad=True)"
      ]
     },
     "execution_count": 14,
     "metadata": {},
     "output_type": "execute_result"
    }
   ],
   "source": [
    "b"
   ]
  },
  {
   "cell_type": "code",
   "execution_count": 15,
   "id": "7db3e229",
   "metadata": {},
   "outputs": [],
   "source": [
    "A_inv = np.linalg.inv(A_num)\n",
    "x = np.dot(A_inv, b)\n",
    "\n",
    "c_probs = (x / np.linalg.norm(x)) ** 2"
   ]
  },
  {
   "cell_type": "code",
   "execution_count": 16,
   "id": "0d36a6f9",
   "metadata": {},
   "outputs": [
    {
     "data": {
      "text/plain": [
       "tensor([0.25253814, 0.25253814, 0.35355339, 0.35355339, 0.25253814,\n",
       "        0.25253814, 0.35355339, 0.35355339], requires_grad=True)"
      ]
     },
     "execution_count": 16,
     "metadata": {},
     "output_type": "execute_result"
    }
   ],
   "source": [
    "x"
   ]
  },
  {
   "cell_type": "code",
   "execution_count": 17,
   "id": "a2388375",
   "metadata": {},
   "outputs": [],
   "source": [
    "dev_x = qml.device(\"lightning.qubit\", wires=n_qubits, shots=n_shots)\n",
    "\n",
    "@qml.qnode(dev_x, interface=\"autograd\")\n",
    "def prepare_and_sample(weights):\n",
    "\n",
    "    # Variational circuit generating a guess for the solution vector |x>\n",
    "    variational_block(weights)\n",
    "\n",
    "    # We assume that the system is measured in the computational basis.\n",
    "    # then sampling the device will give us a value of 0 or 1 for each qubit (n_qubits)\n",
    "    # this will be repeated for the total number of shots provided (n_shots)\n",
    "    return qml.sample()"
   ]
  },
  {
   "cell_type": "code",
   "execution_count": 18,
   "id": "722775e0",
   "metadata": {},
   "outputs": [],
   "source": [
    "raw_samples = prepare_and_sample(w)\n",
    "\n",
    "# convert the raw samples (bit strings) into integers and count them\n",
    "samples = []\n",
    "for sam in raw_samples:\n",
    "    samples.append(int(\"\".join(str(bs) for bs in sam), base=2))\n",
    "\n",
    "q_probs = np.bincount(samples) / n_shots"
   ]
  },
  {
   "cell_type": "code",
   "execution_count": 19,
   "id": "d30c4f32",
   "metadata": {},
   "outputs": [
    {
     "name": "stdout",
     "output_type": "stream",
     "text": [
      "x_n^2 =\n",
      " [0.08445946 0.08445946 0.16554054 0.16554054 0.08445946 0.08445946\n",
      " 0.16554054 0.16554054]\n",
      "|<x|n>|^2=\n",
      " [0.085027 0.084352 0.164362 0.16622  0.084692 0.085245 0.165217 0.164885]\n",
      "Norm: ||x_n^2 -  |<x|n>|^2||\n",
      " 0.001841150099482388\n"
     ]
    }
   ],
   "source": [
    "import scipy.linalg as linalg\n",
    "\n",
    "print(\"x_n^2 =\\n\", c_probs)\n",
    "print(\"|<x|n>|^2=\\n\", q_probs)\n",
    "print(\"Norm: ||x_n^2 -  |<x|n>|^2||\\n\", linalg.norm(c_probs - q_probs))"
   ]
  },
  {
   "cell_type": "code",
   "execution_count": 20,
   "id": "9854cd5e",
   "metadata": {},
   "outputs": [
    {
     "data": {
      "image/png": "[encoded data removed]",
      "text/plain": [
       "<Figure size 640x480 with 1 Axes>"
      ]
     },
     "metadata": {},
     "output_type": "display_data"
    }
   ],
   "source": [
    "x = np.arange(2**n_qubits)\n",
    "width = 0.35  # Width of the bars\n",
    "\n",
    "plt.bar(x - width/2, c_probs, width, label='Classical')\n",
    "plt.bar(x + width/2, q_probs, width, label='Quantum')\n",
    "\n",
    "plt.xlabel('Basis states')\n",
    "plt.ylabel('Probability')\n",
    "plt.title('Classical vs Quantum Probabilities')\n",
    "plt.xticks(x)\n",
    "plt.legend()\n",
    "\n",
    "plt.tight_layout()\n",
    "plt.show()"
   ]
  },
  {
   "cell_type": "markdown",
   "id": "78830f62",
   "metadata": {},
   "source": [
    "2. (extra credit) Solve this problem using the HHL algorithm."
   ]
  },
  {
   "cell_type": "code",
   "execution_count": 21,
   "id": "fa241b9a",
   "metadata": {},
   "outputs": [],
   "source": [
    "# TODO"
   ]
  },
  {
   "cell_type": "markdown",
   "id": "f994826f",
   "metadata": {},
   "source": [
    "### Problem C\n",
    "Given the inhomogeneous linear system:\n",
    "$$ \\begin{align*} x_1 - x_2 + x_3 - x_4 &= 2 \\\\ x_1 - x_2 + x_3 + x_4 &= 0 \\\\ 4x_1 - 4x_2 + 4x_3 &= 4 \\\\ 2x_1 - 2x_2 + 2x_3 - x_4 &= 3 \\end{align*} $$\n",
    "Write this LSE in matrix form and decompose the coefficient matrix $A$ and vector $b$ to apply the VQLS algorithm and compare its result with the \"classical\" solutions."
   ]
  },
  {
   "cell_type": "code",
   "execution_count": 22,
   "id": "53fa38ac",
   "metadata": {},
   "outputs": [],
   "source": [
    "n_qubits = 2  # Number of system qubits.\n",
    "n_shots = 10 ** 6  # Number of quantum measurements.\n",
    "tot_qubits = n_qubits + 1  # Addition of an ancillary qubit.\n",
    "ancilla_idx = n_qubits  # Index of the ancillary qubit (last position).\n",
    "steps = 21  # Number of optimization steps\n",
    "eta = 1  # Learning rate\n",
    "q_delta = 0.001  # Initial spread of random quantum weights\n",
    "rng_seed = 626  # Seed for random number generator\n",
    "patience = 5"
   ]
  },
  {
   "cell_type": "code",
   "execution_count": 23,
   "id": "b1c83be5",
   "metadata": {},
   "outputs": [],
   "source": [
    "A = np.array([[1, -1, 1, -1],\n",
    "              [1, -1, 1, 1],\n",
    "              [4, -4, 4, 0],\n",
    "              [2, -2, 2, -1]])\n",
    "\n",
    "b = np.array([2, 0, 4, 3])"
   ]
  },
  {
   "cell_type": "code",
   "execution_count": 24,
   "id": "5b834c26",
   "metadata": {},
   "outputs": [],
   "source": [
    "def Pauli_Decomposition(A, n_qubits):\n",
    "    Id = np.identity(2)\n",
    "    Z = np.array([[1, 0], [0, -1]])\n",
    "    X = np.array([[0, 1], [1, 0]])\n",
    "    Y = np.array([[0,complex(0,1)],[-complex(0,1),0]])\n",
    "    \n",
    "    gate_array = [Id,X,Y,Z]\n",
    "    \n",
    "    counter = 0\n",
    "    i = 0\n",
    "\n",
    "    combination = gate_array\n",
    "    \n",
    "    #Creating every combination of Pauli Unitary matrices\n",
    "    while counter < int(np.log2(len(A))) - 1:\n",
    "        combination = np.kron(combination, gate_array)\n",
    "        counter += 1\n",
    "        \n",
    "    final_array = np.zeros((len(A),len(A)), dtype=complex)\n",
    "    c = []\n",
    "\n",
    "    for i in range(len(combination)):\n",
    "        c_temp =  1/(len(A)) * np.matrix.trace(np.matmul(A,combination[i]))\n",
    "        final_array +=  c_temp * combination[i]\n",
    "        c.append(c_temp)\n",
    "    \n",
    "    gate_names = list(product('IXYZ', repeat = n_qubits))\n",
    "    c_final = [i for i in c if i != 0]\n",
    "    gate_names_used = [gate_names[i] for i in range(len(c)) if c[i] != 0]\n",
    "    \n",
    "    return c_final, gate_names_used"
   ]
  },
  {
   "cell_type": "code",
   "execution_count": 25,
   "id": "d6d8f47c",
   "metadata": {},
   "outputs": [
    {
     "name": "stdout",
     "output_type": "stream",
     "text": [
      "Pauli Decomposition:  (0.75+0j) ('I', 'I')\n",
      "Pauli Decomposition:  (0.5+0j) ('I', 'X')\n",
      "Pauli Decomposition:  1j ('I', 'Y')\n",
      "Pauli Decomposition:  (1.75+0j) ('I', 'Z')\n",
      "Pauli Decomposition:  (1+0j) ('X', 'I')\n",
      "Pauli Decomposition:  (-0.5+0j) ('X', 'X')\n",
      "Pauli Decomposition:  2j ('X', 'Y')\n",
      "Pauli Decomposition:  (1.5+0j) ('X', 'Z')\n",
      "Pauli Decomposition:  -0.5j ('Y', 'X')\n",
      "Pauli Decomposition:  (-1+0j) ('Y', 'Y')\n",
      "Pauli Decomposition:  1.5j ('Y', 'Z')\n",
      "Pauli Decomposition:  (-0.75+0j) ('Z', 'I')\n",
      "Pauli Decomposition:  (-0.5+0j) ('Z', 'X')\n",
      "Pauli Decomposition:  (-0.75+0j) ('Z', 'Z')\n"
     ]
    }
   ],
   "source": [
    "c, c_gates = Pauli_Decomposition(A, n_qubits)\n",
    "\n",
    "for i in range(len(c)):\n",
    "    print(\"Pauli Decomposition: \", c[i], c_gates[i])"
   ]
  },
  {
   "cell_type": "code",
   "execution_count": 26,
   "id": "e32bf16e",
   "metadata": {},
   "outputs": [],
   "source": [
    "def U_b(b=b/np.linalg.norm(b)):\n",
    "    \"\"\"Unitary matrix rotating the ground state to the problem vector |b> = U_b |0>.\"\"\"\n",
    "    #qml.AmplitudeEmbedding(features=b, wires=range(n_qubits), normalize=True)\n",
    "    #qml.BasisStatePreparation(b, wires=range(n_qubits))\n",
    "    qml.MottonenStatePreparation(state_vector=b, wires=range(n_qubits))\n",
    "\n",
    "\n",
    "def CA(gates):\n",
    "    \"\"\"Controlled versions of the unitary components A_l of the problem matrix A.\"\"\"\n",
    "    for i in range(len(gates)):\n",
    "        if gates[i] == 'I':\n",
    "            None\n",
    "        elif gates[i] == 'X':\n",
    "            qml.CNOT(wires=[ancilla_idx, i])\n",
    "        elif gates[i] == 'Y':\n",
    "            qml.CY(wires=[ancilla_idx, i])\n",
    "        elif gates[i] == 'Z':\n",
    "            qml.CZ(wires=[ancilla_idx, i])\n"
   ]
  },
  {
   "cell_type": "code",
   "execution_count": 27,
   "id": "6c33103c",
   "metadata": {},
   "outputs": [],
   "source": [
    "def variational_block(weights):\n",
    "    \"\"\"Variational circuit mapping the ground state |0> to the ansatz state |x>.\"\"\"\n",
    "    # We first prepare an equal superposition of all the states of the computational basis.\n",
    "    for idx in range(n_qubits):\n",
    "        qml.Hadamard(wires=idx)\n",
    "\n",
    "    # A very minimal variational circuit.\n",
    "    for idx, element in enumerate(weights):\n",
    "        qml.RY(element, wires=idx)\n",
    "    \n",
    "    # for i in range(n_qubits):\n",
    "    #     qml.CNOT(wires = [i,(i+1) % n_qubits])"
   ]
  },
  {
   "cell_type": "markdown",
   "id": "35513f8a",
   "metadata": {},
   "source": [
    "#### Hadamard Test"
   ]
  },
  {
   "cell_type": "code",
   "execution_count": 28,
   "id": "82f912e4",
   "metadata": {},
   "outputs": [],
   "source": [
    "dev_mu = qml.device(\"default.qubit\", wires=tot_qubits)\n",
    "\n",
    "@qml.qnode(dev_mu)\n",
    "def local_hadamard_test(weights, l=None, lp=None, j=None, part=None, gates=c_gates):\n",
    "\n",
    "    # First Hadamard gate applied to the ancillary qubit.\n",
    "    qml.Hadamard(wires=ancilla_idx)\n",
    "\n",
    "    # For estimating the imaginary part of the coefficient \"mu\", we must add a \"-i\"\n",
    "    # phase gate.\n",
    "    if part == \"Im\" or part == \"im\":\n",
    "        qml.PhaseShift(-np.pi / 2, wires=ancilla_idx)\n",
    "\n",
    "    # Variational circuit generating a guess for the solution vector |x>\n",
    "    variational_block(weights)\n",
    "\n",
    "    # Controlled application of the unitary component A_l of the problem matrix A.\n",
    "    CA(gates[l])\n",
    "\n",
    "    # Adjoint of the unitary U_b associated to the problem vector |b>. \n",
    "    # In this specific example Adjoint(U_b) = U_b.\n",
    "    U_b()\n",
    "\n",
    "    # Controlled Z operator at position j. If j = -1, apply the identity.\n",
    "    if j != -1:\n",
    "        qml.CZ(wires=[ancilla_idx, j])\n",
    "\n",
    "    # Unitary U_b associated to the problem vector |b>.\n",
    "    U_b()\n",
    "\n",
    "    # Controlled application of Adjoint(A_lp).\n",
    "    # In this specific example Adjoint(A_lp) = A_lp.\n",
    "    CA(gates[lp])\n",
    "\n",
    "    # Second Hadamard gate applied to the ancillary qubit.\n",
    "    qml.Hadamard(wires=ancilla_idx)\n",
    "    \n",
    "    \n",
    "    # Expectation value of Z for the ancillary qubit.\n",
    "    return qml.expval(qml.PauliZ(wires=ancilla_idx))"
   ]
  },
  {
   "cell_type": "code",
   "execution_count": 29,
   "id": "d056ba50",
   "metadata": {},
   "outputs": [],
   "source": [
    "def mu(weights, l=None, lp=None, j=None, gates = c_gates):\n",
    "    \"\"\"Generates the coefficients to compute the \"local\" cost function C_L.\"\"\"\n",
    "\n",
    "    mu_real = local_hadamard_test(weights, l=l, lp=lp, j=j, gates = gates, part=\"Re\")\n",
    "    mu_imag = local_hadamard_test(weights, l=l, lp=lp, j=j, gates = gates, part=\"Im\")\n",
    "\n",
    "    return mu_real + 1.0j * mu_imag"
   ]
  },
  {
   "cell_type": "markdown",
   "id": "346053d5",
   "metadata": {},
   "source": [
    "#### Local Cost Function"
   ]
  },
  {
   "cell_type": "code",
   "execution_count": 30,
   "id": "99628826",
   "metadata": {},
   "outputs": [],
   "source": [
    "def psi_norm(weights):\n",
    "    \"\"\"Returns the normalization constant <psi|psi>, where |psi> = A |x>.\"\"\"\n",
    "    norm = 0.0\n",
    "\n",
    "    for l in range(0, len(c)):\n",
    "        for lp in range(0, len(c)):\n",
    "            norm = norm + c[l] * np.conj(c[lp]) * mu(weights, l, lp, -1)\n",
    "\n",
    "    return abs(norm)\n",
    "\n",
    "def cost_loc(weights):\n",
    "    \"\"\"Local version of the cost function. Tends to zero when A|x> is proportional to |b>.\"\"\"\n",
    "    mu_sum = 0.0\n",
    "\n",
    "    for l in range(0, len(c)):\n",
    "        for lp in range(0, len(c)):\n",
    "            for j in range(0, n_qubits):\n",
    "                mu_sum = mu_sum + c[l] * np.conj(c[lp]) * mu(weights, l, lp, j, c_gates)\n",
    "\n",
    "    mu_sum = abs(mu_sum)\n",
    "\n",
    "    # Cost function C_L\n",
    "    return 0.5 - 0.5 * mu_sum / (n_qubits * psi_norm(weights))"
   ]
  },
  {
   "cell_type": "markdown",
   "id": "98d3a5b9",
   "metadata": {},
   "source": [
    "#### Variational Optimization"
   ]
  },
  {
   "cell_type": "code",
   "execution_count": 31,
   "id": "b1fc3b41",
   "metadata": {},
   "outputs": [
    {
     "name": "stdout",
     "output_type": "stream",
     "text": [
      "Step   0       Cost_L = 0.2535161\n",
      "Step   1       Cost_L = 0.2501973\n",
      "Step   2       Cost_L = 0.2464735\n",
      "Step   3       Cost_L = 0.2422873\n",
      "Step   4       Cost_L = 0.2375733\n",
      "Step   5       Cost_L = 0.2322574\n",
      "Step   6       Cost_L = 0.2262571\n",
      "Step   7       Cost_L = 0.2194826\n",
      "Step   8       Cost_L = 0.2118392\n",
      "Step   9       Cost_L = 0.2032320\n",
      "Step  10       Cost_L = 0.1935742\n",
      "Step  11       Cost_L = 0.1827989\n",
      "Step  12       Cost_L = 0.1708776\n",
      "Step  13       Cost_L = 0.1578495\n",
      "Step  14       Cost_L = 0.1438719\n",
      "Step  15       Cost_L = 0.1293128\n",
      "Step  16       Cost_L = 0.1148975\n",
      "Step  17       Cost_L = 0.1017886\n",
      "Step  18       Cost_L = 0.0910373\n",
      "Step  19       Cost_L = 0.0815384\n",
      "Step  20       Cost_L = 0.0670661\n"
     ]
    }
   ],
   "source": [
    "np.random.seed(rng_seed)\n",
    "w = q_delta * np.random.randn(n_qubits, requires_grad=True)\n",
    "\n",
    "opt = qml.GradientDescentOptimizer(eta)\n",
    "\n",
    "cost_history = []\n",
    "for it in range(steps):\n",
    "    w, cost = opt.step_and_cost(cost_loc, w)\n",
    "    print(\"Step {:3d}       Cost_L = {:9.7f}\".format(it, cost))\n",
    "    cost_history.append(cost)"
   ]
  },
  {
   "cell_type": "code",
   "execution_count": 32,
   "id": "f742d85f",
   "metadata": {},
   "outputs": [],
   "source": [
    "dev_x = qml.device(\"lightning.qubit\", wires=n_qubits, shots=n_shots)\n",
    "\n",
    "@qml.qnode(dev_x, interface=\"autograd\")\n",
    "def prepare_and_sample(weights):\n",
    "\n",
    "    # Variational circuit generating a guess for the solution vector |x>\n",
    "    variational_block(weights)\n",
    "\n",
    "    # We assume that the system is measured in the computational basis.\n",
    "    # then sampling the device will give us a value of 0 or 1 for each qubit (n_qubits)\n",
    "    # this will be repeated for the total number of shots provided (n_shots)\n",
    "    return qml.sample()"
   ]
  },
  {
   "cell_type": "code",
   "execution_count": 33,
   "id": "02341c58",
   "metadata": {},
   "outputs": [],
   "source": [
    "raw_samples = prepare_and_sample(w)\n",
    "\n",
    "# convert the raw samples (bit strings) into integers and count them\n",
    "samples = []\n",
    "for sam in raw_samples:\n",
    "    samples.append(int(\"\".join(str(bs) for bs in sam), base=2))\n",
    "\n",
    "q_probs = np.bincount(samples) / n_shots"
   ]
  },
  {
   "cell_type": "code",
   "execution_count": 34,
   "id": "ef90fde3",
   "metadata": {},
   "outputs": [
    {
     "name": "stdout",
     "output_type": "stream",
     "text": [
      "|<x|n>|^2=\n",
      " [6.64920e-02 9.30882e-01 1.96000e-04 2.43000e-03]\n"
     ]
    }
   ],
   "source": [
    "print(\"|<x|n>|^2=\\n\", q_probs)"
   ]
  },
  {
   "cell_type": "code",
   "execution_count": 35,
   "id": "2621d48e",
   "metadata": {},
   "outputs": [],
   "source": [
    "v = np.matmul(A, q_probs)\n",
    "v /= np.linalg.norm(v)"
   ]
  },
  {
   "cell_type": "code",
   "execution_count": 36,
   "id": "fe4207f2",
   "metadata": {},
   "outputs": [
    {
     "name": "stdout",
     "output_type": "stream",
     "text": [
      "[0.21374546 0.21254678 0.85258449 0.42689159]\n"
     ]
    }
   ],
   "source": [
    "print(v * -1)"
   ]
  }
 ],
 "metadata": {
  "kernelspec": {
   "display_name": "base",
   "language": "python",
   "name": "python3"
  },
  "language_info": {
   "codemirror_mode": {
    "name": "ipython",
    "version": 3
   },
   "file_extension": ".py",
   "mimetype": "text/x-python",
   "name": "python",
   "nbconvert_exporter": "python",
   "pygments_lexer": "ipython3",
   "version": "3.12.4"
  }
 },
 "nbformat": 4,
 "nbformat_minor": 5
}
