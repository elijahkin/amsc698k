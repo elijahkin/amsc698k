{
 "cells": [
  {
   "cell_type": "markdown",
   "metadata": {},
   "source": [
    "# AMSC698K Homework 4\n",
    "##### Elijah Kin & Noorain Noorani"
   ]
  },
  {
   "cell_type": "code",
   "execution_count": 57,
   "metadata": {},
   "outputs": [
    {
     "name": "stdout",
     "output_type": "stream",
     "text": [
      "1.2.4\n"
     ]
    }
   ],
   "source": [
    "import qiskit\n",
    "from qiskit import QuantumCircuit, QuantumRegister, ClassicalRegister, AncillaRegister\n",
    "from qiskit_aer import Aer\n",
    "from qiskit.visualization import plot_histogram\n",
    "import numpy as np\n",
    "\n",
    "\n",
    "print(qiskit.__version__)"
   ]
  },
  {
   "cell_type": "markdown",
   "metadata": {},
   "source": [
    "## General Grover's Algorithm Code"
   ]
  },
  {
   "cell_type": "code",
   "execution_count": 58,
   "metadata": {},
   "outputs": [],
   "source": [
    "# Diffusion (sandwiched reflection) operator\n",
    "def diffuser(q, n, scratch, label='diffuser'):    \n",
    "    qc = QuantumCircuit(q)         \n",
    "    # n = qc.num_qubits   \n",
    "    qc.h([q[i] for i in range(n-1)])\n",
    "    qc.x([ q[i] for i in range(n-1) ])         \n",
    "    if n > 2:\n",
    "        # for multi-controlled Z use multi-controlled Z rotation\n",
    "        qc.mcrz(np.pi, q[0:n-2], q[n-2])\n",
    "    else:\n",
    "        # for one-qubit oracles no controls\n",
    "        qc.z(q[0])\n",
    "    qc.barrier()\n",
    "    qc.x([ q[i] for i in range(n-1) ])\n",
    "    qc.h([ q[i] for i in range(n-1) ])    \n",
    "    return qc"
   ]
  },
  {
   "cell_type": "code",
   "execution_count": 134,
   "metadata": {},
   "outputs": [],
   "source": [
    "def grover(nqubits, oracle, n_ancilla = 0, iterations=1, measure=True):\n",
    "    \n",
    "    q = QuantumRegister(nqubits + n_ancilla, name='q') # create the quantum register\n",
    "    # aq = AncillaRegister(n_ancilla, name='aq') # create the ancilla quantum register\n",
    "    if(measure):\n",
    "    # measure only qubits that are input to the oracle\n",
    "        creg = ClassicalRegister(nqubits - 1, name='c') \n",
    "        # qc = QuantumCircuit(q, aq, creg)         # create the circuit\n",
    "        qc = QuantumCircuit(q, creg)         # create the circuit\n",
    "    else:\n",
    "        qc = QuantumCircuit(q)           # circuit without measurements\n",
    "\n",
    "    # initialize the circuit:\n",
    "    # the qubit that receives the oracle output must be set to |1>\n",
    "    qc.x(nqubits - 1) \n",
    "    qc.h([ q[i] for i in range(nqubits - 1) ])  \n",
    "    qc.h(nqubits - 1)\n",
    "    qc.save_statevector(label='init')    \n",
    "    \n",
    "    # add repetitions of oracle plus diffusion operator\n",
    "    for i in range(iterations):  \n",
    "        qc.compose(oracle(q), q, inplace=True)\n",
    "        qc.barrier()\n",
    "        qc.compose(diffuser(q, nqubits, n_ancilla), q, inplace=True)\n",
    "        qc.save_statevector(label=f\"diffuser_{i}\")\n",
    "\n",
    "    if(measure):  # Measurements\n",
    "        # qc.measure(q[0:nqubits+n_ancilla-1],creg) \n",
    "        qc.measure(q[0:nqubits-1],creg)          \n",
    "    return qc"
   ]
  },
  {
   "cell_type": "markdown",
   "metadata": {},
   "source": [
    "### 1. Use Grover's algorithm (or Amplitude Amplification (QAA)) to solve these problems:"
   ]
  },
  {
   "cell_type": "markdown",
   "metadata": {},
   "source": [
    "A. Alice, Bob, Charlie, Dora want to set up a meeting. Alice can only meet on Monday, Tuesday, or Thursday; Bob cannot meet on Wednesday; Charlie cannot meet on Thursday, Dora cannot meet on Tuesday nor Friday. Find the day they can meet using Grover's algorithm."
   ]
  },
  {
   "cell_type": "code",
   "execution_count": null,
   "metadata": {},
   "outputs": [],
   "source": [
    "# Oracle for the Scheduling problem\n",
    "## Naive Soltuion\n",
    "def Scheduling_Oracle(q):\n",
    "    # use a multicontrolled X gate \n",
    "    circ = QuantumCircuit(q)\n",
    "    # TODO\n",
    "    # Alice's avialble time slots\n",
    "    circ.mcx([q[0], q[1], q[3]], q[6]) # Available\n",
    "    circ.mcx([q[2], q[4]], q[6]) # Unavailable\n",
    "    # Bob's avialble time slots\n",
    "    circ.mcx([q[0], q[1], q[3], q[4]], q[7])  \n",
    "    circ.mcx([q[2]], q[7]) \n",
    "    # Charlie's avialble time slots\n",
    "    circ.mcx([q[0], q[1], q[2], q[4]], q[8])\n",
    "    circ.mcx([q[3]], q[8])\n",
    "    # Dora's avialble time slots\n",
    "    circ.mcx([q[0], q[2], q[3]], q[9]) \n",
    "    circ.mcx([q[1], q[4]], q[9])\n",
    "\n",
    "    # Putting together for output\n",
    "    circ.mcx([q[6], q[7], q[8], q[9]], q[5])\n",
    "    return circ\n",
    "\n",
    "# We can construct the oracle using the constraints given in the question\n",
    "# How would I implement???"
   ]
  },
  {
   "cell_type": "code",
   "execution_count": 181,
   "metadata": {},
   "outputs": [],
   "source": [
    "nqubits = 6 # 5 for each day of the week and one for the phase kickback\n",
    "\n",
    "circ_grover1 = grover(nqubits, Scheduling_Oracle, n_ancilla = 4, iterations = 30)\n",
    "# circ_grover1.draw(output = 'mpl', plot_barriers=True)"
   ]
  },
  {
   "cell_type": "code",
   "execution_count": 178,
   "metadata": {},
   "outputs": [],
   "source": [
    "# nqubits = 5\n",
    "\n",
    "# circ_grover1 = grover(nqubits, Scheduling_Oracle, iterations = 1)\n",
    "# circ_grover1.draw(output = 'mpl', plot_barriers=True)"
   ]
  },
  {
   "cell_type": "code",
   "execution_count": 182,
   "metadata": {},
   "outputs": [
    {
     "name": "stdout",
     "output_type": "stream",
     "text": [
      "{'01000': 1, '11010': 1, '00001': 2, '01011': 3, '10010': 8, '00010': 2, '00011': 3, '00111': 1, '10100': 4, '10011': 4, '01110': 1, '11000': 4, '10101': 5, '11110': 1, '11111': 3, '10110': 6, '01001': 2, '11011': 3, '00100': 6, '01100': 4, '11100': 6, '01010': 3, '00000': 5, '10111': 1, '01101': 6, '01111': 6, '10001': 1, '00110': 1, '11101': 2, '10000': 2, '11001': 3}\n"
     ]
    }
   ],
   "source": [
    "backend_aer = Aer.get_backend('qasm_simulator')\n",
    "counts = backend_aer.run(circ_grover1, shots=100).result().get_counts()\n",
    "print(counts)"
   ]
  },
  {
   "cell_type": "markdown",
   "metadata": {},
   "source": [
    "B. Alice and Bob work at the front desk of their company from Monday to Wednesday in 2 shifts; each shift is assigned to one employee. Write the constraints as logic expressions and use Grover's algorithm to see whether the shifts can be assigned to Alice and Bob (i) if Alice doesn't want to work more than 4 shifts at the front desk and Bob doesn't want to work on consecutive days at the front desk; (ii) Bob doesn't want to have the same shift on consecutive days and Alice prefers afternoon shifts; what if Alice doesn't want any morning shift?"
   ]
  },
  {
   "cell_type": "code",
   "execution_count": 3,
   "metadata": {},
   "outputs": [],
   "source": [
    "# TODO"
   ]
  },
  {
   "cell_type": "markdown",
   "metadata": {},
   "source": [
    "C. Consider a set of 24 marbles, some marbles are white colored and the rest black. Apply QAA to identify the white-colored marbles if 2, 3, 4, or 14 marbles are white-colored. How many sequences of QAA do you have to apply to find the marbles at less than 5% uncertainty."
   ]
  },
  {
   "cell_type": "code",
   "execution_count": 4,
   "metadata": {},
   "outputs": [],
   "source": [
    "# TODO"
   ]
  },
  {
   "cell_type": "markdown",
   "metadata": {},
   "source": [
    "### 2. Given the unsorted list [7,62,48,55,39,17,32,15,27,0,41,3,59,31,51,4].\n",
    "Use Grover's algorithm (or QAA) to find the list indices of numbers 32, 3, and 27."
   ]
  },
  {
   "cell_type": "code",
   "execution_count": null,
   "metadata": {},
   "outputs": [],
   "source": [
    "# TODO\n",
    "# 16 states, 4 qubits\n",
    "# Want to find 32, 3, and 27.\n",
    "# Looking for the list indicides\n",
    "N = 4"
   ]
  }
 ],
 "metadata": {
  "kernelspec": {
   "display_name": "base",
   "language": "python",
   "name": "python3"
  },
  "language_info": {
   "codemirror_mode": {
    "name": "ipython",
    "version": 3
   },
   "file_extension": ".py",
   "mimetype": "text/x-python",
   "name": "python",
   "nbconvert_exporter": "python",
   "pygments_lexer": "ipython3",
   "version": "3.12.4"
  }
 },
 "nbformat": 4,
 "nbformat_minor": 2
}
