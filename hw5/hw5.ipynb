{
 "cells": [
  {
   "cell_type": "code",
   "execution_count": 1,
   "metadata": {},
   "outputs": [],
   "source": [
    "import qiskit"
   ]
  },
  {
   "cell_type": "markdown",
   "metadata": {},
   "source": [
    "## A. Construct functions to yield QFT and inverse-QFT circuits for an arbitrary number of qubits nq using (a) basic QISkit gates and (b) basic Cirq gates\n",
    "\n",
    "Test the behavior of your quantum circuits by creating initial configurations of 8 and 12 qubits, which correspond to harmonic phase advances over all input states:\n",
    "\n",
    "(i) 2, 4, 8 states per cycle\n",
    "\n",
    "(ii) 6 states per cycle\n",
    "\n",
    "(ii) apply only a Z-gate to qubit nq/2\n",
    "\n",
    "Report and interpret the results from running QFT on these initial configurations and the results from running QFT and inverse-QFT."
   ]
  },
  {
   "cell_type": "markdown",
   "metadata": {},
   "source": [
    "### (i) 2, 4, 8 states per cycle"
   ]
  },
  {
   "cell_type": "code",
   "execution_count": null,
   "metadata": {},
   "outputs": [],
   "source": []
  },
  {
   "cell_type": "markdown",
   "metadata": {},
   "source": [
    "### (ii) 6 states per cycle"
   ]
  },
  {
   "cell_type": "code",
   "execution_count": null,
   "metadata": {},
   "outputs": [],
   "source": [
    "# qiskit"
   ]
  },
  {
   "cell_type": "code",
   "execution_count": null,
   "metadata": {},
   "outputs": [],
   "source": [
    "# cirq"
   ]
  },
  {
   "cell_type": "markdown",
   "metadata": {},
   "source": [
    "### (iii) apply only a Z-gate to qubit nq/2"
   ]
  },
  {
   "cell_type": "markdown",
   "metadata": {},
   "source": [
    "### B : When measuring quantum systems in the computational basis, you only have access to the magnitudes of each state. In order to get a phase information, you may perform a QPE.\n",
    "\n",
    "Estimate the (assumed unknown) angle φ of a phase gate P(φ, q0) via a QPE to better than 3%. To test your code, start with angles φ=π/2, π/4 and φ=π/3,π/6;   then choose an arbitrary angle between 0.2 and 0.9."
   ]
  },
  {
   "cell_type": "code",
   "execution_count": null,
   "metadata": {},
   "outputs": [],
   "source": [
    "# qiskit"
   ]
  },
  {
   "cell_type": "markdown",
   "metadata": {},
   "source": [
    "### C: Solve the small system of linear equations using the HHL algorithm, given by:\n",
    "\n",
    "$$\n",
    "A = \\begin{bmatrix}\n",
    "a & b\\\\\n",
    "b & a\n",
    "\\end{bmatrix}\n",
    ",  \\vec{b} = \\begin{bmatrix}\n",
    "cos\\theta \\\\\n",
    "sin\\theta\n",
    "\\end{bmatrix}\n",
    "$$"
   ]
  },
  {
   "cell_type": "markdown",
   "metadata": {},
   "source": [
    "To test the code, start with values $a = 1; b = -\\frac{1}{3}; \\theta=0 $; then sweep the angle between $0$ and $\\pi$."
   ]
  },
  {
   "cell_type": "code",
   "execution_count": null,
   "metadata": {},
   "outputs": [],
   "source": []
  },
  {
   "cell_type": "markdown",
   "metadata": {},
   "source": [
    "### D (Extra Credit); Set up a circuit solving the SLE given under \"Notes\" to the HHL algorithm in QPE_HHL.ipynb"
   ]
  },
  {
   "cell_type": "markdown",
   "metadata": {},
   "source": [
    "$$ A=\\frac{1}{4} \\begin{pmatrix} 15 & 9 & 5 & -3 \\\\ 9 & 15 & 3 & -5 \\\\\n",
    "5 & 3 & 15 & -9 \\\\ -3 & -5 & -9 & 15 \\end{pmatrix} \\ , \n",
    "\\quad \\vec{b} =\\frac{1}{2}\\begin{pmatrix} 1 \\\\ 1 \\\\ 1 \\\\ 1 \\end{pmatrix}$$"
   ]
  },
  {
   "cell_type": "markdown",
   "metadata": {},
   "source": []
  }
 ],
 "metadata": {
  "kernelspec": {
   "display_name": "base",
   "language": "python",
   "name": "python3"
  },
  "language_info": {
   "codemirror_mode": {
    "name": "ipython",
    "version": 3
   },
   "file_extension": ".py",
   "mimetype": "text/x-python",
   "name": "python",
   "nbconvert_exporter": "python",
   "pygments_lexer": "ipython3",
   "version": "3.12.4"
  }
 },
 "nbformat": 4,
 "nbformat_minor": 2
}
