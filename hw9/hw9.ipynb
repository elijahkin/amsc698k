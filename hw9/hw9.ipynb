{
 "cells": [
  {
   "cell_type": "markdown",
   "id": "9cd9eee2",
   "metadata": {},
   "source": [
    "# AMSC698K Homework 9\n",
    "##### Elijah Kin & Noorain Noorani"
   ]
  },
  {
   "cell_type": "code",
   "execution_count": 1,
   "id": "aedee8e7",
   "metadata": {},
   "outputs": [],
   "source": [
    "import numpy as np"
   ]
  },
  {
   "cell_type": "markdown",
   "id": "832622f1",
   "metadata": {},
   "source": [
    "### Problem A\n",
    "It is comparatively easy to set up the QAOA circuits for MaxCut problems. Without using \"black-box\" QAOA implementations (classes and methods) create quantum circuits to perform a max.cut of a weighted undirected graph with 6 vertices using QISkit, Cirq, or Pennylane.\n",
    "\n",
    "1. Compare the results (frequency plots) for 2, 4, and 6 layers."
   ]
  },
  {
   "cell_type": "code",
   "execution_count": 2,
   "id": "815efa8a",
   "metadata": {},
   "outputs": [],
   "source": [
    "# TODO"
   ]
  },
  {
   "cell_type": "markdown",
   "id": "1fa65959",
   "metadata": {},
   "source": [
    "2. Perform the optimization over 150 iterations for all three circuits (2-, 4-, 6-layers QAOA), compare the change of parameters and find the optimal number of iterations where the cost function is close to its minimum and the parameters don't change significantly."
   ]
  },
  {
   "cell_type": "code",
   "execution_count": 3,
   "id": "13853061",
   "metadata": {},
   "outputs": [],
   "source": [
    "# TODO"
   ]
  },
  {
   "cell_type": "markdown",
   "id": "44aecf30",
   "metadata": {},
   "source": [
    "3. Perform the optimization of the 6-layer circuit for a maximum of 80 iterations on the IonQ simulator with \"aria-1\" noise-model or on the IonQ QPU Aria-1 (remember to set the optional argument: error_mitigation={\"debias\":False} )."
   ]
  },
  {
   "cell_type": "code",
   "execution_count": 4,
   "id": "ee1fec90",
   "metadata": {},
   "outputs": [],
   "source": [
    "# TODO"
   ]
  },
  {
   "cell_type": "markdown",
   "id": "30ea1881",
   "metadata": {},
   "source": [
    "### Problem B\n",
    "Find the Minimum Cover for a graph with 8 vertices and 14 random edges (with at least 1 edge per vertex)."
   ]
  },
  {
   "cell_type": "code",
   "execution_count": 5,
   "id": "a7bdf765",
   "metadata": {},
   "outputs": [],
   "source": [
    "# TODO"
   ]
  },
  {
   "cell_type": "markdown",
   "id": "03d055a1",
   "metadata": {},
   "source": [
    "### Problem C\n",
    "Suppose a restaurant offers food delivery within a distance of 3 miles. Set up the schedule for covering these four locations at the shortest overall distance.\n",
    "\n",
    "Coordinates relative the restaurant's position: location 1 (-2.5 mi, 1.1 mi); location 2 (2.6 mi, -1.4 mi); location 3 (-1.8 mi, 2.2 mi); location 4 (1.1 mi, 1.2 mi)."
   ]
  },
  {
   "cell_type": "code",
   "execution_count": 6,
   "id": "6b85c9c8",
   "metadata": {},
   "outputs": [],
   "source": [
    "# TODO"
   ]
  },
  {
   "cell_type": "markdown",
   "id": "eb9f236a",
   "metadata": {},
   "source": [
    "### Problem D\n",
    "Use QAOA to solve the following knapsack problem: suppose a car can carry freight up to 450 lb and you want to transport the highest-valued objects of a set of 12 items; which items to pick?\n",
    "\n",
    "Weight and value of each item: A (51lb, $360); B (85lb, $180); C (40lb, $95); D (26lb, $130); E (64lb, $149); F (29lb, $69); G (65lb, $230); H (42lb, $199); I (48lb, $164); and J (36lb, $135); K (22lb, $109); L (46lb, $89)."
   ]
  },
  {
   "cell_type": "code",
   "execution_count": 7,
   "id": "70e39ee9",
   "metadata": {},
   "outputs": [],
   "source": [
    "# TODO"
   ]
  }
 ],
 "metadata": {
  "kernelspec": {
   "display_name": "Python 3",
   "language": "python",
   "name": "python3"
  },
  "language_info": {
   "codemirror_mode": {
    "name": "ipython",
    "version": 3
   },
   "file_extension": ".py",
   "mimetype": "text/x-python",
   "name": "python",
   "nbconvert_exporter": "python",
   "pygments_lexer": "ipython3",
   "version": "3.9.5"
  }
 },
 "nbformat": 4,
 "nbformat_minor": 5
}
