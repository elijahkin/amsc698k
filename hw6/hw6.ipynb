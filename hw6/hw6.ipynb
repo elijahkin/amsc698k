{
 "cells": [
  {
   "cell_type": "markdown",
   "metadata": {},
   "source": [
    "# AMSC698K Homework 6\n",
    "##### Elijah Kin & Noorain Noorani"
   ]
  },
  {
   "cell_type": "code",
   "execution_count": 1,
   "metadata": {},
   "outputs": [
    {
     "data": {
      "text/plain": [
       "'1.2.4'"
      ]
     },
     "execution_count": 1,
     "metadata": {},
     "output_type": "execute_result"
    }
   ],
   "source": [
    "import math\n",
    "import numpy as np\n",
    "import qiskit\n",
    "from qiskit import QuantumCircuit\n",
    "from qiskit_aer import Aer\n",
    "from qiskit.visualization import plot_histogram\n",
    "qiskit.__version__"
   ]
  },
  {
   "cell_type": "markdown",
   "metadata": {},
   "source": [
    "### 1a - (60pts) Create a program for Shor's algorithm, i.e. for factorizing an integer N, including a quantum circuit to find the order r of a modulo $N (a^r := 1 mod N)$. "
   ]
  },
  {
   "cell_type": "markdown",
   "metadata": {},
   "source": [
    "First, create functions that perform the required processing steps (you may adapt the corresponding functions presented in class):\n",
    "\n",
    "1) Create helper functions:\n",
    "\n",
    "    (a) to check whether integer N is a perfect power ($N=p^q)$;\n",
    "\n",
    "    (b) to check whether N and the base a (with $1<a<N$) are coprime;\n",
    "\n",
    "    (c) to extract the exponent r and the factors of N."
   ]
  },
  {
   "cell_type": "code",
   "execution_count": 2,
   "metadata": {},
   "outputs": [],
   "source": [
    "def is_perfect_power(n):\n",
    "    \"\"\"\n",
    "    Check if integer n is a perfect power (n = p^q with q > 1).\n",
    "    \n",
    "    Returns:\n",
    "        (True, p, q) if n is a perfect power,\n",
    "        (False, None, None) otherwise.\n",
    "    \"\"\"\n",
    "    # Loop over possible exponents q starting at 2.\n",
    "    # The upper limit for q is taken from log2(n) since 2 is the smallest possible base.\n",
    "    max_exponent = int(math.log(n, 2)) + 1\n",
    "    for q in range(2, max_exponent + 1):\n",
    "        p = int(round(n ** (1.0 / q)))\n",
    "        # Check if p^q exactly equals n\n",
    "        if p ** q == n:\n",
    "            return True, p, q\n",
    "    return False, None, None"
   ]
  },
  {
   "cell_type": "code",
   "execution_count": 3,
   "metadata": {},
   "outputs": [],
   "source": [
    "def are_coprime(n, a):\n",
    "    \"\"\"\n",
    "    Check if integer n and base a (with 1 < a < n) are coprime.\n",
    "    \n",
    "    Returns:\n",
    "        True if gcd(n, a) == 1, False otherwise.\n",
    "    \"\"\"\n",
    "    if not (1 < a < n):\n",
    "        raise ValueError(\"Base a must satisfy 1 < a < n\")\n",
    "    return math.gcd(n, a) == 1"
   ]
  },
  {
   "cell_type": "code",
   "execution_count": 4,
   "metadata": {},
   "outputs": [],
   "source": [
    "def order_and_factors(n, a):\n",
    "    \"\"\"\n",
    "    Compute the order r of a modulo n (i.e., the smallest positive integer r \n",
    "    such that a^r ≡ 1 mod n). Then, if r is even, attempt to extract non-trivial \n",
    "    factors of n by computing:\n",
    "        factor1 = gcd(a^(r/2) - 1, n)\n",
    "        factor2 = gcd(a^(r/2) + 1, n)\n",
    "    \n",
    "    Returns:\n",
    "        r: the order of a modulo n,\n",
    "        factors: a tuple (factor1, factor2) if r is even, otherwise None.\n",
    "    \"\"\"\n",
    "    # Find the order r (smallest r such that a^r mod n == 1)\n",
    "    r = None\n",
    "    for i in range(1, n):\n",
    "        if pow(a, i, n) == 1:\n",
    "            r = i\n",
    "            break\n",
    "\n",
    "    if r is None:\n",
    "        raise ValueError(\"No order found; check inputs for coprimality.\")\n",
    "    \n",
    "    factors = None\n",
    "    # Only proceed with factor extraction if r is even.\n",
    "    if r % 2 == 0:\n",
    "        # Compute a^(r/2) mod n\n",
    "        x = pow(a, r // 2, n)\n",
    "        # Calculate possible factors using the gcd method.\n",
    "        factor1 = math.gcd(x - 1, n)\n",
    "        factor2 = math.gcd(x + 1, n)\n",
    "        factors = (factor1, factor2)\n",
    "    \n",
    "    return r, factors"
   ]
  },
  {
   "cell_type": "code",
   "execution_count": 5,
   "metadata": {},
   "outputs": [
    {
     "name": "stdout",
     "output_type": "stream",
     "text": [
      "Checking if N = 16 is a perfect power:\n",
      "  Yes, 16 = 4^2\n",
      "\n",
      "Checking if 15 and 7 are coprime:\n",
      "  Coprime? True\n",
      "\n",
      "Extracting order and factors for n = 15 with base a = 7:\n",
      "  Order r = 4\n",
      "  Extracted factors: (3, 5)\n"
     ]
    }
   ],
   "source": [
    "N = 16  # Try a perfect power: 16 = 2^4\n",
    "print(\"Checking if N =\", N, \"is a perfect power:\")\n",
    "is_pp, base, exponent = is_perfect_power(N)\n",
    "if is_pp:\n",
    "    print(f\"  Yes, {N} = {base}^{exponent}\")\n",
    "else:\n",
    "    print(\"  No, it is not a perfect power.\")\n",
    "\n",
    "# Example for coprimality check:\n",
    "n = 15\n",
    "a = 7\n",
    "print(f\"\\nChecking if {n} and {a} are coprime:\")\n",
    "print(\"  Coprime?\" , are_coprime(n, a))\n",
    "\n",
    "# Example for order and factor extraction:\n",
    "# Here we use n = 15 and a = 7. Note that 7 and 15 are coprime.\n",
    "print(f\"\\nExtracting order and factors for n = {n} with base a = {a}:\")\n",
    "r, factors = order_and_factors(n, a)\n",
    "print(\"  Order r =\", r)\n",
    "if factors:\n",
    "    print(\"  Extracted factors:\", factors)\n",
    "else:\n",
    "    print(\"  Order is not even; no factors extracted via this method.\")"
   ]
  },
  {
   "cell_type": "markdown",
   "metadata": {},
   "source": [
    "2) Create quantum circuits:\n",
    "\n",
    "- to perform QFT and inverse QFT on N qubits;\n",
    "- to perform the double-controlled modular addition of a in the Fourier space and its inverse;\n",
    "- to perform controlled modular multiplication by a "
   ]
  },
  {
   "cell_type": "code",
   "execution_count": null,
   "metadata": {},
   "outputs": [],
   "source": []
  },
  {
   "cell_type": "markdown",
   "metadata": {},
   "source": [
    "3) Create a program that performs the factorization:\n",
    "\n",
    "- get a positive odd integer N (user input) and check whether N is a perfect power (function 1a);\n",
    "- get base a and check whether a and N are coprime (function 1b);\n",
    "with n as the number of bits in N, create 3 quantum registers: a n qubit register (initialized to 1) and a n+2 auxiliary qubit register for performing modular multiplication, and a 2n qubit register to perform the inverse QFT (initialized to uniform superposition);\n",
    "- apply the modular multiplication gate of power 2k controlled by qubit k (for each k=0,2n) in the 2n qubit register;\n",
    "- apply the inverse QFT on the 2n qubit register and read it out (measure all 2n qubits);\n",
    "- extract the exponent r and the factors of N from the measured data (function 1c)"
   ]
  },
  {
   "cell_type": "code",
   "execution_count": null,
   "metadata": {},
   "outputs": [],
   "source": []
  },
  {
   "cell_type": "markdown",
   "metadata": {},
   "source": [
    "### 1b - (40pts) Test your program on N=15,35,55, then submit the circuit first to \"ionq_simulator\" without and with noise model, check the results and then run it on an IonQ QPU."
   ]
  },
  {
   "cell_type": "code",
   "execution_count": null,
   "metadata": {},
   "outputs": [],
   "source": []
  },
  {
   "cell_type": "markdown",
   "metadata": {},
   "source": [
    "### 1c - (extra credit 30pts) Finally, choose a number 156 < N < 256, which is the product of 2 primes, and factorize N using the IonQ Forte-1 QPU."
   ]
  },
  {
   "cell_type": "markdown",
   "metadata": {},
   "source": []
  }
 ],
 "metadata": {
  "kernelspec": {
   "display_name": "base",
   "language": "python",
   "name": "python3"
  },
  "language_info": {
   "codemirror_mode": {
    "name": "ipython",
    "version": 3
   },
   "file_extension": ".py",
   "mimetype": "text/x-python",
   "name": "python",
   "nbconvert_exporter": "python",
   "pygments_lexer": "ipython3",
   "version": "3.12.4"
  }
 },
 "nbformat": 4,
 "nbformat_minor": 2
}
