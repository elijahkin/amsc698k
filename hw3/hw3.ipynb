{
 "cells": [
  {
   "cell_type": "markdown",
   "metadata": {},
   "source": [
    "# AMSC698K Homework 3\n",
    "##### Elijah Kin & Noorain Noorani"
   ]
  },
  {
   "cell_type": "code",
   "execution_count": 1,
   "metadata": {},
   "outputs": [
    {
     "name": "stdout",
     "output_type": "stream",
     "text": [
      "1.3.2\n"
     ]
    }
   ],
   "source": [
    "import qiskit\n",
    "from qiskit import QuantumCircuit\n",
    "from qiskit.visualization import plot_histogram\n",
    "\n",
    "print(qiskit.__version__)"
   ]
  },
  {
   "cell_type": "markdown",
   "metadata": {},
   "source": [
    "### Create a GHZ state of 8 qubits using QISkit or Cirq. Obtain frequency plots for 10,000 samples when..."
   ]
  },
  {
   "cell_type": "code",
   "execution_count": 2,
   "metadata": {},
   "outputs": [
    {
     "data": {
      "image/png": "[encoded data removed]",
      "text/plain": [
       "<Figure size 621.941x367.889 with 1 Axes>"
      ]
     },
     "execution_count": 2,
     "metadata": {},
     "output_type": "execute_result"
    }
   ],
   "source": [
    "def ghz_circuit():\n",
    "  qc = QuantumCircuit(3, 3)\n",
    "  qc.h(0)\n",
    "  qc.cx(0, 1)\n",
    "  qc.cx(1, 2)\n",
    "  qc.measure([0, 1, 2], [0, 1, 2])\n",
    "  return qc\n",
    "\n",
    "qc = ghz_circuit()\n",
    "qc.draw(output='mpl')"
   ]
  },
  {
   "cell_type": "markdown",
   "metadata": {},
   "source": [
    "a) sampling on a QISkit AER simulator or Cirq Simulator without noise model and with the simple noise models for Aria-1 and Forte-1 (show all results on a single frequency plot);"
   ]
  },
  {
   "cell_type": "code",
   "execution_count": 3,
   "metadata": {},
   "outputs": [],
   "source": [
    "from qiskit_aer import Aer\n",
    "from qiskit_ionq import IonQProvider"
   ]
  },
  {
   "cell_type": "code",
   "execution_count": 4,
   "metadata": {},
   "outputs": [
    {
     "name": "stdout",
     "output_type": "stream",
     "text": [
      "{'111': 514, '000': 486}\n"
     ]
    }
   ],
   "source": [
    "backend = Aer.get_backend('aer_simulator')\n",
    "job = backend.run(qc, shots=1000)\n",
    "result = job.result()\n",
    "aer_counts = result.get_counts(qc)\n",
    "print(aer_counts)"
   ]
  },
  {
   "cell_type": "code",
   "execution_count": 5,
   "metadata": {},
   "outputs": [
    {
     "ename": "IonQCredentialsError",
     "evalue": "IonQCredentialsError('Credentials `token` may not be None!')",
     "output_type": "error",
     "traceback": [
      "\u001b[0;31m---------------------------------------------------------------------------\u001b[0m",
      "\u001b[0;31mIonQCredentialsError\u001b[0m                      Traceback (most recent call last)",
      "Cell \u001b[0;32mIn[5], line 4\u001b[0m\n\u001b[1;32m      2\u001b[0m noisy_backend \u001b[38;5;241m=\u001b[39m provider\u001b[38;5;241m.\u001b[39mget_backend(\u001b[38;5;124m'\u001b[39m\u001b[38;5;124mionq_simulator\u001b[39m\u001b[38;5;124m'\u001b[39m)\n\u001b[1;32m      3\u001b[0m noisy_backend\u001b[38;5;241m.\u001b[39mset_options(noise_model\u001b[38;5;241m=\u001b[39m\u001b[38;5;124m'\u001b[39m\u001b[38;5;124maria-1\u001b[39m\u001b[38;5;124m'\u001b[39m)\n\u001b[0;32m----> 4\u001b[0m job \u001b[38;5;241m=\u001b[39m \u001b[43mnoisy_backend\u001b[49m\u001b[38;5;241;43m.\u001b[39;49m\u001b[43mrun\u001b[49m\u001b[43m(\u001b[49m\u001b[43mqc\u001b[49m\u001b[43m,\u001b[49m\u001b[43m \u001b[49m\u001b[43mshots\u001b[49m\u001b[38;5;241;43m=\u001b[39;49m\u001b[38;5;241;43m1000\u001b[39;49m\u001b[43m)\u001b[49m\n\u001b[1;32m      5\u001b[0m result \u001b[38;5;241m=\u001b[39m job\u001b[38;5;241m.\u001b[39mresult()\n\u001b[1;32m      6\u001b[0m aria_counts \u001b[38;5;241m=\u001b[39m result\u001b[38;5;241m.\u001b[39mget_counts(qc)\n",
      "File \u001b[0;32m/Library/Frameworks/Python.framework/Versions/3.9/lib/python3.9/site-packages/qiskit_ionq/ionq_backend.py:387\u001b[0m, in \u001b[0;36mIonQSimulatorBackend.run\u001b[0;34m(self, circuit, **kwargs)\u001b[0m\n\u001b[1;32m    372\u001b[0m \u001b[38;5;28;01mdef\u001b[39;00m \u001b[38;5;21mrun\u001b[39m(\u001b[38;5;28mself\u001b[39m, circuit: QuantumCircuit, \u001b[38;5;241m*\u001b[39m\u001b[38;5;241m*\u001b[39mkwargs) \u001b[38;5;241m-\u001b[39m\u001b[38;5;241m>\u001b[39m ionq_job\u001b[38;5;241m.\u001b[39mIonQJob:\n\u001b[1;32m    373\u001b[0m \u001b[38;5;250m    \u001b[39m\u001b[38;5;124;03m\"\"\"Create and run a job on IonQ's Simulator Backend.\u001b[39;00m\n\u001b[1;32m    374\u001b[0m \n\u001b[1;32m    375\u001b[0m \u001b[38;5;124;03m    .. WARNING:\u001b[39;00m\n\u001b[0;32m   (...)\u001b[0m\n\u001b[1;32m    385\u001b[0m \u001b[38;5;124;03m        IonQJob: A reference to the job that was submitted.\u001b[39;00m\n\u001b[1;32m    386\u001b[0m \u001b[38;5;124;03m    \"\"\"\u001b[39;00m\n\u001b[0;32m--> 387\u001b[0m     \u001b[38;5;28;01mreturn\u001b[39;00m \u001b[38;5;28;43msuper\u001b[39;49m\u001b[43m(\u001b[49m\u001b[43m)\u001b[49m\u001b[38;5;241;43m.\u001b[39;49m\u001b[43mrun\u001b[49m\u001b[43m(\u001b[49m\u001b[43mcircuit\u001b[49m\u001b[43m,\u001b[49m\u001b[43m \u001b[49m\u001b[38;5;241;43m*\u001b[39;49m\u001b[38;5;241;43m*\u001b[39;49m\u001b[43mkwargs\u001b[49m\u001b[43m)\u001b[49m\n",
      "File \u001b[0;32m/Library/Frameworks/Python.framework/Versions/3.9/lib/python3.9/site-packages/qiskit_ionq/ionq_backend.py:255\u001b[0m, in \u001b[0;36mIonQBackend.run\u001b[0;34m(self, circuit, **kwargs)\u001b[0m\n\u001b[1;32m    242\u001b[0m     warnings\u001b[38;5;241m.\u001b[39mwarn(\n\u001b[1;32m    243\u001b[0m         (\n\u001b[1;32m    244\u001b[0m             \u001b[38;5;124m\"\u001b[39m\u001b[38;5;124mOption job_settings is set on the backend, and on the request. \u001b[39m\u001b[38;5;124m\"\u001b[39m\n\u001b[0;32m   (...)\u001b[0m\n\u001b[1;32m    248\u001b[0m         stacklevel\u001b[38;5;241m=\u001b[39m\u001b[38;5;241m2\u001b[39m,\n\u001b[1;32m    249\u001b[0m     )\n\u001b[1;32m    250\u001b[0m passed_args \u001b[38;5;241m=\u001b[39m kwargs\n\u001b[1;32m    252\u001b[0m job \u001b[38;5;241m=\u001b[39m ionq_job\u001b[38;5;241m.\u001b[39mIonQJob(\n\u001b[1;32m    253\u001b[0m     \u001b[38;5;28mself\u001b[39m,\n\u001b[1;32m    254\u001b[0m     \u001b[38;5;28;01mNone\u001b[39;00m,\n\u001b[0;32m--> 255\u001b[0m     \u001b[38;5;28;43mself\u001b[39;49m\u001b[38;5;241;43m.\u001b[39;49m\u001b[43mclient\u001b[49m,\n\u001b[1;32m    256\u001b[0m     circuit\u001b[38;5;241m=\u001b[39mcircuit,\n\u001b[1;32m    257\u001b[0m     passed_args\u001b[38;5;241m=\u001b[39mpassed_args,\n\u001b[1;32m    258\u001b[0m )\n\u001b[1;32m    259\u001b[0m job\u001b[38;5;241m.\u001b[39msubmit()\n\u001b[1;32m    260\u001b[0m \u001b[38;5;28;01mreturn\u001b[39;00m job\n",
      "File \u001b[0;32m/Library/Frameworks/Python.framework/Versions/3.9/lib/python3.9/site-packages/qiskit_ionq/ionq_backend.py:165\u001b[0m, in \u001b[0;36mIonQBackend.client\u001b[0;34m(self)\u001b[0m\n\u001b[1;32m    159\u001b[0m \u001b[38;5;250m\u001b[39m\u001b[38;5;124;03m\"\"\"A lazily populated IonQ API Client.\u001b[39;00m\n\u001b[1;32m    160\u001b[0m \n\u001b[1;32m    161\u001b[0m \u001b[38;5;124;03mReturns:\u001b[39;00m\n\u001b[1;32m    162\u001b[0m \u001b[38;5;124;03m    IonQClient: An instance of a REST API client\u001b[39;00m\n\u001b[1;32m    163\u001b[0m \u001b[38;5;124;03m\"\"\"\u001b[39;00m\n\u001b[1;32m    164\u001b[0m \u001b[38;5;28;01mif\u001b[39;00m \u001b[38;5;28mself\u001b[39m\u001b[38;5;241m.\u001b[39m_client \u001b[38;5;129;01mis\u001b[39;00m \u001b[38;5;28;01mNone\u001b[39;00m:\n\u001b[0;32m--> 165\u001b[0m     \u001b[38;5;28mself\u001b[39m\u001b[38;5;241m.\u001b[39m_client \u001b[38;5;241m=\u001b[39m \u001b[38;5;28;43mself\u001b[39;49m\u001b[38;5;241;43m.\u001b[39;49m\u001b[43mcreate_client\u001b[49m\u001b[43m(\u001b[49m\u001b[43m)\u001b[49m\n\u001b[1;32m    166\u001b[0m \u001b[38;5;28;01mreturn\u001b[39;00m \u001b[38;5;28mself\u001b[39m\u001b[38;5;241m.\u001b[39m_client\n",
      "File \u001b[0;32m/Library/Frameworks/Python.framework/Versions/3.9/lib/python3.9/site-packages/qiskit_ionq/ionq_backend.py:189\u001b[0m, in \u001b[0;36mIonQBackend.create_client\u001b[0;34m(self)\u001b[0m\n\u001b[1;32m    184\u001b[0m     \u001b[38;5;28;01mraise\u001b[39;00m exceptions\u001b[38;5;241m.\u001b[39mIonQCredentialsError(\n\u001b[1;32m    185\u001b[0m         \u001b[38;5;124m\"\u001b[39m\u001b[38;5;124mCredentials `token` not present in provider.\u001b[39m\u001b[38;5;124m\"\u001b[39m\n\u001b[1;32m    186\u001b[0m     ) \u001b[38;5;28;01mfrom\u001b[39;00m \u001b[38;5;21;01mex\u001b[39;00m\n\u001b[1;32m    188\u001b[0m \u001b[38;5;28;01mif\u001b[39;00m token \u001b[38;5;129;01mis\u001b[39;00m \u001b[38;5;28;01mNone\u001b[39;00m:\n\u001b[0;32m--> 189\u001b[0m     \u001b[38;5;28;01mraise\u001b[39;00m exceptions\u001b[38;5;241m.\u001b[39mIonQCredentialsError(\n\u001b[1;32m    190\u001b[0m         \u001b[38;5;124m\"\u001b[39m\u001b[38;5;124mCredentials `token` may not be None!\u001b[39m\u001b[38;5;124m\"\u001b[39m\n\u001b[1;32m    191\u001b[0m     )\n\u001b[1;32m    193\u001b[0m \u001b[38;5;28;01mtry\u001b[39;00m:\n\u001b[1;32m    194\u001b[0m     url \u001b[38;5;241m=\u001b[39m credentials[\u001b[38;5;124m\"\u001b[39m\u001b[38;5;124murl\u001b[39m\u001b[38;5;124m\"\u001b[39m]\n",
      "\u001b[0;31mIonQCredentialsError\u001b[0m: IonQCredentialsError('Credentials `token` may not be None!')"
     ]
    }
   ],
   "source": [
    "provider = IonQProvider()\n",
    "noisy_backend = provider.get_backend('ionq_simulator')\n",
    "noisy_backend.set_options(noise_model='aria-1')\n",
    "job = noisy_backend.run(qc, shots=1000)\n",
    "result = job.result()\n",
    "aria_counts = result.get_counts(qc)\n",
    "print(aria_counts)"
   ]
  },
  {
   "cell_type": "code",
   "execution_count": null,
   "metadata": {},
   "outputs": [],
   "source": [
    "# TODO forte_counts"
   ]
  },
  {
   "cell_type": "code",
   "execution_count": null,
   "metadata": {},
   "outputs": [],
   "source": [
    "plot_histogram([aer_counts, aria_counts, forte_counts], title='TODO')"
   ]
  },
  {
   "cell_type": "markdown",
   "metadata": {},
   "source": [
    "b) sampling on the \"ionq_simulator\" backend for ideal quantum devices and with noise models \"harmony\" and \"aria-1\" (show all results on a single frequency plot);"
   ]
  },
  {
   "cell_type": "code",
   "execution_count": null,
   "metadata": {},
   "outputs": [],
   "source": [
    "provider = IonQProvider()\n",
    "\n",
    "print(provider.backends())\n",
    "simulator_backend = provider.get_backend('simulator')"
   ]
  },
  {
   "cell_type": "code",
   "execution_count": null,
   "metadata": {},
   "outputs": [],
   "source": [
    "# Ideal Simulator\n",
    "simulator_backend = provider.get_backend('simulator')\n",
    "\n",
    "# Noisy Simulator\n",
    "# Aria Noise Model\n",
    "noisy_backend_aria = provider.get_backend('ionq_simulator')\n",
    "noisy_backend_aria.set_options(noise_model='aria-1')\n",
    "\n",
    "# Harmony Noise Model\n",
    "noisy_backend_harmony = provider.get_backend('ionq_simulator')\n",
    "noisy_backend_harmony.set_options(noise_model='harmony-1')"
   ]
  },
  {
   "cell_type": "code",
   "execution_count": null,
   "metadata": {},
   "outputs": [],
   "source": [
    "# Run the circuit on IonQ's platform:\n",
    "job_ideal = simulator_backend.run(qc, shots=10000)\n",
    "job_aria = noisy_backend_aria.run(qc, shots=10000)\n",
    "job_harmony = noisy_backend_harmony.run(qc, shots=10000)\n",
    "\n",
    "# Print the counts\n",
    "print(job.get_counts())"
   ]
  },
  {
   "cell_type": "markdown",
   "metadata": {},
   "source": [
    "c) sampling on a real quantum computer (\"ionq_qpu.forte-1\") with and without error mitigation."
   ]
  },
  {
   "cell_type": "code",
   "execution_count": null,
   "metadata": {},
   "outputs": [],
   "source": [
    "# TODO\n",
    "qpu_backend = provider.get_backend('ionq_qpu')"
   ]
  },
  {
   "cell_type": "code",
   "execution_count": null,
   "metadata": {},
   "outputs": [],
   "source": [
    "from qiskit_ionq import ErrorMitigation\n",
    "\n",
    "# Run the circuit on IonQ's platform:\n",
    "# job_error_mitigation = qpu_backend.run(\n",
    "#     qc,\n",
    "#     shots=1000,\n",
    "#     error_mitigation=ErrorMitigation.NO_DEBIASING\n",
    "# )\n",
    "\n",
    "# Save results"
   ]
  },
  {
   "cell_type": "markdown",
   "metadata": {},
   "source": [
    "d) using your IBMQE account, find the least busy IBM quantum device, then i) perform the sampling on this quantum device and ii) simulate the sampling using the QISkit noise model for this quantum device."
   ]
  },
  {
   "cell_type": "code",
   "execution_count": null,
   "metadata": {},
   "outputs": [],
   "source": [
    "# TODO"
   ]
  },
  {
   "cell_type": "markdown",
   "metadata": {},
   "source": [
    "### 2. A half adder is a logical circuit that adds 2 bits resulting in 2 one-bit registers, one containing the sum, the other the 'carry' (overflow) bit. A full adder adds 2 input bits as well as a carry bit (eg. from addition of less significant bits). \n",
    "\n",
    "Expand the quantum circuit for the half adder presented in class to realize a full adder."
   ]
  },
  {
   "cell_type": "markdown",
   "metadata": {},
   "source": [
    "### Half Adder"
   ]
  },
  {
   "cell_type": "code",
   "execution_count": null,
   "metadata": {},
   "outputs": [],
   "source": [
    "# TODO\n",
    "from qiskit import QuantumRegister, ClassicalRegister\n",
    "\n",
    "X = QuantumRegister(1, \"in |X⟩\")\n",
    "Y = QuantumRegister(1, \"in |Y⟩\")\n",
    "sum_out = QuantumRegister(1, \"out SUM |0⟩\")\n",
    "SUM = QuantumCircuit(X, Y, sum_out, name='SUM')\n",
    "SUM.cx(1, 2)\n",
    "SUM.cx(0, 2)\n",
    "\n",
    "sum_circuit = SUM.draw('mpl', True)\n",
    "SUM = SUM.to_instruction() #converts circuit to quantum gate compatible with classical bits\n",
    "\n",
    "sum_circuit"
   ]
  },
  {
   "cell_type": "code",
   "execution_count": null,
   "metadata": {},
   "outputs": [],
   "source": [
    "c = ClassicalRegister(4)\n",
    "cout = QuantumRegister(1, 'out Carry |0⟩')\n",
    "half_adder = QuantumCircuit(X, Y, sum_out, cout, c)\n",
    "\n",
    "half_adder.barrier()\n",
    "half_adder.ccx(0, 1, 3)\n",
    "half_adder.barrier()\n",
    "half_adder.append(SUM, [0, 1, 2])\n",
    "\n",
    "half_adder.measure(X, c[3])\n",
    "half_adder.measure(Y, c[2])\n",
    "half_adder.measure(sum_out, c[1])\n",
    "half_adder.measure(cout ,c[0])\n",
    "\n",
    "half_adder_circuit = half_adder.draw('mpl', True)\n",
    "half_adder_circuit"
   ]
  },
  {
   "cell_type": "markdown",
   "metadata": {},
   "source": [
    "### Full Adder"
   ]
  },
  {
   "cell_type": "code",
   "execution_count": null,
   "metadata": {},
   "outputs": [],
   "source": [
    "# Need to add carry state input to the circuit\n",
    "cin = QuantumRegister(1, \"in |Carry⟩\")\n",
    "cout = QuantumRegister(1, 'out |0⟩')\n",
    "carry = QuantumCircuit(cin, X, Y, cout, name='CARRY')\n",
    "carry.ccx(1, 2, 3)\n",
    "carry.cx(1, 2)\n",
    "carry.ccx(0, 2, 3)\n",
    "\n",
    "carry_circuit = carry.draw('mpl', True)\n",
    "carry_circuit"
   ]
  },
  {
   "cell_type": "code",
   "execution_count": null,
   "metadata": {},
   "outputs": [],
   "source": [
    "## Full adder is having to half adder with from output of half adder x,y and carry between x+y and cin\n",
    "c = ClassicalRegister(2)\n",
    "cin = QuantumRegister(1, \"in |Carry⟩\")\n",
    "cout = QuantumRegister(1, 'out Carry |0⟩')\n",
    "full_adder = QuantumCircuit(cin, X, Y, sum_out, cout, c)\n",
    "\n",
    "# Full Adder 1-bit\n",
    "full_adder.barrier()\n",
    "full_adder.append(carry, [0,1,2,4])\n",
    "\n",
    "full_adder.barrier()\n",
    "full_adder.cx(1,2)\n",
    "full_adder.append(SUM, [1,2,3])\n",
    "\n",
    "full_adder.measure(sum_out, c[0])\n",
    "full_adder.measure(cout, c[1])\n",
    "\n",
    "\n",
    "full_adder.draw('mpl', True)"
   ]
  },
  {
   "cell_type": "code",
   "execution_count": null,
   "metadata": {},
   "outputs": [],
   "source": []
  }
 ],
 "metadata": {
  "kernelspec": {
   "display_name": "Python 3",
   "language": "python",
   "name": "python3"
  },
  "language_info": {
   "codemirror_mode": {
    "name": "ipython",
    "version": 3
   },
   "file_extension": ".py",
   "mimetype": "text/x-python",
   "name": "python",
   "nbconvert_exporter": "python",
   "pygments_lexer": "ipython3",
   "version": "3.9.5"
  }
 },
 "nbformat": 4,
 "nbformat_minor": 2
}
