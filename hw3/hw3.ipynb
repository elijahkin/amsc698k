{
 "cells": [
  {
   "cell_type": "markdown",
   "metadata": {},
   "source": [
    "# AMSC698K Homework 3\n",
    "##### Elijah Kin & Noorain Noorani"
   ]
  },
  {
   "cell_type": "code",
   "execution_count": 2,
   "metadata": {},
   "outputs": [
    {
     "name": "stdout",
     "output_type": "stream",
     "text": [
      "1.2.4\n"
     ]
    }
   ],
   "source": [
    "import qiskit\n",
    "from qiskit import QuantumCircuit\n",
    "\n",
    "print(qiskit.__version__)"
   ]
  },
  {
   "cell_type": "markdown",
   "metadata": {},
   "source": [
    "### Create a GHZ state of 8 qubits using QISkit or Cirq. Obtain frequency plots for 10,000 samples when...\n",
    "\n",
    "a) sampling on a QISkit AER simulator or Cirq Simulator without noise model and with the simple noise models for Aria-1 and Forte-1 (show all results on a single frequency plot);"
   ]
  },
  {
   "cell_type": "code",
   "execution_count": 3,
   "metadata": {},
   "outputs": [
    {
     "data": {
      "image/png": "[encoded data removed]",
      "text/plain": [
       "<Figure size 371.107x284.278 with 1 Axes>"
      ]
     },
     "execution_count": 3,
     "metadata": {},
     "output_type": "execute_result"
    }
   ],
   "source": [
    "def ghz_circuit():\n",
    "  qc = QuantumCircuit(3)\n",
    "  qc.h(0)\n",
    "  qc.cx(0, 1)\n",
    "  qc.cx(1, 2)\n",
    "  return qc\n",
    "\n",
    "ghz_circuit().draw(output='mpl')"
   ]
  },
  {
   "cell_type": "code",
   "execution_count": 4,
   "metadata": {},
   "outputs": [
    {
     "data": {
      "image/png": "[encoded data removed]",
      "text/plain": [
       "<Figure size 621.941x367.889 with 1 Axes>"
      ]
     },
     "execution_count": 4,
     "metadata": {},
     "output_type": "execute_result"
    }
   ],
   "source": [
    "qc = QuantumCircuit(3,3)\n",
    "qc.h(0)\n",
    "qc.cx(0, 1)\n",
    "qc.cx(1, 2)\n",
    "qc.measure([0, 1, 2],[0, 1, 2])\n",
    "\n",
    "\n",
    "# qc = ghz_circuit()\n",
    "\n",
    "qc.draw(output='mpl')"
   ]
  },
  {
   "cell_type": "code",
   "execution_count": 5,
   "metadata": {},
   "outputs": [
    {
     "name": "stdout",
     "output_type": "stream",
     "text": [
      "[AerSimulator('aer_simulator'), AerSimulator('aer_simulator_statevector'), AerSimulator('aer_simulator_density_matrix'), AerSimulator('aer_simulator_stabilizer'), AerSimulator('aer_simulator_matrix_product_state'), AerSimulator('aer_simulator_extended_stabilizer'), AerSimulator('aer_simulator_unitary'), AerSimulator('aer_simulator_superop'), QasmSimulator('qasm_simulator'), StatevectorSimulator('statevector_simulator'), UnitarySimulator('unitary_simulator')]\n"
     ]
    }
   ],
   "source": [
    "from qiskit_aer import Aer\n",
    "from qiskit import transpile\n",
    "\n",
    "print(Aer.backends())"
   ]
  },
  {
   "cell_type": "code",
   "execution_count": 6,
   "metadata": {},
   "outputs": [
    {
     "name": "stdout",
     "output_type": "stream",
     "text": [
      "{'111': 526, '000': 474}\n"
     ]
    }
   ],
   "source": [
    "backend = Aer.get_backend(\"aer_simulator\")\n",
    "job = backend.run(qc, shots=1000)\n",
    "result = job.result()\n",
    "counts = result.get_counts(qc)\n",
    "print(counts)"
   ]
  },
  {
   "cell_type": "code",
   "execution_count": 7,
   "metadata": {},
   "outputs": [],
   "source": [
    "from qiskit_ionq import IonQProvider\n",
    "\n",
    "provider = IonQProvider()\n",
    "noisy_backend = provider.get_backend(\"ionq_simulator\")\n",
    "noisy_backend.set_options(noise_model=\"aria-1\")"
   ]
  },
  {
   "cell_type": "code",
   "execution_count": 8,
   "metadata": {},
   "outputs": [
    {
     "ename": "IonQCredentialsError",
     "evalue": "IonQCredentialsError('Credentials `token` may not be None!')",
     "output_type": "error",
     "traceback": [
      "\u001b[0;31m---------------------------------------------------------------------------\u001b[0m",
      "\u001b[0;31mIonQCredentialsError\u001b[0m                      Traceback (most recent call last)",
      "Cell \u001b[0;32mIn[8], line 1\u001b[0m\n\u001b[0;32m----> 1\u001b[0m job \u001b[38;5;241m=\u001b[39m noisy_backend\u001b[38;5;241m.\u001b[39mrun(qc, shots\u001b[38;5;241m=\u001b[39m\u001b[38;5;241m1000\u001b[39m)\n\u001b[1;32m      2\u001b[0m result \u001b[38;5;241m=\u001b[39m job\u001b[38;5;241m.\u001b[39mresult()\n\u001b[1;32m      3\u001b[0m counts \u001b[38;5;241m=\u001b[39m result\u001b[38;5;241m.\u001b[39mget_counts(qc)\n",
      "File \u001b[0;32m/opt/anaconda3/lib/python3.12/site-packages/qiskit_ionq/ionq_backend.py:387\u001b[0m, in \u001b[0;36mIonQSimulatorBackend.run\u001b[0;34m(self, circuit, **kwargs)\u001b[0m\n\u001b[1;32m    372\u001b[0m \u001b[38;5;28;01mdef\u001b[39;00m \u001b[38;5;21mrun\u001b[39m(\u001b[38;5;28mself\u001b[39m, circuit: QuantumCircuit, \u001b[38;5;241m*\u001b[39m\u001b[38;5;241m*\u001b[39mkwargs) \u001b[38;5;241m-\u001b[39m\u001b[38;5;241m>\u001b[39m ionq_job\u001b[38;5;241m.\u001b[39mIonQJob:\n\u001b[1;32m    373\u001b[0m \u001b[38;5;250m    \u001b[39m\u001b[38;5;124;03m\"\"\"Create and run a job on IonQ's Simulator Backend.\u001b[39;00m\n\u001b[1;32m    374\u001b[0m \n\u001b[1;32m    375\u001b[0m \u001b[38;5;124;03m    .. WARNING:\u001b[39;00m\n\u001b[0;32m   (...)\u001b[0m\n\u001b[1;32m    385\u001b[0m \u001b[38;5;124;03m        IonQJob: A reference to the job that was submitted.\u001b[39;00m\n\u001b[1;32m    386\u001b[0m \u001b[38;5;124;03m    \"\"\"\u001b[39;00m\n\u001b[0;32m--> 387\u001b[0m     \u001b[38;5;28;01mreturn\u001b[39;00m \u001b[38;5;28msuper\u001b[39m()\u001b[38;5;241m.\u001b[39mrun(circuit, \u001b[38;5;241m*\u001b[39m\u001b[38;5;241m*\u001b[39mkwargs)\n",
      "File \u001b[0;32m/opt/anaconda3/lib/python3.12/site-packages/qiskit_ionq/ionq_backend.py:255\u001b[0m, in \u001b[0;36mIonQBackend.run\u001b[0;34m(self, circuit, **kwargs)\u001b[0m\n\u001b[1;32m    242\u001b[0m     warnings\u001b[38;5;241m.\u001b[39mwarn(\n\u001b[1;32m    243\u001b[0m         (\n\u001b[1;32m    244\u001b[0m             \u001b[38;5;124m\"\u001b[39m\u001b[38;5;124mOption job_settings is set on the backend, and on the request. \u001b[39m\u001b[38;5;124m\"\u001b[39m\n\u001b[0;32m   (...)\u001b[0m\n\u001b[1;32m    248\u001b[0m         stacklevel\u001b[38;5;241m=\u001b[39m\u001b[38;5;241m2\u001b[39m,\n\u001b[1;32m    249\u001b[0m     )\n\u001b[1;32m    250\u001b[0m passed_args \u001b[38;5;241m=\u001b[39m kwargs\n\u001b[1;32m    252\u001b[0m job \u001b[38;5;241m=\u001b[39m ionq_job\u001b[38;5;241m.\u001b[39mIonQJob(\n\u001b[1;32m    253\u001b[0m     \u001b[38;5;28mself\u001b[39m,\n\u001b[1;32m    254\u001b[0m     \u001b[38;5;28;01mNone\u001b[39;00m,\n\u001b[0;32m--> 255\u001b[0m     \u001b[38;5;28mself\u001b[39m\u001b[38;5;241m.\u001b[39mclient,\n\u001b[1;32m    256\u001b[0m     circuit\u001b[38;5;241m=\u001b[39mcircuit,\n\u001b[1;32m    257\u001b[0m     passed_args\u001b[38;5;241m=\u001b[39mpassed_args,\n\u001b[1;32m    258\u001b[0m )\n\u001b[1;32m    259\u001b[0m job\u001b[38;5;241m.\u001b[39msubmit()\n\u001b[1;32m    260\u001b[0m \u001b[38;5;28;01mreturn\u001b[39;00m job\n",
      "File \u001b[0;32m/opt/anaconda3/lib/python3.12/site-packages/qiskit_ionq/ionq_backend.py:165\u001b[0m, in \u001b[0;36mIonQBackend.client\u001b[0;34m(self)\u001b[0m\n\u001b[1;32m    159\u001b[0m \u001b[38;5;250m\u001b[39m\u001b[38;5;124;03m\"\"\"A lazily populated IonQ API Client.\u001b[39;00m\n\u001b[1;32m    160\u001b[0m \n\u001b[1;32m    161\u001b[0m \u001b[38;5;124;03mReturns:\u001b[39;00m\n\u001b[1;32m    162\u001b[0m \u001b[38;5;124;03m    IonQClient: An instance of a REST API client\u001b[39;00m\n\u001b[1;32m    163\u001b[0m \u001b[38;5;124;03m\"\"\"\u001b[39;00m\n\u001b[1;32m    164\u001b[0m \u001b[38;5;28;01mif\u001b[39;00m \u001b[38;5;28mself\u001b[39m\u001b[38;5;241m.\u001b[39m_client \u001b[38;5;129;01mis\u001b[39;00m \u001b[38;5;28;01mNone\u001b[39;00m:\n\u001b[0;32m--> 165\u001b[0m     \u001b[38;5;28mself\u001b[39m\u001b[38;5;241m.\u001b[39m_client \u001b[38;5;241m=\u001b[39m \u001b[38;5;28mself\u001b[39m\u001b[38;5;241m.\u001b[39mcreate_client()\n\u001b[1;32m    166\u001b[0m \u001b[38;5;28;01mreturn\u001b[39;00m \u001b[38;5;28mself\u001b[39m\u001b[38;5;241m.\u001b[39m_client\n",
      "File \u001b[0;32m/opt/anaconda3/lib/python3.12/site-packages/qiskit_ionq/ionq_backend.py:189\u001b[0m, in \u001b[0;36mIonQBackend.create_client\u001b[0;34m(self)\u001b[0m\n\u001b[1;32m    184\u001b[0m     \u001b[38;5;28;01mraise\u001b[39;00m exceptions\u001b[38;5;241m.\u001b[39mIonQCredentialsError(\n\u001b[1;32m    185\u001b[0m         \u001b[38;5;124m\"\u001b[39m\u001b[38;5;124mCredentials `token` not present in provider.\u001b[39m\u001b[38;5;124m\"\u001b[39m\n\u001b[1;32m    186\u001b[0m     ) \u001b[38;5;28;01mfrom\u001b[39;00m \u001b[38;5;21;01mex\u001b[39;00m\n\u001b[1;32m    188\u001b[0m \u001b[38;5;28;01mif\u001b[39;00m token \u001b[38;5;129;01mis\u001b[39;00m \u001b[38;5;28;01mNone\u001b[39;00m:\n\u001b[0;32m--> 189\u001b[0m     \u001b[38;5;28;01mraise\u001b[39;00m exceptions\u001b[38;5;241m.\u001b[39mIonQCredentialsError(\n\u001b[1;32m    190\u001b[0m         \u001b[38;5;124m\"\u001b[39m\u001b[38;5;124mCredentials `token` may not be None!\u001b[39m\u001b[38;5;124m\"\u001b[39m\n\u001b[1;32m    191\u001b[0m     )\n\u001b[1;32m    193\u001b[0m \u001b[38;5;28;01mtry\u001b[39;00m:\n\u001b[1;32m    194\u001b[0m     url \u001b[38;5;241m=\u001b[39m credentials[\u001b[38;5;124m\"\u001b[39m\u001b[38;5;124murl\u001b[39m\u001b[38;5;124m\"\u001b[39m]\n",
      "\u001b[0;31mIonQCredentialsError\u001b[0m: IonQCredentialsError('Credentials `token` may not be None!')"
     ]
    }
   ],
   "source": [
    "job = noisy_backend.run(qc, shots=1000)\n",
    "result = job.result()\n",
    "counts = result.get_counts(qc)\n",
    "print(counts)"
   ]
  },
  {
   "cell_type": "code",
   "execution_count": 9,
   "metadata": {},
   "outputs": [],
   "source": [
    "# TODO"
   ]
  },
  {
   "cell_type": "markdown",
   "metadata": {},
   "source": [
    "b) sampling on the \"ionq_simulator\" backend for ideal quantum devices and with noise models \"harmony\" and \"aria-1\" (show all results on a single frequency plot);"
   ]
  },
  {
   "cell_type": "code",
   "execution_count": 10,
   "metadata": {},
   "outputs": [
    {
     "name": "stdout",
     "output_type": "stream",
     "text": [
      "[<IonQSimulatorBackend('ionq_simulator')>, <IonQQPUBackend('ionq_qpu')>]\n"
     ]
    }
   ],
   "source": [
    "# TODO\n",
    "from qiskit_ionq import IonQProvider\n",
    "provider = IonQProvider()\n",
    "\n",
    "print(provider.backends())\n",
    "simulator_backend = provider.get_backend(\"simulator\")"
   ]
  },
  {
   "cell_type": "code",
   "execution_count": 11,
   "metadata": {},
   "outputs": [],
   "source": [
    "# Ideal Simulator\n",
    "simulator_backend = provider.get_backend(\"simulator\")\n",
    "\n",
    "# Noisy Simulator\n",
    "# Aria Noise Model\n",
    "noisy_backend_aria = provider.get_backend(\"ionq_simulator\")\n",
    "noisy_backend_aria.set_options(noise_model=\"aria-1\")\n",
    "\n",
    "# Harmony Noise Model\n",
    "noisy_backend_harmony = provider.get_backend(\"ionq_simulator\")\n",
    "noisy_backend_harmony.set_options(noise_model=\"harmony-1\")"
   ]
  },
  {
   "cell_type": "code",
   "execution_count": 12,
   "metadata": {},
   "outputs": [
    {
     "ename": "IonQCredentialsError",
     "evalue": "IonQCredentialsError('Credentials `token` may not be None!')",
     "output_type": "error",
     "traceback": [
      "\u001b[0;31m---------------------------------------------------------------------------\u001b[0m",
      "\u001b[0;31mIonQCredentialsError\u001b[0m                      Traceback (most recent call last)",
      "Cell \u001b[0;32mIn[12], line 2\u001b[0m\n\u001b[1;32m      1\u001b[0m \u001b[38;5;66;03m# Run the circuit on IonQ's platform:\u001b[39;00m\n\u001b[0;32m----> 2\u001b[0m job_ideal \u001b[38;5;241m=\u001b[39m simulator_backend\u001b[38;5;241m.\u001b[39mrun(qc, shots\u001b[38;5;241m=\u001b[39m\u001b[38;5;241m10000\u001b[39m)\n\u001b[1;32m      3\u001b[0m job_aria \u001b[38;5;241m=\u001b[39m noisy_backend_aria\u001b[38;5;241m.\u001b[39mrun(qc, shots\u001b[38;5;241m=\u001b[39m\u001b[38;5;241m10000\u001b[39m)\n\u001b[1;32m      4\u001b[0m job_harmony \u001b[38;5;241m=\u001b[39m noisy_backend_harmony\u001b[38;5;241m.\u001b[39mrun(qc, shots\u001b[38;5;241m=\u001b[39m\u001b[38;5;241m10000\u001b[39m)\n",
      "File \u001b[0;32m/opt/anaconda3/lib/python3.12/site-packages/qiskit_ionq/ionq_backend.py:387\u001b[0m, in \u001b[0;36mIonQSimulatorBackend.run\u001b[0;34m(self, circuit, **kwargs)\u001b[0m\n\u001b[1;32m    372\u001b[0m \u001b[38;5;28;01mdef\u001b[39;00m \u001b[38;5;21mrun\u001b[39m(\u001b[38;5;28mself\u001b[39m, circuit: QuantumCircuit, \u001b[38;5;241m*\u001b[39m\u001b[38;5;241m*\u001b[39mkwargs) \u001b[38;5;241m-\u001b[39m\u001b[38;5;241m>\u001b[39m ionq_job\u001b[38;5;241m.\u001b[39mIonQJob:\n\u001b[1;32m    373\u001b[0m \u001b[38;5;250m    \u001b[39m\u001b[38;5;124;03m\"\"\"Create and run a job on IonQ's Simulator Backend.\u001b[39;00m\n\u001b[1;32m    374\u001b[0m \n\u001b[1;32m    375\u001b[0m \u001b[38;5;124;03m    .. WARNING:\u001b[39;00m\n\u001b[0;32m   (...)\u001b[0m\n\u001b[1;32m    385\u001b[0m \u001b[38;5;124;03m        IonQJob: A reference to the job that was submitted.\u001b[39;00m\n\u001b[1;32m    386\u001b[0m \u001b[38;5;124;03m    \"\"\"\u001b[39;00m\n\u001b[0;32m--> 387\u001b[0m     \u001b[38;5;28;01mreturn\u001b[39;00m \u001b[38;5;28msuper\u001b[39m()\u001b[38;5;241m.\u001b[39mrun(circuit, \u001b[38;5;241m*\u001b[39m\u001b[38;5;241m*\u001b[39mkwargs)\n",
      "File \u001b[0;32m/opt/anaconda3/lib/python3.12/site-packages/qiskit_ionq/ionq_backend.py:255\u001b[0m, in \u001b[0;36mIonQBackend.run\u001b[0;34m(self, circuit, **kwargs)\u001b[0m\n\u001b[1;32m    242\u001b[0m     warnings\u001b[38;5;241m.\u001b[39mwarn(\n\u001b[1;32m    243\u001b[0m         (\n\u001b[1;32m    244\u001b[0m             \u001b[38;5;124m\"\u001b[39m\u001b[38;5;124mOption job_settings is set on the backend, and on the request. \u001b[39m\u001b[38;5;124m\"\u001b[39m\n\u001b[0;32m   (...)\u001b[0m\n\u001b[1;32m    248\u001b[0m         stacklevel\u001b[38;5;241m=\u001b[39m\u001b[38;5;241m2\u001b[39m,\n\u001b[1;32m    249\u001b[0m     )\n\u001b[1;32m    250\u001b[0m passed_args \u001b[38;5;241m=\u001b[39m kwargs\n\u001b[1;32m    252\u001b[0m job \u001b[38;5;241m=\u001b[39m ionq_job\u001b[38;5;241m.\u001b[39mIonQJob(\n\u001b[1;32m    253\u001b[0m     \u001b[38;5;28mself\u001b[39m,\n\u001b[1;32m    254\u001b[0m     \u001b[38;5;28;01mNone\u001b[39;00m,\n\u001b[0;32m--> 255\u001b[0m     \u001b[38;5;28mself\u001b[39m\u001b[38;5;241m.\u001b[39mclient,\n\u001b[1;32m    256\u001b[0m     circuit\u001b[38;5;241m=\u001b[39mcircuit,\n\u001b[1;32m    257\u001b[0m     passed_args\u001b[38;5;241m=\u001b[39mpassed_args,\n\u001b[1;32m    258\u001b[0m )\n\u001b[1;32m    259\u001b[0m job\u001b[38;5;241m.\u001b[39msubmit()\n\u001b[1;32m    260\u001b[0m \u001b[38;5;28;01mreturn\u001b[39;00m job\n",
      "File \u001b[0;32m/opt/anaconda3/lib/python3.12/site-packages/qiskit_ionq/ionq_backend.py:165\u001b[0m, in \u001b[0;36mIonQBackend.client\u001b[0;34m(self)\u001b[0m\n\u001b[1;32m    159\u001b[0m \u001b[38;5;250m\u001b[39m\u001b[38;5;124;03m\"\"\"A lazily populated IonQ API Client.\u001b[39;00m\n\u001b[1;32m    160\u001b[0m \n\u001b[1;32m    161\u001b[0m \u001b[38;5;124;03mReturns:\u001b[39;00m\n\u001b[1;32m    162\u001b[0m \u001b[38;5;124;03m    IonQClient: An instance of a REST API client\u001b[39;00m\n\u001b[1;32m    163\u001b[0m \u001b[38;5;124;03m\"\"\"\u001b[39;00m\n\u001b[1;32m    164\u001b[0m \u001b[38;5;28;01mif\u001b[39;00m \u001b[38;5;28mself\u001b[39m\u001b[38;5;241m.\u001b[39m_client \u001b[38;5;129;01mis\u001b[39;00m \u001b[38;5;28;01mNone\u001b[39;00m:\n\u001b[0;32m--> 165\u001b[0m     \u001b[38;5;28mself\u001b[39m\u001b[38;5;241m.\u001b[39m_client \u001b[38;5;241m=\u001b[39m \u001b[38;5;28mself\u001b[39m\u001b[38;5;241m.\u001b[39mcreate_client()\n\u001b[1;32m    166\u001b[0m \u001b[38;5;28;01mreturn\u001b[39;00m \u001b[38;5;28mself\u001b[39m\u001b[38;5;241m.\u001b[39m_client\n",
      "File \u001b[0;32m/opt/anaconda3/lib/python3.12/site-packages/qiskit_ionq/ionq_backend.py:189\u001b[0m, in \u001b[0;36mIonQBackend.create_client\u001b[0;34m(self)\u001b[0m\n\u001b[1;32m    184\u001b[0m     \u001b[38;5;28;01mraise\u001b[39;00m exceptions\u001b[38;5;241m.\u001b[39mIonQCredentialsError(\n\u001b[1;32m    185\u001b[0m         \u001b[38;5;124m\"\u001b[39m\u001b[38;5;124mCredentials `token` not present in provider.\u001b[39m\u001b[38;5;124m\"\u001b[39m\n\u001b[1;32m    186\u001b[0m     ) \u001b[38;5;28;01mfrom\u001b[39;00m \u001b[38;5;21;01mex\u001b[39;00m\n\u001b[1;32m    188\u001b[0m \u001b[38;5;28;01mif\u001b[39;00m token \u001b[38;5;129;01mis\u001b[39;00m \u001b[38;5;28;01mNone\u001b[39;00m:\n\u001b[0;32m--> 189\u001b[0m     \u001b[38;5;28;01mraise\u001b[39;00m exceptions\u001b[38;5;241m.\u001b[39mIonQCredentialsError(\n\u001b[1;32m    190\u001b[0m         \u001b[38;5;124m\"\u001b[39m\u001b[38;5;124mCredentials `token` may not be None!\u001b[39m\u001b[38;5;124m\"\u001b[39m\n\u001b[1;32m    191\u001b[0m     )\n\u001b[1;32m    193\u001b[0m \u001b[38;5;28;01mtry\u001b[39;00m:\n\u001b[1;32m    194\u001b[0m     url \u001b[38;5;241m=\u001b[39m credentials[\u001b[38;5;124m\"\u001b[39m\u001b[38;5;124murl\u001b[39m\u001b[38;5;124m\"\u001b[39m]\n",
      "\u001b[0;31mIonQCredentialsError\u001b[0m: IonQCredentialsError('Credentials `token` may not be None!')"
     ]
    }
   ],
   "source": [
    "# Run the circuit on IonQ's platform:\n",
    "job_ideal = simulator_backend.run(qc, shots=10000)\n",
    "job_aria = noisy_backend_aria.run(qc, shots=10000)\n",
    "job_harmony = noisy_backend_harmony.run(qc, shots=10000)\n",
    "\n",
    "# Print the counts\n",
    "print(job.get_counts())"
   ]
  },
  {
   "cell_type": "markdown",
   "metadata": {},
   "source": [
    "c) sampling on a real quantum computer (\"ionq_qpu.forte-1\") with and without error mitigation."
   ]
  },
  {
   "cell_type": "code",
   "execution_count": 13,
   "metadata": {},
   "outputs": [],
   "source": [
    "# TODO\n",
    "qpu_backend = provider.get_backend(\"ionq_qpu\")"
   ]
  },
  {
   "cell_type": "code",
   "execution_count": null,
   "metadata": {},
   "outputs": [],
   "source": [
    "from qiskit_ionq import ErrorMitigation\n",
    "\n",
    "# Run the circuit on IonQ's platform:\n",
    "# job_error_mitigation = qpu_backend.run(\n",
    "#     qc,\n",
    "#     shots=1000,\n",
    "#     error_mitigation=ErrorMitigation.NO_DEBIASING\n",
    "# )\n",
    "\n",
    "# Save results"
   ]
  },
  {
   "cell_type": "markdown",
   "metadata": {},
   "source": [
    "d) using your IBMQE account, find the least busy IBM quantum device, then i) perform the sampling on this quantum device and ii) simulate the sampling using the QISkit noise model for this quantum device."
   ]
  },
  {
   "cell_type": "code",
   "execution_count": 15,
   "metadata": {},
   "outputs": [],
   "source": [
    "# TODO"
   ]
  },
  {
   "cell_type": "markdown",
   "metadata": {},
   "source": [
    "### 2. A half adder is a logical circuit that adds 2 bits resulting in 2 one-bit registers, one containing the sum, the other the 'carry' (overflow) bit. A full adder adds 2 input bits as well as a carry bit (eg. from addition of less significant bits). \n",
    "\n",
    "Expand the quantum circuit for the half adder presented in class to realize a full adder."
   ]
  },
  {
   "cell_type": "code",
   "execution_count": 7,
   "metadata": {},
   "outputs": [],
   "source": [
    "# TODO"
   ]
  }
 ],
 "metadata": {
  "kernelspec": {
   "display_name": "base",
   "language": "python",
   "name": "python3"
  },
  "language_info": {
   "codemirror_mode": {
    "name": "ipython",
    "version": 3
   },
   "file_extension": ".py",
   "mimetype": "text/x-python",
   "name": "python",
   "nbconvert_exporter": "python",
   "pygments_lexer": "ipython3",
   "version": "3.12.4"
  }
 },
 "nbformat": 4,
 "nbformat_minor": 2
}
