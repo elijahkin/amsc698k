{
 "cells": [
  {
   "cell_type": "markdown",
   "metadata": {},
   "source": [
    "### 1. Efficient Python programming for lists of same-type objects:\n",
    "\n",
    "a) Find an efficient way to determine the mean and the position of minimum and maximum values in a long list of random numbers."
   ]
  },
  {
   "cell_type": "code",
   "execution_count": null,
   "metadata": {},
   "outputs": [],
   "source": [
    "# Each of these are easily computed in O(n) time by a linear scan over the list\n",
    "def mean(lst):\n",
    "  s = 0\n",
    "  for x in lst:\n",
    "    s += x\n",
    "  return s / len(lst)\n",
    "\n",
    "def minimum_index(lst):\n",
    "  min_i = 0\n",
    "  for i in range(len(lst)):\n",
    "    if lst[i] < lst[min_i]:\n",
    "      min_i = i\n",
    "  return min_i\n",
    "\n",
    "def maximum_index(lst):\n",
    "  max_i = 0\n",
    "  for i in range(len(lst)):\n",
    "    if lst[i] > lst[max_i]:\n",
    "      max_i = i\n",
    "  return max_i"
   ]
  },
  {
   "cell_type": "markdown",
   "metadata": {},
   "source": [
    "b) Given $N$ random numbers $a_j$, evenly distributed between $-1$ and $1$, find an efficient way to obtain regularized numbers $x_j$ given by $x_j = \\bar{a} + \\sigma$ for $a_j > \\bar{a} + \\sigma$; $x_j = \\bar{a} - \\sigma$ for $a_j < \\bar{a} - \\sigma$; $x_j = a_j$ else. Here, $\\bar{a}$ is the mean value of the sample and $\\sigma$ the standard deviation."
   ]
  },
  {
   "cell_type": "code",
   "execution_count": null,
   "metadata": {},
   "outputs": [],
   "source": [
    "# Compute the standard deviation, also returning the mean to avoid redundant work\n",
    "def mean_and_std(lst):\n",
    "  m = mean(lst)\n",
    "  s = 0\n",
    "  for x in lst:\n",
    "    s += (x - m)**2\n",
    "  s = (s / len(lst))**0.5\n",
    "  return m, s\n",
    "\n",
    "# First compute the mean and standard deviation in O(n) time, then do one more scan over the list\n",
    "def regularized(a):\n",
    "  m, s = mean_and_std(a)\n",
    "  x = a\n",
    "  for j in range(len(a)):\n",
    "    x[j] = min(m + s, max(m - s, a[j]))\n",
    "  return x"
   ]
  },
  {
   "cell_type": "markdown",
   "metadata": {},
   "source": [
    "### 2. The following 2-qubit circuits shall be programmed using 3 different frameworks: i) using QISkit; ii) using Cirq; iii) using Pennylane; For each circuit extract the final state vector (before any measurement) and create a frequency plot from sampling the circuits (measurement of all qubits) 100 times.\n",
    "* create a circuit with $H$-gate and $Z$-gate acting on the first qubit and $X$-gate and $H$-gate acting on the second qubit;\n",
    "* create the Bell states $\\frac{1}{\\sqrt{2}}(|00\\rangle + |11\\rangle)$ and $\\frac{1}{\\sqrt{2}}(|00\\rangle - |11\\rangle)$\n",
    "* create the Bell states $\\frac{1}{\\sqrt{2}}(|01\\rangle + |10\\rangle)$ and $\\frac{1}{\\sqrt{2}}(|01\\rangle - |10\\rangle)$"
   ]
  },
  {
   "cell_type": "code",
   "execution_count": 8,
   "metadata": {},
   "outputs": [],
   "source": [
    "# TODO Qiskit\n",
    "import qiskit\n",
    "from qiskit import QuantumCircuit\n",
    "from qiskit_aer import Aer, AerSimulator\n",
    "\n",
    "backend_v = Aer.get_backend('statevector_simulator') "
   ]
  },
  {
   "cell_type": "markdown",
   "metadata": {},
   "source": [
    "#### Create a circuit with $H$-gate and $Z$-gate acting on the first qubit and $X$-gate and $H$-gate acting on the second qubit;"
   ]
  },
  {
   "cell_type": "code",
   "execution_count": 10,
   "metadata": {},
   "outputs": [
    {
     "name": "stdout",
     "output_type": "stream",
     "text": [
      "Statevector([ 0.+0.0000000e+00j, -0.+0.0000000e+00j, -0.+0.0000000e+00j,\n",
      "              1.-1.2246468e-16j],\n",
      "            dims=(2, 2))\n",
      "{'01': 22, '10': 28, '11': 22, '00': 28}\n"
     ]
    },
    {
     "data": {
      "image/png": "[encoded data removed]",
      "text/plain": [
       "<Figure size 454.517x284.278 with 1 Axes>"
      ]
     },
     "execution_count": 10,
     "metadata": {},
     "output_type": "execute_result"
    }
   ],
   "source": [
    "qc = QuantumCircuit(2,2)   # arguments: qubits,classical_bits\n",
    "qc.h(0)  # hadamard on qubit 0\n",
    "qc.z(0)  # z gate on qubit 0\n",
    "qc.x(1)  # hadamard on qubit 1\n",
    "qc.h(1)  # z gate on qubit 0\n",
    "qc.measure([0,1],[0,1])  # measure qubits 0 and 1 and store the result in classical bits 0 and 1\n",
    "\n",
    "# Get state vector\n",
    "psi = backend_v.run(qc).result().get_statevector() # ?? TODO\n",
    "print(psi)\n",
    "\n",
    "## run circuit using the AER simulator and print results (counts) and their probabilities\n",
    "Nshots = 100\n",
    "## set attribute \"memory=True\" to access the result for each individual shot \n",
    "job = backend_v.run(qc, shots=Nshots, memory=True).result() \n",
    "print(job.get_counts())\n",
    "\n",
    "# display the circuit\n",
    "qc.draw(output='mpl')"
   ]
  },
  {
   "cell_type": "code",
   "execution_count": 2,
   "metadata": {},
   "outputs": [],
   "source": [
    "# TODO Cirq\n",
    "import cirq\n",
    "\n",
    "circuit = cirq.Circuit()\n",
    "qubits = cirq.LineQubit.range(2)\n",
    "\n",
    "circuit.append(cirq.H(qubits[0]))\n",
    "circuit.append(cirq.Z(qubits[0]))\n",
    "circuit.append(cirq.X(qubits[1]))\n",
    "circuit.append(cirq.H(qubits[1]))\n",
    "\n",
    "print(circuit)\n",
    "\n",
    "# Initialize Simulator\n",
    "cirq_s = cirq.Simulator()\n",
    "\n",
    "print('Simulate the circuit:')\n",
    "results = cirq_s.simulate(circuit)\n",
    "print(results)"
   ]
  },
  {
   "cell_type": "code",
   "execution_count": 3,
   "metadata": {},
   "outputs": [],
   "source": [
    "# TODO Pennylane\n",
    "import pennylane as qml"
   ]
  },
  {
   "cell_type": "markdown",
   "metadata": {},
   "source": [
    "### 3) Using the parametrized QISkit circuit for quantum teleportation, investigate whether any arbitrary payload qubit can be teleported.\n",
    "\n",
    "First try a few states with complex amplitudes and/or rotation angles and compare the resulting state with the payload state vector.\n",
    "\n",
    "Then describe mathematically how the state vector of the system evolves from the Bell state $|q_Aq_B\\rangle = \\frac{1}{\\sqrt{2}}(|00\\rangle + |11\\rangle)$ and arbitrary payload state $|\\psi\\rangle = \\alpha |0\\rangle + \\beta |1\\rangle$ to the final state; argue why Bob has to apply $X$ and $Z$ gates depending on the outcome of Alice's measurements of her qubits."
   ]
  },
  {
   "cell_type": "code",
   "execution_count": null,
   "metadata": {},
   "outputs": [],
   "source": [
    "# TODO"
   ]
  }
 ],
 "metadata": {
  "kernelspec": {
   "display_name": "base",
   "language": "python",
   "name": "python3"
  },
  "language_info": {
   "codemirror_mode": {
    "name": "ipython",
    "version": 3
   },
   "file_extension": ".py",
   "mimetype": "text/x-python",
   "name": "python",
   "nbconvert_exporter": "python",
   "pygments_lexer": "ipython3",
   "version": "3.12.4"
  }
 },
 "nbformat": 4,
 "nbformat_minor": 2
}
