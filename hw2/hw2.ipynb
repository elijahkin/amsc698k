{
 "cells": [
  {
   "cell_type": "markdown",
   "metadata": {},
   "source": [
    "### 1. Efficient Python programming for lists of same-type objects:\n",
    "\n",
    "a) Find an efficient way to determine the mean and the position of minimum and maximum values in a long list of random numbers."
   ]
  },
  {
   "cell_type": "code",
   "execution_count": null,
   "metadata": {},
   "outputs": [],
   "source": [
    "# Each of these are easily computed in O(n) time by a linear scan over the list\n",
    "def mean(lst):\n",
    "  s = 0\n",
    "  for x in lst:\n",
    "    s += x\n",
    "  return s / len(lst)\n",
    "\n",
    "def minimum_index(lst):\n",
    "  min_i = 0\n",
    "  for i in range(len(lst)):\n",
    "    if lst[i] < lst[min_i]:\n",
    "      min_i = i\n",
    "  return min_i\n",
    "\n",
    "def maximum_index(lst):\n",
    "  max_i = 0\n",
    "  for i in range(len(lst)):\n",
    "    if lst[i] > lst[max_i]:\n",
    "      max_i = i\n",
    "  return max_i"
   ]
  },
  {
   "cell_type": "markdown",
   "metadata": {},
   "source": [
    "b) Given $N$ random numbers $a_j$, evenly distributed between $-1$ and $1$, find an efficient way to obtain regularized numbers $x_j$ given by $x_j = \\bar{a} + \\sigma$ for $a_j > \\bar{a} + \\sigma$; $x_j = \\bar{a} - \\sigma$ for $a_j < \\bar{a} - \\sigma$; $x_j = a_j$ else. Here, $\\bar{a}$ is the mean value of the sample and $\\sigma$ the standard deviation."
   ]
  },
  {
   "cell_type": "code",
   "execution_count": null,
   "metadata": {},
   "outputs": [],
   "source": [
    "# Compute the standard deviation, also returning the mean to avoid redundant work\n",
    "def mean_and_std(lst):\n",
    "  m = mean(lst)\n",
    "  s = 0\n",
    "  for x in lst:\n",
    "    s += (x - m)**2\n",
    "  s = (s / len(lst))**0.5\n",
    "  return m, s\n",
    "\n",
    "# First compute the mean and standard deviation in O(n) time, then do one more scan over the list\n",
    "def regularized(a):\n",
    "  m, s = mean_and_std(a)\n",
    "  x = a\n",
    "  for j in range(len(a)):\n",
    "    x[j] = min(m + s, max(m - s, a[j]))\n",
    "  return x"
   ]
  },
  {
   "cell_type": "markdown",
   "metadata": {},
   "source": [
    "### 2. The following 2-qubit circuits shall be programmed using 3 different frameworks: i) using QISkit; ii) using Cirq; iii) using Pennylane; For each circuit extract the final state vector (before any measurement) and create a frequency plot from sampling the circuits (measurement of all qubits) 100 times.\n",
    "* create a circuit with $H$-gate and $Z$-gate acting on the first qubit and $X$-gate and $H$-gate acting on the second qubit;\n",
    "* create the Bell states $\\frac{1}{\\sqrt{2}}(|00\\rangle + |11\\rangle)$ and $\\frac{1}{\\sqrt{2}}(|00\\rangle - |11\\rangle)$\n",
    "* create the Bell states $\\frac{1}{\\sqrt{2}}(|01\\rangle + |10\\rangle)$ and $\\frac{1}{\\sqrt{2}}(|01\\rangle - |10\\rangle)$"
   ]
  },
  {
   "cell_type": "code",
   "execution_count": 1,
   "metadata": {},
   "outputs": [],
   "source": [
    "# TODO Qiskit\n",
    "import qiskit"
   ]
  },
  {
   "cell_type": "code",
   "execution_count": 2,
   "metadata": {},
   "outputs": [],
   "source": [
    "# TODO Cirq\n",
    "import cirq"
   ]
  },
  {
   "cell_type": "code",
   "execution_count": 3,
   "metadata": {},
   "outputs": [],
   "source": [
    "# TODO Pennylane\n",
    "import pennylane as qml"
   ]
  },
  {
   "cell_type": "markdown",
   "metadata": {},
   "source": [
    "### 3) Using the parametrized QISkit circuit for quantum teleportation, investigate whether any arbitrary payload qubit can be teleported.\n",
    "\n",
    "First try a few states with complex amplitudes and/or rotation angles and compare the resulting state with the payload state vector.\n",
    "\n",
    "Then describe mathematically how the state vector of the system evolves from the Bell state $|q_Aq_B\\rangle = \\frac{1}{\\sqrt{2}}(|00\\rangle + |11\\rangle)$ and arbitrary payload state $|\\psi\\rangle = \\alpha |0\\rangle + \\beta |1\\rangle$ to the final state; argue why Bob has to apply $X$ and $Z$ gates depending on the outcome of Alice's measurements of her qubits."
   ]
  },
  {
   "cell_type": "code",
   "execution_count": null,
   "metadata": {},
   "outputs": [],
   "source": [
    "# TODO"
   ]
  }
 ],
 "metadata": {
  "kernelspec": {
   "display_name": "base",
   "language": "python",
   "name": "python3"
  },
  "language_info": {
   "codemirror_mode": {
    "name": "ipython",
    "version": 3
   },
   "file_extension": ".py",
   "mimetype": "text/x-python",
   "name": "python",
   "nbconvert_exporter": "python",
   "pygments_lexer": "ipython3",
   "version": "3.12.4"
  }
 },
 "nbformat": 4,
 "nbformat_minor": 2
}
