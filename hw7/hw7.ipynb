{
 "cells": [
  {
   "cell_type": "markdown",
   "metadata": {},
   "source": [
    "# AMSC698K Homework 7\n",
    "##### Elijah Kin & Noorain Noorani"
   ]
  },
  {
   "cell_type": "code",
   "execution_count": 2,
   "metadata": {},
   "outputs": [],
   "source": [
    "import numpy as np\n",
    "import os\n",
    "import sys\n",
    "\n",
    "from qiskit_algorithms.minimum_eigensolvers import NumPyMinimumEigensolver, VQE\n",
    "from qiskit_nature.second_q.transformers import FreezeCoreTransformer\n",
    "from qiskit_nature.second_q.formats.molecule_info import MoleculeInfo\n",
    "from qiskit_nature.second_q.mappers import ParityMapper\n",
    "from qiskit_nature.second_q.circuit.library import UCCSD, HartreeFock\n",
    "from qiskit_nature.second_q.drivers import PySCFDriver\n",
    "#later: qiskit_nature.settings.use_pauli_sum_op = False\n",
    "from qiskit.circuit.library import EfficientSU2\n",
    "from qiskit_aer.primitives import Estimator\n",
    "import matplotlib.pyplot as plt\n",
    "\n",
    "# list of supported optimizers ...\n",
    "import qiskit_algorithms\n",
    "#dir(qiskit_algorithms.optimizers)\n",
    "from qiskit_algorithms.optimizers import SPSA, SLSQP, COBYLA\n",
    "\n",
    "## optional suppression of deprecation warnings: often in qiskit \n",
    "from warnings import filterwarnings\n",
    "filterwarnings(\"ignore\", category=DeprecationWarning)\n",
    "filterwarnings(\"ignore\", category=UserWarning)"
   ]
  },
  {
   "cell_type": "markdown",
   "metadata": {},
   "source": [
    "### Plot the dissociation profile obtained via VQE and exact solver for the H2 and LiH molecules. Suggested distance ranges for H2: 0.25 to 3.0 Å, for LiH: 0.5 to 4.0 Å. "
   ]
  },
  {
   "cell_type": "code",
   "execution_count": null,
   "metadata": {},
   "outputs": [],
   "source": []
  },
  {
   "cell_type": "code",
   "execution_count": 3,
   "metadata": {},
   "outputs": [],
   "source": [
    "def exact_solver(qubit_op, problem):\n",
    "    sol = NumPyMinimumEigensolver().compute_minimum_eigenvalue(qubit_op)\n",
    "    result = problem.interpret(sol)\n",
    "    return result"
   ]
  },
  {
   "cell_type": "markdown",
   "metadata": {},
   "source": [
    "### H2"
   ]
  },
  {
   "cell_type": "code",
   "execution_count": 4,
   "metadata": {},
   "outputs": [],
   "source": [
    "def get_H2_qubit_operator(dist):\n",
    "    # define Molecule\n",
    "    molecule = MoleculeInfo(\n",
    "        # Coordinates in Angstrom\n",
    "        symbols=[\"H\", \"H\"],\n",
    "        coords=([0.0, 0.0, 0.0], [0.0, 0.0, dist]),\n",
    "        multiplicity=1,  # = 2*spin + 1\n",
    "        charge=0,\n",
    "    )\n",
    "    driver = PySCFDriver.from_molecule(molecule)\n",
    "    # get properties\n",
    "    properties = driver.run()\n",
    "    # create a reduced electronic structure problem\n",
    "    problem = FreezeCoreTransformer(\n",
    "        freeze_core=True,remove_orbitals=[-3, -2]\n",
    "    ).transform(properties)\n",
    "\n",
    "    num_particles = problem.num_particles\n",
    "    num_spatial_orbitals = problem.num_spatial_orbitals\n",
    "\n",
    "    mapper = ParityMapper(num_particles=num_particles)\n",
    "    qubit_op = mapper.map(problem.second_q_ops()[0])\n",
    "    return qubit_op, num_particles, num_spatial_orbitals, problem, mapper"
   ]
  },
  {
   "cell_type": "code",
   "execution_count": null,
   "metadata": {},
   "outputs": [],
   "source": [
    "distances = np.arange(0.25, 3.0, 0.25)\n",
    "exact_energies = []\n",
    "vqe_energies = []\n",
    "optimizer = SLSQP(maxiter=10)\n",
    "noiseless_estimator = Estimator(run_options={'shots':1000})\n",
    "for dist in distances:\n",
    "    (qubit_op, num_particles, num_spatial_orbitals, \n",
    "                             problem, mapper) = get_H2_qubit_operator( dist )\n",
    "    result = exact_solver( qubit_op, problem )\n",
    "    exact_energies.append(result.total_energies[0].real)\n",
    "    init_state = HartreeFock( num_spatial_orbitals, num_particles, mapper )\n",
    "    var_form = UCCSD( num_spatial_orbitals, num_particles, \n",
    "                     mapper, initial_state=init_state )\n",
    "    vqe = VQE( noiseless_estimator, var_form,\n",
    "               optimizer, initial_point=[0] * var_form.num_parameters,)\n",
    "    vqe_calc = vqe.compute_minimum_eigenvalue( qubit_op )\n",
    "    vqe_result = problem.interpret( vqe_calc ).total_energies[0].real\n",
    "    vqe_energies.append(vqe_result)\n",
    "    # Get the optimal parameters from the VQE calculation result\n",
    "    print( f\"Interatomic Distance: {np.round(dist, 2)}\",\n",
    "            f\"VQE Result: {vqe_result:.5f}\",\n",
    "            f\"Exact Energy: {exact_energies[-1]:.5f}\" )\n",
    "\n",
    "optimal_parameters = vqe_calc.optimal_point\n",
    "\n",
    "# update QuantumCircuit with the optimal parameters\n",
    "vqe.ansatz.assign_parameters( optimal_parameters, inplace=True )\n",
    "\n",
    "optimal_parameters"
   ]
  },
  {
   "cell_type": "code",
   "execution_count": null,
   "metadata": {},
   "outputs": [],
   "source": [
    "plt.plot(distances, exact_energies, label=\"Exact Energy\")\n",
    "plt.plot(distances, vqe_energies, label=\"VQE Energy\")\n",
    "plt.title(\"Dissocation Curve of H2\")\n",
    "plt.xlabel(\"Atomic distance (Angstrom)\")\n",
    "plt.ylabel(\"Energy\")\n",
    "plt.legend()\n",
    "plt.show()"
   ]
  },
  {
   "cell_type": "markdown",
   "metadata": {},
   "source": [
    "#### LiH"
   ]
  },
  {
   "cell_type": "code",
   "execution_count": 5,
   "metadata": {},
   "outputs": [],
   "source": [
    "def get_LiH_qubit_operator(dist):\n",
    "    # define Molecule\n",
    "    molecule = MoleculeInfo(\n",
    "        # Coordinates in Angstrom\n",
    "        symbols=[\"Li\", \"H\"],\n",
    "        coords=([0.0, 0.0, 0.0], [0.0, 0.0, dist]),\n",
    "        multiplicity=1,  # = 2*spin + 1\n",
    "        charge=0,\n",
    "    )\n",
    "    driver = PySCFDriver.from_molecule(molecule)\n",
    "    # get properties\n",
    "    properties = driver.run()\n",
    "    # create a reduced electronic structure problem\n",
    "    problem = FreezeCoreTransformer(\n",
    "        freeze_core=True,remove_orbitals=[-3, -2]\n",
    "    ).transform(properties)\n",
    "\n",
    "    num_particles = problem.num_particles\n",
    "    num_spatial_orbitals = problem.num_spatial_orbitals\n",
    "\n",
    "    mapper = ParityMapper(num_particles=num_particles)\n",
    "    qubit_op = mapper.map(problem.second_q_ops()[0])\n",
    "    return qubit_op, num_particles, num_spatial_orbitals, problem, mapper"
   ]
  },
  {
   "cell_type": "code",
   "execution_count": 6,
   "metadata": {},
   "outputs": [
    {
     "name": "stdout",
     "output_type": "stream",
     "text": [
      "Interatomic Distance: 0.5 VQE Result: -6.56618 Exact Energy: -7.04791\n"
     ]
    },
    {
     "ename": "KeyboardInterrupt",
     "evalue": "",
     "output_type": "error",
     "traceback": [
      "\u001b[0;31m---------------------------------------------------------------------------\u001b[0m",
      "\u001b[0;31mKeyboardInterrupt\u001b[0m                         Traceback (most recent call last)",
      "Cell \u001b[0;32mIn[6], line 16\u001b[0m\n\u001b[1;32m     12\u001b[0m var_form \u001b[38;5;241m=\u001b[39m UCCSD( num_spatial_orbitals, num_particles, \n\u001b[1;32m     13\u001b[0m                  mapper, initial_state\u001b[38;5;241m=\u001b[39minit_state )\n\u001b[1;32m     14\u001b[0m vqe \u001b[38;5;241m=\u001b[39m VQE( noiseless_estimator, var_form,\n\u001b[1;32m     15\u001b[0m            optimizer, initial_point\u001b[38;5;241m=\u001b[39m[\u001b[38;5;241m0\u001b[39m] \u001b[38;5;241m*\u001b[39m var_form\u001b[38;5;241m.\u001b[39mnum_parameters,)\n\u001b[0;32m---> 16\u001b[0m vqe_calc \u001b[38;5;241m=\u001b[39m vqe\u001b[38;5;241m.\u001b[39mcompute_minimum_eigenvalue( qubit_op )\n\u001b[1;32m     17\u001b[0m vqe_result \u001b[38;5;241m=\u001b[39m problem\u001b[38;5;241m.\u001b[39minterpret( vqe_calc )\u001b[38;5;241m.\u001b[39mtotal_energies[\u001b[38;5;241m0\u001b[39m]\u001b[38;5;241m.\u001b[39mreal\n\u001b[1;32m     18\u001b[0m vqe_energies\u001b[38;5;241m.\u001b[39mappend(vqe_result)\n",
      "File \u001b[0;32m/opt/anaconda3/lib/python3.12/site-packages/qiskit_algorithms/minimum_eigensolvers/vqe.py:194\u001b[0m, in \u001b[0;36mVQE.compute_minimum_eigenvalue\u001b[0;34m(self, operator, aux_operators)\u001b[0m\n\u001b[1;32m    189\u001b[0m \u001b[38;5;28;01melse\u001b[39;00m:\n\u001b[1;32m    190\u001b[0m     \u001b[38;5;66;03m# we always want to submit as many estimations per job as possible for minimal\u001b[39;00m\n\u001b[1;32m    191\u001b[0m     \u001b[38;5;66;03m# overhead on the hardware\u001b[39;00m\n\u001b[1;32m    192\u001b[0m     was_updated \u001b[38;5;241m=\u001b[39m _set_default_batchsize(\u001b[38;5;28mself\u001b[39m\u001b[38;5;241m.\u001b[39moptimizer)\n\u001b[0;32m--> 194\u001b[0m     optimizer_result \u001b[38;5;241m=\u001b[39m \u001b[38;5;28mself\u001b[39m\u001b[38;5;241m.\u001b[39moptimizer\u001b[38;5;241m.\u001b[39mminimize(\n\u001b[1;32m    195\u001b[0m         fun\u001b[38;5;241m=\u001b[39mevaluate_energy,  \u001b[38;5;66;03m# type: ignore[arg-type]\u001b[39;00m\n\u001b[1;32m    196\u001b[0m         x0\u001b[38;5;241m=\u001b[39minitial_point,\n\u001b[1;32m    197\u001b[0m         jac\u001b[38;5;241m=\u001b[39mevaluate_gradient,  \u001b[38;5;66;03m# type: ignore[arg-type]\u001b[39;00m\n\u001b[1;32m    198\u001b[0m         bounds\u001b[38;5;241m=\u001b[39mbounds,\n\u001b[1;32m    199\u001b[0m     )\n\u001b[1;32m    201\u001b[0m     \u001b[38;5;66;03m# reset to original value\u001b[39;00m\n\u001b[1;32m    202\u001b[0m     \u001b[38;5;28;01mif\u001b[39;00m was_updated:\n",
      "File \u001b[0;32m/opt/anaconda3/lib/python3.12/site-packages/qiskit_algorithms/optimizers/scipy_optimizer.py:148\u001b[0m, in \u001b[0;36mSciPyOptimizer.minimize\u001b[0;34m(self, fun, x0, jac, bounds)\u001b[0m\n\u001b[1;32m    145\u001b[0m     swapped_deprecated_args \u001b[38;5;241m=\u001b[39m \u001b[38;5;28;01mTrue\u001b[39;00m\n\u001b[1;32m    146\u001b[0m     \u001b[38;5;28mself\u001b[39m\u001b[38;5;241m.\u001b[39m_options[\u001b[38;5;124m\"\u001b[39m\u001b[38;5;124mmaxfun\u001b[39m\u001b[38;5;124m\"\u001b[39m] \u001b[38;5;241m=\u001b[39m \u001b[38;5;28mself\u001b[39m\u001b[38;5;241m.\u001b[39m_options\u001b[38;5;241m.\u001b[39mpop(\u001b[38;5;124m\"\u001b[39m\u001b[38;5;124mmaxiter\u001b[39m\u001b[38;5;124m\"\u001b[39m)\n\u001b[0;32m--> 148\u001b[0m raw_result \u001b[38;5;241m=\u001b[39m minimize(\n\u001b[1;32m    149\u001b[0m     fun\u001b[38;5;241m=\u001b[39mfun,\n\u001b[1;32m    150\u001b[0m     x0\u001b[38;5;241m=\u001b[39mx0,\n\u001b[1;32m    151\u001b[0m     method\u001b[38;5;241m=\u001b[39m\u001b[38;5;28mself\u001b[39m\u001b[38;5;241m.\u001b[39m_method,\n\u001b[1;32m    152\u001b[0m     jac\u001b[38;5;241m=\u001b[39mjac,\n\u001b[1;32m    153\u001b[0m     bounds\u001b[38;5;241m=\u001b[39mbounds,\n\u001b[1;32m    154\u001b[0m     options\u001b[38;5;241m=\u001b[39m\u001b[38;5;28mself\u001b[39m\u001b[38;5;241m.\u001b[39m_options,\n\u001b[1;32m    155\u001b[0m     \u001b[38;5;241m*\u001b[39m\u001b[38;5;241m*\u001b[39m\u001b[38;5;28mself\u001b[39m\u001b[38;5;241m.\u001b[39m_kwargs,\n\u001b[1;32m    156\u001b[0m )\n\u001b[1;32m    157\u001b[0m \u001b[38;5;28;01mif\u001b[39;00m swapped_deprecated_args:\n\u001b[1;32m    158\u001b[0m     \u001b[38;5;28mself\u001b[39m\u001b[38;5;241m.\u001b[39m_options[\u001b[38;5;124m\"\u001b[39m\u001b[38;5;124mmaxiter\u001b[39m\u001b[38;5;124m\"\u001b[39m] \u001b[38;5;241m=\u001b[39m \u001b[38;5;28mself\u001b[39m\u001b[38;5;241m.\u001b[39m_options\u001b[38;5;241m.\u001b[39mpop(\u001b[38;5;124m\"\u001b[39m\u001b[38;5;124mmaxfun\u001b[39m\u001b[38;5;124m\"\u001b[39m)\n",
      "File \u001b[0;32m/opt/anaconda3/lib/python3.12/site-packages/scipy/optimize/_minimize.py:722\u001b[0m, in \u001b[0;36mminimize\u001b[0;34m(fun, x0, args, method, jac, hess, hessp, bounds, constraints, tol, callback, options)\u001b[0m\n\u001b[1;32m    719\u001b[0m     res \u001b[38;5;241m=\u001b[39m _minimize_cobyla(fun, x0, args, constraints, callback\u001b[38;5;241m=\u001b[39mcallback,\n\u001b[1;32m    720\u001b[0m                            bounds\u001b[38;5;241m=\u001b[39mbounds, \u001b[38;5;241m*\u001b[39m\u001b[38;5;241m*\u001b[39moptions)\n\u001b[1;32m    721\u001b[0m \u001b[38;5;28;01melif\u001b[39;00m meth \u001b[38;5;241m==\u001b[39m \u001b[38;5;124m'\u001b[39m\u001b[38;5;124mslsqp\u001b[39m\u001b[38;5;124m'\u001b[39m:\n\u001b[0;32m--> 722\u001b[0m     res \u001b[38;5;241m=\u001b[39m _minimize_slsqp(fun, x0, args, jac, bounds,\n\u001b[1;32m    723\u001b[0m                           constraints, callback\u001b[38;5;241m=\u001b[39mcallback, \u001b[38;5;241m*\u001b[39m\u001b[38;5;241m*\u001b[39moptions)\n\u001b[1;32m    724\u001b[0m \u001b[38;5;28;01melif\u001b[39;00m meth \u001b[38;5;241m==\u001b[39m \u001b[38;5;124m'\u001b[39m\u001b[38;5;124mtrust-constr\u001b[39m\u001b[38;5;124m'\u001b[39m:\n\u001b[1;32m    725\u001b[0m     res \u001b[38;5;241m=\u001b[39m _minimize_trustregion_constr(fun, x0, args, jac, hess, hessp,\n\u001b[1;32m    726\u001b[0m                                        bounds, constraints,\n\u001b[1;32m    727\u001b[0m                                        callback\u001b[38;5;241m=\u001b[39mcallback, \u001b[38;5;241m*\u001b[39m\u001b[38;5;241m*\u001b[39moptions)\n",
      "File \u001b[0;32m/opt/anaconda3/lib/python3.12/site-packages/scipy/optimize/_slsqp_py.py:437\u001b[0m, in \u001b[0;36m_minimize_slsqp\u001b[0;34m(func, x0, args, jac, bounds, constraints, maxiter, ftol, iprint, disp, eps, callback, finite_diff_rel_step, **unknown_options)\u001b[0m\n\u001b[1;32m    431\u001b[0m slsqp(m, meq, x, xl, xu, fx, c, g, a, acc, majiter, mode, w, jw,\n\u001b[1;32m    432\u001b[0m       alpha, f0, gs, h1, h2, h3, h4, t, t0, tol,\n\u001b[1;32m    433\u001b[0m       iexact, incons, ireset, itermx, line,\n\u001b[1;32m    434\u001b[0m       n1, n2, n3)\n\u001b[1;32m    436\u001b[0m \u001b[38;5;28;01mif\u001b[39;00m mode \u001b[38;5;241m==\u001b[39m \u001b[38;5;241m1\u001b[39m:  \u001b[38;5;66;03m# objective and constraint evaluation required\u001b[39;00m\n\u001b[0;32m--> 437\u001b[0m     fx \u001b[38;5;241m=\u001b[39m wrapped_fun(x)\n\u001b[1;32m    438\u001b[0m     c \u001b[38;5;241m=\u001b[39m _eval_constraint(x, cons)\n\u001b[1;32m    440\u001b[0m \u001b[38;5;28;01mif\u001b[39;00m mode \u001b[38;5;241m==\u001b[39m \u001b[38;5;241m-\u001b[39m\u001b[38;5;241m1\u001b[39m:  \u001b[38;5;66;03m# gradient evaluation required\u001b[39;00m\n",
      "File \u001b[0;32m/opt/anaconda3/lib/python3.12/site-packages/scipy/optimize/_optimize.py:302\u001b[0m, in \u001b[0;36m_clip_x_for_func.<locals>.eval\u001b[0;34m(x)\u001b[0m\n\u001b[1;32m    300\u001b[0m \u001b[38;5;28;01mdef\u001b[39;00m \u001b[38;5;21meval\u001b[39m(x):\n\u001b[1;32m    301\u001b[0m     x \u001b[38;5;241m=\u001b[39m _check_clip_x(x, bounds)\n\u001b[0;32m--> 302\u001b[0m     \u001b[38;5;28;01mreturn\u001b[39;00m func(x)\n",
      "File \u001b[0;32m/opt/anaconda3/lib/python3.12/site-packages/scipy/optimize/_differentiable_functions.py:278\u001b[0m, in \u001b[0;36mScalarFunction.fun\u001b[0;34m(self, x)\u001b[0m\n\u001b[1;32m    276\u001b[0m \u001b[38;5;28;01mif\u001b[39;00m \u001b[38;5;129;01mnot\u001b[39;00m np\u001b[38;5;241m.\u001b[39marray_equal(x, \u001b[38;5;28mself\u001b[39m\u001b[38;5;241m.\u001b[39mx):\n\u001b[1;32m    277\u001b[0m     \u001b[38;5;28mself\u001b[39m\u001b[38;5;241m.\u001b[39m_update_x_impl(x)\n\u001b[0;32m--> 278\u001b[0m \u001b[38;5;28mself\u001b[39m\u001b[38;5;241m.\u001b[39m_update_fun()\n\u001b[1;32m    279\u001b[0m \u001b[38;5;28;01mreturn\u001b[39;00m \u001b[38;5;28mself\u001b[39m\u001b[38;5;241m.\u001b[39mf\n",
      "File \u001b[0;32m/opt/anaconda3/lib/python3.12/site-packages/scipy/optimize/_differentiable_functions.py:262\u001b[0m, in \u001b[0;36mScalarFunction._update_fun\u001b[0;34m(self)\u001b[0m\n\u001b[1;32m    260\u001b[0m \u001b[38;5;28;01mdef\u001b[39;00m \u001b[38;5;21m_update_fun\u001b[39m(\u001b[38;5;28mself\u001b[39m):\n\u001b[1;32m    261\u001b[0m     \u001b[38;5;28;01mif\u001b[39;00m \u001b[38;5;129;01mnot\u001b[39;00m \u001b[38;5;28mself\u001b[39m\u001b[38;5;241m.\u001b[39mf_updated:\n\u001b[0;32m--> 262\u001b[0m         \u001b[38;5;28mself\u001b[39m\u001b[38;5;241m.\u001b[39m_update_fun_impl()\n\u001b[1;32m    263\u001b[0m         \u001b[38;5;28mself\u001b[39m\u001b[38;5;241m.\u001b[39mf_updated \u001b[38;5;241m=\u001b[39m \u001b[38;5;28;01mTrue\u001b[39;00m\n",
      "File \u001b[0;32m/opt/anaconda3/lib/python3.12/site-packages/scipy/optimize/_differentiable_functions.py:163\u001b[0m, in \u001b[0;36mScalarFunction.__init__.<locals>.update_fun\u001b[0;34m()\u001b[0m\n\u001b[1;32m    162\u001b[0m \u001b[38;5;28;01mdef\u001b[39;00m \u001b[38;5;21mupdate_fun\u001b[39m():\n\u001b[0;32m--> 163\u001b[0m     \u001b[38;5;28mself\u001b[39m\u001b[38;5;241m.\u001b[39mf \u001b[38;5;241m=\u001b[39m fun_wrapped(\u001b[38;5;28mself\u001b[39m\u001b[38;5;241m.\u001b[39mx)\n",
      "File \u001b[0;32m/opt/anaconda3/lib/python3.12/site-packages/scipy/optimize/_differentiable_functions.py:145\u001b[0m, in \u001b[0;36mScalarFunction.__init__.<locals>.fun_wrapped\u001b[0;34m(x)\u001b[0m\n\u001b[1;32m    141\u001b[0m \u001b[38;5;28mself\u001b[39m\u001b[38;5;241m.\u001b[39mnfev \u001b[38;5;241m+\u001b[39m\u001b[38;5;241m=\u001b[39m \u001b[38;5;241m1\u001b[39m\n\u001b[1;32m    142\u001b[0m \u001b[38;5;66;03m# Send a copy because the user may overwrite it.\u001b[39;00m\n\u001b[1;32m    143\u001b[0m \u001b[38;5;66;03m# Overwriting results in undefined behaviour because\u001b[39;00m\n\u001b[1;32m    144\u001b[0m \u001b[38;5;66;03m# fun(self.x) will change self.x, with the two no longer linked.\u001b[39;00m\n\u001b[0;32m--> 145\u001b[0m fx \u001b[38;5;241m=\u001b[39m fun(np\u001b[38;5;241m.\u001b[39mcopy(x), \u001b[38;5;241m*\u001b[39margs)\n\u001b[1;32m    146\u001b[0m \u001b[38;5;66;03m# Make sure the function returns a true scalar\u001b[39;00m\n\u001b[1;32m    147\u001b[0m \u001b[38;5;28;01mif\u001b[39;00m \u001b[38;5;129;01mnot\u001b[39;00m np\u001b[38;5;241m.\u001b[39misscalar(fx):\n",
      "File \u001b[0;32m/opt/anaconda3/lib/python3.12/site-packages/qiskit_algorithms/minimum_eigensolvers/vqe.py:266\u001b[0m, in \u001b[0;36mVQE._get_evaluate_energy.<locals>.evaluate_energy\u001b[0;34m(parameters)\u001b[0m\n\u001b[1;32m    264\u001b[0m \u001b[38;5;28;01mtry\u001b[39;00m:\n\u001b[1;32m    265\u001b[0m     job \u001b[38;5;241m=\u001b[39m \u001b[38;5;28mself\u001b[39m\u001b[38;5;241m.\u001b[39mestimator\u001b[38;5;241m.\u001b[39mrun(batch_size \u001b[38;5;241m*\u001b[39m [ansatz], batch_size \u001b[38;5;241m*\u001b[39m [operator], parameters)\n\u001b[0;32m--> 266\u001b[0m     estimator_result \u001b[38;5;241m=\u001b[39m job\u001b[38;5;241m.\u001b[39mresult()\n\u001b[1;32m    267\u001b[0m \u001b[38;5;28;01mexcept\u001b[39;00m \u001b[38;5;167;01mException\u001b[39;00m \u001b[38;5;28;01mas\u001b[39;00m exc:\n\u001b[1;32m    268\u001b[0m     \u001b[38;5;28;01mraise\u001b[39;00m AlgorithmError(\u001b[38;5;124m\"\u001b[39m\u001b[38;5;124mThe primitive job to evaluate the energy failed!\u001b[39m\u001b[38;5;124m\"\u001b[39m) \u001b[38;5;28;01mfrom\u001b[39;00m \u001b[38;5;21;01mexc\u001b[39;00m\n",
      "File \u001b[0;32m/opt/anaconda3/lib/python3.12/site-packages/qiskit/primitives/primitive_job.py:51\u001b[0m, in \u001b[0;36mPrimitiveJob.result\u001b[0;34m(self)\u001b[0m\n\u001b[1;32m     49\u001b[0m \u001b[38;5;28;01mdef\u001b[39;00m \u001b[38;5;21mresult\u001b[39m(\u001b[38;5;28mself\u001b[39m) \u001b[38;5;241m-\u001b[39m\u001b[38;5;241m>\u001b[39m ResultT:\n\u001b[1;32m     50\u001b[0m     \u001b[38;5;28mself\u001b[39m\u001b[38;5;241m.\u001b[39m_check_submitted()\n\u001b[0;32m---> 51\u001b[0m     \u001b[38;5;28;01mreturn\u001b[39;00m \u001b[38;5;28mself\u001b[39m\u001b[38;5;241m.\u001b[39m_future\u001b[38;5;241m.\u001b[39mresult()\n",
      "File \u001b[0;32m/opt/anaconda3/lib/python3.12/concurrent/futures/_base.py:451\u001b[0m, in \u001b[0;36mFuture.result\u001b[0;34m(self, timeout)\u001b[0m\n\u001b[1;32m    448\u001b[0m \u001b[38;5;28;01melif\u001b[39;00m \u001b[38;5;28mself\u001b[39m\u001b[38;5;241m.\u001b[39m_state \u001b[38;5;241m==\u001b[39m FINISHED:\n\u001b[1;32m    449\u001b[0m     \u001b[38;5;28;01mreturn\u001b[39;00m \u001b[38;5;28mself\u001b[39m\u001b[38;5;241m.\u001b[39m__get_result()\n\u001b[0;32m--> 451\u001b[0m \u001b[38;5;28mself\u001b[39m\u001b[38;5;241m.\u001b[39m_condition\u001b[38;5;241m.\u001b[39mwait(timeout)\n\u001b[1;32m    453\u001b[0m \u001b[38;5;28;01mif\u001b[39;00m \u001b[38;5;28mself\u001b[39m\u001b[38;5;241m.\u001b[39m_state \u001b[38;5;129;01min\u001b[39;00m [CANCELLED, CANCELLED_AND_NOTIFIED]:\n\u001b[1;32m    454\u001b[0m     \u001b[38;5;28;01mraise\u001b[39;00m CancelledError()\n",
      "File \u001b[0;32m/opt/anaconda3/lib/python3.12/threading.py:355\u001b[0m, in \u001b[0;36mCondition.wait\u001b[0;34m(self, timeout)\u001b[0m\n\u001b[1;32m    353\u001b[0m \u001b[38;5;28;01mtry\u001b[39;00m:    \u001b[38;5;66;03m# restore state no matter what (e.g., KeyboardInterrupt)\u001b[39;00m\n\u001b[1;32m    354\u001b[0m     \u001b[38;5;28;01mif\u001b[39;00m timeout \u001b[38;5;129;01mis\u001b[39;00m \u001b[38;5;28;01mNone\u001b[39;00m:\n\u001b[0;32m--> 355\u001b[0m         waiter\u001b[38;5;241m.\u001b[39macquire()\n\u001b[1;32m    356\u001b[0m         gotit \u001b[38;5;241m=\u001b[39m \u001b[38;5;28;01mTrue\u001b[39;00m\n\u001b[1;32m    357\u001b[0m     \u001b[38;5;28;01melse\u001b[39;00m:\n",
      "\u001b[0;31mKeyboardInterrupt\u001b[0m: "
     ]
    }
   ],
   "source": [
    "distances = np.arange(0.5, 4.0, 0.2)\n",
    "exact_energies = []\n",
    "vqe_energies = []\n",
    "optimizer = SLSQP(maxiter=10)\n",
    "noiseless_estimator = Estimator(run_options={'shots':1000})\n",
    "for dist in distances:\n",
    "    (qubit_op, num_particles, num_spatial_orbitals, \n",
    "                             problem, mapper) = get_LiH_qubit_operator( dist )\n",
    "    result = exact_solver( qubit_op, problem )\n",
    "    exact_energies.append(result.total_energies[0].real)\n",
    "    init_state = HartreeFock( num_spatial_orbitals, num_particles, mapper )\n",
    "    var_form = UCCSD( num_spatial_orbitals, num_particles, \n",
    "                     mapper, initial_state=init_state )\n",
    "    vqe = VQE( noiseless_estimator, var_form,\n",
    "               optimizer, initial_point=[0] * var_form.num_parameters,)\n",
    "    vqe_calc = vqe.compute_minimum_eigenvalue( qubit_op )\n",
    "    vqe_result = problem.interpret( vqe_calc ).total_energies[0].real\n",
    "    vqe_energies.append(vqe_result)\n",
    "    # Get the optimal parameters from the VQE calculation result\n",
    "    print( f\"Interatomic Distance: {np.round(dist, 2)}\",\n",
    "            f\"VQE Result: {vqe_result:.5f}\",\n",
    "            f\"Exact Energy: {exact_energies[-1]:.5f}\" )\n",
    "\n",
    "optimal_parameters = vqe_calc.optimal_point\n",
    "\n",
    "# update QuantumCircuit with the optimal parameters\n",
    "vqe.ansatz.assign_parameters( optimal_parameters, inplace=True )\n",
    "\n",
    "optimal_parameters"
   ]
  },
  {
   "cell_type": "code",
   "execution_count": null,
   "metadata": {},
   "outputs": [],
   "source": [
    "plt.plot(distances, exact_energies, label=\"Exact Energy\")\n",
    "plt.plot(distances, vqe_energies, label=\"VQE Energy\")\n",
    "plt.title(\"Dissocation Curve of LiH\")\n",
    "plt.xlabel(\"Atomic distance (Angstrom)\")\n",
    "plt.ylabel(\"Energy\")\n",
    "plt.legend()\n",
    "plt.show()"
   ]
  },
  {
   "cell_type": "markdown",
   "metadata": {},
   "source": [
    "### Obtain similar plots (energy vs. interatomic distance) for the s-orbitals considered in the STO-3G setting (1s-1s, 2s-2s)."
   ]
  },
  {
   "cell_type": "code",
   "execution_count": null,
   "metadata": {},
   "outputs": [],
   "source": []
  },
  {
   "cell_type": "code",
   "execution_count": null,
   "metadata": {},
   "outputs": [],
   "source": []
  },
  {
   "cell_type": "code",
   "execution_count": null,
   "metadata": {},
   "outputs": [],
   "source": []
  },
  {
   "cell_type": "code",
   "execution_count": null,
   "metadata": {},
   "outputs": [
    {
     "name": "stdout",
     "output_type": "stream",
     "text": [
      "Number of qubits =  4\n",
      "The Hamiltonian is  -0.04207255194743914 * I(0) + 0.1777135822909175 * Z(0) + 0.1777135822909175 * Z(1) + 0.17059759276836803 * (Z(0) @ Z(1)) + -0.2427450126094143 * Z(2) + 0.12293330449299361 * (Z(0) @ Z(2)) + 0.16768338855601356 * (Z(1) @ Z(2)) + 0.044750084063019925 * (Y(0) @ X(1) @ X(2) @ Y(3)) + -0.044750084063019925 * (Y(0) @ Y(1) @ X(2) @ X(3)) + -0.044750084063019925 * (X(0) @ X(1) @ Y(2) @ Y(3)) + 0.044750084063019925 * (X(0) @ Y(1) @ Y(2) @ X(3)) + -0.2427450126094143 * Z(3) + 0.16768338855601356 * (Z(0) @ Z(3)) + 0.12293330449299361 * (Z(1) @ Z(3)) + 0.1762766139418181 * (Z(2) @ Z(3))\n"
     ]
    }
   ],
   "source": [
    "from pennylane import numpy as np\n",
    "import pennylane as qml\n",
    "\n",
    "symbols = [\"H\", \"H\"]\n",
    "# note: pennylane uses atomic units (Bohr radius), QISkit uses Angstroem!\n",
    "coordinates = np.array([0.0, 0.0, -0.6614, 0.0, 0.0, 0.6614])\n",
    "molecule = qml.qchem.Molecule(symbols, coordinates)\n",
    "H, qubits = qml.qchem.molecular_hamiltonian(molecule)\n",
    "print(\"Number of qubits = \", qubits)\n",
    "print(\"The Hamiltonian is \", H)"
   ]
  },
  {
   "cell_type": "code",
   "execution_count": null,
   "metadata": {},
   "outputs": [
    {
     "name": "stdout",
     "output_type": "stream",
     "text": [
      "[1 1 0 0]\n",
      "Step = 0,  Energy = -1.12799983 Ha\n",
      "Step = 2,  Energy = -1.13466246 Ha\n",
      "Step = 4,  Energy = -1.13590595 Ha\n",
      "Step = 6,  Energy = -1.13613667 Ha\n",
      "Step = 8,  Energy = -1.13617944 Ha\n",
      "Step = 10,  Energy = -1.13618736 Ha\n",
      "Step = 12,  Energy = -1.13618883 Ha\n",
      "\n",
      "Final value of the ground-state energy = -1.13618883 Ha\n",
      "\n",
      "Optimal value of the circuit parameter = 0.2089\n"
     ]
    }
   ],
   "source": [
    "###!pip install jax==0.4.33\n",
    "\n",
    "from jax import numpy as jnp\n",
    "import jax\n",
    "jax.config.update(\"jax_platform_name\", \"cpu\")\n",
    "jax.config.update('jax_enable_x64', True)\n",
    "\n",
    "dev = qml.device(\"lightning.qubit\", wires=qubits)\n",
    "\n",
    "electrons = 2\n",
    "hf = qml.qchem.hf_state(electrons, qubits)\n",
    "print(hf)\n",
    "\n",
    "@qml.qnode(dev, interface=\"jax\")\n",
    "def circuit(param, wires):\n",
    "    qml.BasisState(hf, wires=wires)\n",
    "    qml.DoubleExcitation(param, wires=range(4))\n",
    "    return qml.expval(H)\n",
    "\n",
    "# define a cost function = expectation value obtained in function *circuit*\n",
    "def cost_fn(param):\n",
    "    return circuit(param, wires=range(qubits))\n",
    "\n",
    "import optax \n",
    "opt = optax.sgd(learning_rate=0.4)\n",
    "\n",
    "max_iterations = 100\n",
    "conv_tol = 1e-06\n",
    "\n",
    "theta = np.array(0.)\n",
    "\n",
    "# store the values of the cost function\n",
    "energy = [cost_fn(theta)]\n",
    "\n",
    "# store the values of the circuit parameter\n",
    "angle = [theta]\n",
    "\n",
    "opt_state = opt.init(theta)\n",
    "\n",
    "for n in range(max_iterations):\n",
    "\n",
    "    gradient = jax.grad(cost_fn)(theta)\n",
    "    updates, opt_state = opt.update(gradient, opt_state)\n",
    "    theta = optax.apply_updates(theta, updates)\n",
    "\n",
    "    angle.append(theta)\n",
    "    energy.append(cost_fn(theta))\n",
    "\n",
    "    conv = np.abs(energy[-1] - energy[-2])\n",
    "\n",
    "    if n % 2 == 0:\n",
    "        print(f\"Step = {n},  Energy = {energy[-1]:.8f} Ha\")\n",
    "\n",
    "    if conv <= conv_tol:\n",
    "        break\n",
    "\n",
    "print(\"\\n\" f\"Final value of the ground-state energy = {energy[-1]:.8f} Ha\")\n",
    "print(\"\\n\" f\"Optimal value of the circuit parameter = {angle[-1]:.4f}\")"
   ]
  },
  {
   "cell_type": "code",
   "execution_count": null,
   "metadata": {},
   "outputs": [],
   "source": []
  }
 ],
 "metadata": {
  "kernelspec": {
   "display_name": "base",
   "language": "python",
   "name": "python3"
  },
  "language_info": {
   "codemirror_mode": {
    "name": "ipython",
    "version": 3
   },
   "file_extension": ".py",
   "mimetype": "text/x-python",
   "name": "python",
   "nbconvert_exporter": "python",
   "pygments_lexer": "ipython3",
   "version": "3.12.4"
  }
 },
 "nbformat": 4,
 "nbformat_minor": 2
}
