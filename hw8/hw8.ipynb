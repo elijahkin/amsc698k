{
 "cells": [
  {
   "cell_type": "markdown",
   "id": "7574b5a1",
   "metadata": {},
   "source": [
    "# AMSC698K Homework 8\n",
    "##### Elijah Kin & Noorain Noorani"
   ]
  },
  {
   "cell_type": "code",
   "execution_count": null,
   "id": "e5357afa",
   "metadata": {},
   "outputs": [],
   "source": [
    "# TODO"
   ]
  },
  {
   "cell_type": "markdown",
   "id": "096e0415",
   "metadata": {},
   "source": [
    "### Problem 1\n",
    "Portfolio optimization is being considered as one of the early applications of quantum computing. You may use data providers or the csv files on the [google drive](https://drive.google.com/drive/u/1/folders/1PTjiX00a446ZF_44bceq7Lrmn1tST7rh). Choose historical data for 12 stocks for the years 2015, 2017, 2019 and find the 4 stocks with best equalized returns (i.e. relative to their initial value). For each part of the problem compare these 3 optimization methods: (a) a classical minimizer, (b) VQE, (c) QAOA.\n",
    "\n",
    "1.A) Analyze the portfolio and compare to market (stocks that were not selected) using the historical data of all 3 years together;"
   ]
  },
  {
   "cell_type": "code",
   "execution_count": null,
   "id": "a1c885c4",
   "metadata": {},
   "outputs": [],
   "source": [
    "# TODO"
   ]
  },
  {
   "cell_type": "markdown",
   "id": "77fc3a58",
   "metadata": {},
   "source": [
    "1.B) Analyze the portfolio and compare to market when optimizing the portfolio for each year separately."
   ]
  },
  {
   "cell_type": "code",
   "execution_count": null,
   "id": "07c97f2f",
   "metadata": {},
   "outputs": [],
   "source": [
    "# TODO"
   ]
  },
  {
   "cell_type": "markdown",
   "id": "af5b590e",
   "metadata": {},
   "source": [
    "### Problem 2\n",
    "For this study you may choose the same 12 stocks or random data for 12 datasets over 1 year.\n",
    "\n",
    "2.A) Compare the outcome and convergence speed using VQE for 4 variational forms:\n",
    "\n",
    "1. 2 sets of rotation and entanglement blocks using only parametrized Ry-gates for each qubit in each rotation block and CX-gates in linear arrangement (CX(qi,qj) for all j=i+1) for entanglement.\n",
    "2. 4 sets of rotation and entanglement layers using only parametrized Ry-gates for each qubit in each rotation block and CX-gates in linear arrangement for entanglement.\n",
    "3. 2 sets of rotation and entanglement layers using parametrized Ry-gates and Rz-gates for each qubit in each rotation block and CX-gates in full arrangement (CX(qi,qj) for all combination of i,j) for entanglement.\n",
    "4. 4 sets of rotation and entanglement layers using parametrized Ry-gates ad Rz-gates for each qubit in each rotation block and CX-gates in full arrangement for entanglement."
   ]
  },
  {
   "cell_type": "code",
   "execution_count": null,
   "id": "6dec79a9",
   "metadata": {},
   "outputs": [],
   "source": [
    "# TODO"
   ]
  },
  {
   "cell_type": "markdown",
   "id": "4130493e",
   "metadata": {},
   "source": [
    "2.B) Compare outcome and convergence speed of part 2.A with an optimization using QAOA with 2 and 4 layers."
   ]
  },
  {
   "cell_type": "code",
   "execution_count": null,
   "id": "c3e8e52e",
   "metadata": {},
   "outputs": [],
   "source": [
    "# TODO"
   ]
  }
 ],
 "metadata": {
  "language_info": {
   "name": "python"
  }
 },
 "nbformat": 4,
 "nbformat_minor": 5
}
