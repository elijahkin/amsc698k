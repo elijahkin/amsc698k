{
 "cells": [
  {
   "cell_type": "markdown",
   "id": "73fecf55",
   "metadata": {},
   "source": [
    "# AMSC698K Homework 11\n",
    "##### Elijah Kin"
   ]
  },
  {
   "cell_type": "code",
   "execution_count": 1,
   "id": "7e6862fb",
   "metadata": {},
   "outputs": [],
   "source": [
    "# TODO"
   ]
  },
  {
   "cell_type": "markdown",
   "id": "a4a90163",
   "metadata": {},
   "source": [
    "### Problem A\n",
    "Notebook `QHED_intro.ipynb` introduces a quantum algorithm to extract color boundaries (edges) in images. The 512x512-pixel gray-tone picture at the end (`qhed_image.jpg`) features strong contours, which are easy to identify.\n",
    "\n",
    "1. Identify the edges in this picture using a classical and a quantum technique. If your laptop doesn't enough RAM, you might need to divide the image into 4 sub-images, analyze each of them, and add the results to yield the edge image."
   ]
  },
  {
   "cell_type": "code",
   "execution_count": 2,
   "id": "09154b0c",
   "metadata": {},
   "outputs": [],
   "source": [
    "# TODO"
   ]
  },
  {
   "cell_type": "markdown",
   "id": "40b1d80d",
   "metadata": {},
   "source": [
    "2. Run your quantum circuit on \"ionq_simulator\" with noise-model \"forte-1\", adjust thresholds (tolerances) if necessary, and submit the code to \"ionq_qpu.forte-1\"."
   ]
  },
  {
   "cell_type": "code",
   "execution_count": 3,
   "id": "c3082d43",
   "metadata": {},
   "outputs": [],
   "source": [
    "# TODO"
   ]
  },
  {
   "cell_type": "markdown",
   "id": "f6430453",
   "metadata": {},
   "source": [
    "### Problem B\n",
    "1. Notebook `FER_intro.ipynb` contains a simple code to perform an analysis of facial expressions. The routine \"faces_classifier\" simply compares a test image with one random example of the \"happy face\" subset and one of the \"sad face\" subset. Find more reliable ways to classify a random test image. (You may modify the quantum circuit if desired.)"
   ]
  },
  {
   "cell_type": "code",
   "execution_count": 4,
   "id": "6be5824c",
   "metadata": {},
   "outputs": [],
   "source": [
    "# TODO"
   ]
  },
  {
   "cell_type": "markdown",
   "id": "be71a713",
   "metadata": {},
   "source": [
    "2. Explain how the quantum circuit (pictured in `FER_intro.ipynb`) performs the classification starting from the state $|0\\rangle_{aux} |0\\rangle_{index} |00\\dots0\\rangle_{data} |0\\rangle_{class}$."
   ]
  },
  {
   "cell_type": "markdown",
   "id": "7d96e502",
   "metadata": {},
   "source": [
    "TODO"
   ]
  },
  {
   "cell_type": "markdown",
   "id": "69212ce6",
   "metadata": {},
   "source": [
    "3. (extra credit) Instead of using the small subset of \"happy\" and \"sad\" faces presented in class (file: ffhq_subset.zip Download ffhq_subset.zip) find a way to classify reliably the larger set of FFHQ images and landmark points in Files -> Course Material -> Homework."
   ]
  },
  {
   "cell_type": "code",
   "execution_count": 5,
   "id": "ebbdbcca",
   "metadata": {},
   "outputs": [],
   "source": [
    "# TODO"
   ]
  }
 ],
 "metadata": {
  "kernelspec": {
   "display_name": "Python 3",
   "language": "python",
   "name": "python3"
  },
  "language_info": {
   "codemirror_mode": {
    "name": "ipython",
    "version": 3
   },
   "file_extension": ".py",
   "mimetype": "text/x-python",
   "name": "python",
   "nbconvert_exporter": "python",
   "pygments_lexer": "ipython3",
   "version": "3.9.5"
  }
 },
 "nbformat": 4,
 "nbformat_minor": 5
}
